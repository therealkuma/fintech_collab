{
 "cells": [
  {
   "cell_type": "code",
   "execution_count": 60,
   "id": "5c016e2e-908f-4746-a4bd-a7f0ddeb2e2c",
   "metadata": {},
   "outputs": [
    {
     "name": "stdout",
     "output_type": "stream",
     "text": [
      "        Origination_Date Purchase_Date  Sold_Date     Segment  Term   Status  \\\n",
      "Loan ID                                                                        \n",
      "131223        2020-01-15    2022-02-11        NaN  NEAR_PRIME    36   CLOSED   \n",
      "971875        2021-12-30    2022-01-03        NaN  NEAR_PRIME    36  Current   \n",
      "112774        2021-12-30    2022-01-03        NaN  NEAR_PRIME    36  Current   \n",
      "659070        2022-01-10    2022-01-13        NaN       PRIME    60  Current   \n",
      "399956        2021-12-29    2022-01-03        NaN  NEAR_PRIME    36  Current   \n",
      "\n",
      "         Days_Past_Due  Loan_Amount  Beginning_Period_Principal_Outstanding  \\\n",
      "Loan ID                                                                       \n",
      "131223             122         6000                                    0.00   \n",
      "971875               0        25000                                21611.50   \n",
      "112774               0        10000                                 8949.94   \n",
      "659070               0        13000                                12165.50   \n",
      "399956               0        20593                                18172.16   \n",
      "\n",
      "         Ending_Principal_Outstanding  ...  Loan_Trailing_Fee  Category  \\\n",
      "Loan ID                                ...                                \n",
      "131223                           0.00  ...                0.0       HFI   \n",
      "971875                       21017.06  ...                0.0       HFS   \n",
      "112774                        8708.32  ...                0.0       HFS   \n",
      "659070                       11993.26  ...                0.0       HFS   \n",
      "399956                       17190.22  ...                0.0       HFS   \n",
      "\n",
      "         Onboarding_Loans  Charge_offs        Loan_Segment  FICO_Range  \\\n",
      "Loan ID                                                                  \n",
      "131223                NaN          0.0  Debt Consolidation     700-750   \n",
      "971875                NaN          0.0  Debt Consolidation        >750   \n",
      "112774                NaN          0.0  Debt Consolidation        >750   \n",
      "659070                NaN          0.0  Debt Consolidation        <625   \n",
      "399956                NaN          0.0  Debt Consolidation     650-700   \n",
      "\n",
      "             Region  Gender  Employment_Type  Market_Channel  \n",
      "Loan ID                                                       \n",
      "131223     Mid West    Male            Other           Phone  \n",
      "971875     Mid West    Male    Self-Employed          Online  \n",
      "112774     Mid West    Male        Full-Time  Email-Campaign  \n",
      "659070         East    Male        Full-Time          Online  \n",
      "399956   North West    Male        Full-Time           Phone  \n",
      "\n",
      "[5 rows x 30 columns]\n"
     ]
    }
   ],
   "source": [
    "import pandas as pd\n",
    "import numpy as np\n",
    "from datetime import datetime, timedelta\n",
    "from pathlib import Path\n",
    "from hvplot import pandas\n",
    "\n",
    "loan_data = Path(\"../fintech_collab/loan_data.xlsx\")\n",
    "\n",
    "loan_df = pd.read_excel(loan_data, header=0, index_col=\"Loan ID\")\n",
    "\n",
    "#loan_df['Purchase_Date'] = (datetime.utcfromtimestamp(0) + timedelta(loan_df['Purchase Date']).strftime(\"%Y-%m-%d\"))\n",
    "loan_df.columns = loan_df.columns.str.strip()\n",
    "loan_df.columns =loan_df.columns.str.replace(' ','_')\n",
    "print (loan_df.head())"
   ]
  },
  {
   "cell_type": "code",
   "execution_count": 61,
   "id": "64029406-6f94-4ced-afba-f2b2b2bdd7de",
   "metadata": {},
   "outputs": [
    {
     "data": {
      "text/plain": [
       "Region\n",
       "East          361403.34\n",
       "Mid West      441732.92\n",
       "North West    411583.04\n",
       "South         393637.58\n",
       "West          387540.61\n",
       "Name: Total_Payments_Received, dtype: float64"
      ]
     },
     "execution_count": 61,
     "metadata": {},
     "output_type": "execute_result"
    }
   ],
   "source": [
    "# Create a numerical aggregation that groups the data by the region and then averages the results.\n",
    "payments_by_region= loan_df.groupby('Region')['Total_Payments_Received'].sum()\n",
    "\n",
    "# Review the DataFrame\n",
    "payments_by_region"
   ]
  },
  {
   "cell_type": "code",
   "execution_count": 68,
   "id": "f14049c8-f98c-4095-a1b3-c15aff2b809c",
   "metadata": {},
   "outputs": [
    {
     "data": {},
     "metadata": {},
     "output_type": "display_data"
    },
    {
     "data": {
      "application/vnd.holoviews_exec.v0+json": "",
      "text/html": [
       "<div id='2938'>\n",
       "\n",
       "\n",
       "\n",
       "\n",
       "\n",
       "  <div class=\"bk-root\" id=\"077526e8-72bb-4a0f-8ae6-bb78aff80552\" data-root-id=\"2938\"></div>\n",
       "</div>\n",
       "<script type=\"application/javascript\">(function(root) {\n",
       "  function embed_document(root) {\n",
       "    var docs_json = {\"889a656f-f816-410f-aace-dc53c3d6a48e\":{\"defs\":[{\"extends\":null,\"module\":null,\"name\":\"ReactiveHTML1\",\"overrides\":[],\"properties\":[]},{\"extends\":null,\"module\":null,\"name\":\"FlexBox1\",\"overrides\":[],\"properties\":[{\"default\":\"flex-start\",\"kind\":null,\"name\":\"align_content\"},{\"default\":\"flex-start\",\"kind\":null,\"name\":\"align_items\"},{\"default\":\"row\",\"kind\":null,\"name\":\"flex_direction\"},{\"default\":\"wrap\",\"kind\":null,\"name\":\"flex_wrap\"},{\"default\":\"flex-start\",\"kind\":null,\"name\":\"justify_content\"}]},{\"extends\":null,\"module\":null,\"name\":\"GridStack1\",\"overrides\":[],\"properties\":[{\"default\":\"warn\",\"kind\":null,\"name\":\"mode\"},{\"default\":null,\"kind\":null,\"name\":\"ncols\"},{\"default\":null,\"kind\":null,\"name\":\"nrows\"},{\"default\":true,\"kind\":null,\"name\":\"allow_resize\"},{\"default\":true,\"kind\":null,\"name\":\"allow_drag\"},{\"default\":[],\"kind\":null,\"name\":\"state\"}]},{\"extends\":null,\"module\":null,\"name\":\"click1\",\"overrides\":[],\"properties\":[{\"default\":\"\",\"kind\":null,\"name\":\"terminal_output\"},{\"default\":\"\",\"kind\":null,\"name\":\"debug_name\"},{\"default\":0,\"kind\":null,\"name\":\"clears\"}]},{\"extends\":null,\"module\":null,\"name\":\"TemplateActions1\",\"overrides\":[],\"properties\":[{\"default\":0,\"kind\":null,\"name\":\"open_modal\"},{\"default\":0,\"kind\":null,\"name\":\"close_modal\"}]},{\"extends\":null,\"module\":null,\"name\":\"MaterialTemplateActions1\",\"overrides\":[],\"properties\":[{\"default\":0,\"kind\":null,\"name\":\"open_modal\"},{\"default\":0,\"kind\":null,\"name\":\"close_modal\"}]}],\"roots\":{\"references\":[{\"attributes\":{\"below\":[{\"id\":\"2952\"}],\"center\":[{\"id\":\"2954\"},{\"id\":\"2958\"}],\"height\":300,\"left\":[{\"id\":\"2955\"}],\"margin\":[5,5,5,5],\"min_border_bottom\":10,\"min_border_left\":10,\"min_border_right\":10,\"min_border_top\":10,\"renderers\":[{\"id\":\"2978\"}],\"sizing_mode\":\"fixed\",\"title\":{\"id\":\"2944\"},\"toolbar\":{\"id\":\"2965\"},\"width\":700,\"x_range\":{\"id\":\"2940\"},\"x_scale\":{\"id\":\"2948\"},\"y_range\":{\"id\":\"2941\"},\"y_scale\":{\"id\":\"2950\"}},\"id\":\"2943\",\"subtype\":\"Figure\",\"type\":\"Plot\"},{\"attributes\":{},\"id\":\"2959\",\"type\":\"SaveTool\"},{\"attributes\":{\"overlay\":{\"id\":\"2964\"}},\"id\":\"2962\",\"type\":\"BoxZoomTool\"},{\"attributes\":{\"axis_label\":\"\",\"coordinates\":null,\"formatter\":{\"id\":\"2985\"},\"group\":null,\"major_label_policy\":{\"id\":\"2986\"},\"ticker\":{\"id\":\"2956\"}},\"id\":\"2955\",\"type\":\"LinearAxis\"},{\"attributes\":{},\"id\":\"2983\",\"type\":\"AllLabels\"},{\"attributes\":{\"data\":{\"Region\":[\"East\",\"Mid West\",\"North West\",\"South\",\"West\"],\"Total_Payments_Received\":{\"__ndarray__\":\"wvUoXO0OFkHhehSuE/YaQY/C9Sj8HhlBH4XrUZYGGEEK16NwUqcXQQ==\",\"dtype\":\"float64\",\"order\":\"little\",\"shape\":[5]}},\"selected\":{\"id\":\"2973\"},\"selection_policy\":{\"id\":\"2994\"}},\"id\":\"2972\",\"type\":\"ColumnDataSource\"},{\"attributes\":{\"bottom_units\":\"screen\",\"coordinates\":null,\"fill_alpha\":0.5,\"fill_color\":\"lightgrey\",\"group\":null,\"left_units\":\"screen\",\"level\":\"overlay\",\"line_alpha\":1.0,\"line_color\":\"black\",\"line_dash\":[4,4],\"line_width\":2,\"right_units\":\"screen\",\"syncable\":false,\"top_units\":\"screen\"},\"id\":\"2964\",\"type\":\"BoxAnnotation\"},{\"attributes\":{\"source\":{\"id\":\"2972\"}},\"id\":\"2979\",\"type\":\"CDSView\"},{\"attributes\":{\"bottom\":{\"value\":0},\"fill_alpha\":{\"value\":1.0},\"fill_color\":{\"value\":\"#30a2da\"},\"hatch_alpha\":{\"value\":1.0},\"hatch_color\":{\"value\":\"#30a2da\"},\"hatch_scale\":{\"value\":12.0},\"hatch_weight\":{\"value\":1.0},\"line_alpha\":{\"value\":1.0},\"line_cap\":{\"value\":\"butt\"},\"line_color\":{\"value\":\"black\"},\"line_dash\":{\"value\":[]},\"line_dash_offset\":{\"value\":0},\"line_join\":{\"value\":\"bevel\"},\"line_width\":{\"value\":1},\"top\":{\"field\":\"Total_Payments_Received\"},\"width\":{\"value\":0.8},\"x\":{\"field\":\"Region\"}},\"id\":\"2980\",\"type\":\"VBar\"},{\"attributes\":{\"tools\":[{\"id\":\"2942\"},{\"id\":\"2959\"},{\"id\":\"2960\"},{\"id\":\"2961\"},{\"id\":\"2962\"},{\"id\":\"2963\"}]},\"id\":\"2965\",\"type\":\"Toolbar\"},{\"attributes\":{\"callback\":null,\"renderers\":[{\"id\":\"2978\"}],\"tags\":[\"hv_created\"],\"tooltips\":[[\"Region\",\"@{Region}\"],[\"Total_Payments_Received\",\"@{Total_Payments_Received}\"]]},\"id\":\"2942\",\"type\":\"HoverTool\"},{\"attributes\":{},\"id\":\"2985\",\"type\":\"BasicTickFormatter\"},{\"attributes\":{\"fill_alpha\":{\"value\":0.2},\"fill_color\":{\"value\":\"#30a2da\"},\"hatch_alpha\":{\"value\":0.2},\"hatch_color\":{\"value\":\"#30a2da\"},\"line_alpha\":{\"value\":0.2},\"top\":{\"field\":\"Total_Payments_Received\"},\"width\":{\"value\":0.8},\"x\":{\"field\":\"Region\"}},\"id\":\"2977\",\"type\":\"VBar\"},{\"attributes\":{\"fill_color\":{\"value\":\"#30a2da\"},\"hatch_color\":{\"value\":\"#30a2da\"},\"top\":{\"field\":\"Total_Payments_Received\"},\"width\":{\"value\":0.8},\"x\":{\"field\":\"Region\"}},\"id\":\"2975\",\"type\":\"VBar\"},{\"attributes\":{\"coordinates\":null,\"group\":null,\"text\":\"Total Payments by Region\",\"text_color\":\"black\",\"text_font_size\":\"12pt\"},\"id\":\"2944\",\"type\":\"Title\"},{\"attributes\":{},\"id\":\"2973\",\"type\":\"Selection\"},{\"attributes\":{\"margin\":[5,5,5,5],\"name\":\"HSpacer04921\",\"sizing_mode\":\"stretch_width\"},\"id\":\"3007\",\"type\":\"Spacer\"},{\"attributes\":{},\"id\":\"2948\",\"type\":\"CategoricalScale\"},{\"attributes\":{},\"id\":\"2956\",\"type\":\"BasicTicker\"},{\"attributes\":{\"axis_label\":\"Region\",\"coordinates\":null,\"formatter\":{\"id\":\"2982\"},\"group\":null,\"major_label_policy\":{\"id\":\"2983\"},\"ticker\":{\"id\":\"2953\"}},\"id\":\"2952\",\"type\":\"CategoricalAxis\"},{\"attributes\":{},\"id\":\"2961\",\"type\":\"WheelZoomTool\"},{\"attributes\":{},\"id\":\"2986\",\"type\":\"AllLabels\"},{\"attributes\":{\"axis\":{\"id\":\"2952\"},\"coordinates\":null,\"grid_line_color\":null,\"group\":null,\"ticker\":null},\"id\":\"2954\",\"type\":\"Grid\"},{\"attributes\":{},\"id\":\"2994\",\"type\":\"UnionRenderers\"},{\"attributes\":{\"children\":[{\"id\":\"2939\"},{\"id\":\"2943\"},{\"id\":\"3007\"}],\"margin\":[0,0,0,0],\"name\":\"Row04916\",\"tags\":[\"embedded\"]},\"id\":\"2938\",\"type\":\"Row\"},{\"attributes\":{\"fill_alpha\":{\"value\":0.1},\"fill_color\":{\"value\":\"#30a2da\"},\"hatch_alpha\":{\"value\":0.1},\"hatch_color\":{\"value\":\"#30a2da\"},\"line_alpha\":{\"value\":0.1},\"top\":{\"field\":\"Total_Payments_Received\"},\"width\":{\"value\":0.8},\"x\":{\"field\":\"Region\"}},\"id\":\"2976\",\"type\":\"VBar\"},{\"attributes\":{\"axis\":{\"id\":\"2955\"},\"coordinates\":null,\"dimension\":1,\"grid_line_color\":null,\"group\":null,\"ticker\":null},\"id\":\"2958\",\"type\":\"Grid\"},{\"attributes\":{},\"id\":\"2982\",\"type\":\"CategoricalTickFormatter\"},{\"attributes\":{},\"id\":\"2960\",\"type\":\"PanTool\"},{\"attributes\":{},\"id\":\"2963\",\"type\":\"ResetTool\"},{\"attributes\":{\"end\":449765.87799999997,\"reset_end\":449765.87799999997,\"reset_start\":0.0,\"tags\":[[[\"Total_Payments_Received\",\"Total_Payments_Received\",null]]]},\"id\":\"2941\",\"type\":\"Range1d\"},{\"attributes\":{\"coordinates\":null,\"data_source\":{\"id\":\"2972\"},\"glyph\":{\"id\":\"2975\"},\"group\":null,\"hover_glyph\":null,\"muted_glyph\":{\"id\":\"2977\"},\"nonselection_glyph\":{\"id\":\"2976\"},\"selection_glyph\":{\"id\":\"2980\"},\"view\":{\"id\":\"2979\"}},\"id\":\"2978\",\"type\":\"GlyphRenderer\"},{\"attributes\":{},\"id\":\"2950\",\"type\":\"LinearScale\"},{\"attributes\":{\"margin\":[5,5,5,5],\"name\":\"HSpacer04920\",\"sizing_mode\":\"stretch_width\"},\"id\":\"2939\",\"type\":\"Spacer\"},{\"attributes\":{},\"id\":\"2953\",\"type\":\"CategoricalTicker\"},{\"attributes\":{\"factors\":[\"East\",\"Mid West\",\"North West\",\"South\",\"West\"],\"tags\":[[[\"Region\",\"Region\",null]]]},\"id\":\"2940\",\"type\":\"FactorRange\"}],\"root_ids\":[\"2938\"]},\"title\":\"Bokeh Application\",\"version\":\"2.4.2\"}};\n",
       "    var render_items = [{\"docid\":\"889a656f-f816-410f-aace-dc53c3d6a48e\",\"root_ids\":[\"2938\"],\"roots\":{\"2938\":\"077526e8-72bb-4a0f-8ae6-bb78aff80552\"}}];\n",
       "    root.Bokeh.embed.embed_items_notebook(docs_json, render_items);\n",
       "  }\n",
       "  if (root.Bokeh !== undefined && root.Bokeh.Panel !== undefined) {\n",
       "    embed_document(root);\n",
       "  } else {\n",
       "    var attempts = 0;\n",
       "    var timer = setInterval(function(root) {\n",
       "      if (root.Bokeh !== undefined && root.Bokeh.Panel !== undefined) {\n",
       "        clearInterval(timer);\n",
       "        embed_document(root);\n",
       "      } else if (document.readyState == \"complete\") {\n",
       "        attempts++;\n",
       "        if (attempts > 200) {\n",
       "          clearInterval(timer);\n",
       "          console.log(\"Bokeh: ERROR: Unable to run BokehJS code because BokehJS library is missing\");\n",
       "        }\n",
       "      }\n",
       "    }, 25, root)\n",
       "  }\n",
       "})(window);</script>"
      ],
      "text/plain": [
       ":Bars   [Region]   (Total_Payments_Received)"
      ]
     },
     "execution_count": 68,
     "metadata": {
      "application/vnd.holoviews_exec.v0+json": {
       "id": "2938"
      }
     },
     "output_type": "execute_result"
    }
   ],
   "source": [
    "# Create a visual aggregation explore the Total Payments by Region\n",
    "payments_by_region.hvplot.bar( xlabel='Regions', ylabel='Payments', color=\"blue\", rot=45)\n",
    "\n",
    "payments_by_region.hvplot.bar(title=\"Total Payments by Region\")"
   ]
  },
  {
   "cell_type": "code",
   "execution_count": 69,
   "id": "b03c2681-5dc9-4767-945f-008d21634ff6",
   "metadata": {},
   "outputs": [],
   "source": [
    "#payment_df_bar\n"
   ]
  },
  {
   "cell_type": "code",
   "execution_count": 70,
   "id": "86a51fb2-1f08-4604-9a78-971f68565dbf",
   "metadata": {},
   "outputs": [
    {
     "data": {
      "text/plain": [
       "Region\n",
       "East          88489.03\n",
       "Mid West      91301.08\n",
       "North West    86075.39\n",
       "South         95602.02\n",
       "West          86258.67\n",
       "Name: Interest_Paid, dtype: float64"
      ]
     },
     "execution_count": 70,
     "metadata": {},
     "output_type": "execute_result"
    }
   ],
   "source": [
    "# Create a numerical aggregation that groups the data by the year and then averages the results.\n",
    "interest_by_region = loan_df.groupby('Region')['Interest_Paid'].sum()\n",
    "\n",
    "# Review the DataFrame\n",
    "interest_by_region"
   ]
  },
  {
   "cell_type": "code",
   "execution_count": 71,
   "id": "ace29803-ad0e-402f-bc18-91a484b2802d",
   "metadata": {},
   "outputs": [
    {
     "data": {},
     "metadata": {},
     "output_type": "display_data"
    },
    {
     "data": {
      "application/vnd.holoviews_exec.v0+json": "",
      "text/html": [
       "<div id='3059'>\n",
       "\n",
       "\n",
       "\n",
       "\n",
       "\n",
       "  <div class=\"bk-root\" id=\"2ec2d352-5f84-40bc-b55e-9982b1ffac66\" data-root-id=\"3059\"></div>\n",
       "</div>\n",
       "<script type=\"application/javascript\">(function(root) {\n",
       "  function embed_document(root) {\n",
       "    var docs_json = {\"8299dbf2-b97f-438c-ab43-5523ed2888c5\":{\"defs\":[{\"extends\":null,\"module\":null,\"name\":\"ReactiveHTML1\",\"overrides\":[],\"properties\":[]},{\"extends\":null,\"module\":null,\"name\":\"FlexBox1\",\"overrides\":[],\"properties\":[{\"default\":\"flex-start\",\"kind\":null,\"name\":\"align_content\"},{\"default\":\"flex-start\",\"kind\":null,\"name\":\"align_items\"},{\"default\":\"row\",\"kind\":null,\"name\":\"flex_direction\"},{\"default\":\"wrap\",\"kind\":null,\"name\":\"flex_wrap\"},{\"default\":\"flex-start\",\"kind\":null,\"name\":\"justify_content\"}]},{\"extends\":null,\"module\":null,\"name\":\"GridStack1\",\"overrides\":[],\"properties\":[{\"default\":\"warn\",\"kind\":null,\"name\":\"mode\"},{\"default\":null,\"kind\":null,\"name\":\"ncols\"},{\"default\":null,\"kind\":null,\"name\":\"nrows\"},{\"default\":true,\"kind\":null,\"name\":\"allow_resize\"},{\"default\":true,\"kind\":null,\"name\":\"allow_drag\"},{\"default\":[],\"kind\":null,\"name\":\"state\"}]},{\"extends\":null,\"module\":null,\"name\":\"click1\",\"overrides\":[],\"properties\":[{\"default\":\"\",\"kind\":null,\"name\":\"terminal_output\"},{\"default\":\"\",\"kind\":null,\"name\":\"debug_name\"},{\"default\":0,\"kind\":null,\"name\":\"clears\"}]},{\"extends\":null,\"module\":null,\"name\":\"TemplateActions1\",\"overrides\":[],\"properties\":[{\"default\":0,\"kind\":null,\"name\":\"open_modal\"},{\"default\":0,\"kind\":null,\"name\":\"close_modal\"}]},{\"extends\":null,\"module\":null,\"name\":\"MaterialTemplateActions1\",\"overrides\":[],\"properties\":[{\"default\":0,\"kind\":null,\"name\":\"open_modal\"},{\"default\":0,\"kind\":null,\"name\":\"close_modal\"}]}],\"roots\":{\"references\":[{\"attributes\":{},\"id\":\"3071\",\"type\":\"LinearScale\"},{\"attributes\":{},\"id\":\"3082\",\"type\":\"WheelZoomTool\"},{\"attributes\":{\"coordinates\":null,\"data_source\":{\"id\":\"3093\"},\"glyph\":{\"id\":\"3096\"},\"group\":null,\"hover_glyph\":null,\"muted_glyph\":{\"id\":\"3098\"},\"nonselection_glyph\":{\"id\":\"3097\"},\"selection_glyph\":{\"id\":\"3101\"},\"view\":{\"id\":\"3100\"}},\"id\":\"3099\",\"type\":\"GlyphRenderer\"},{\"attributes\":{\"fill_color\":{\"value\":\"#30a2da\"},\"hatch_color\":{\"value\":\"#30a2da\"},\"top\":{\"field\":\"Interest_Paid\"},\"width\":{\"value\":0.8},\"x\":{\"field\":\"Region\"}},\"id\":\"3096\",\"type\":\"VBar\"},{\"attributes\":{\"fill_alpha\":{\"value\":0.1},\"fill_color\":{\"value\":\"#30a2da\"},\"hatch_alpha\":{\"value\":0.1},\"hatch_color\":{\"value\":\"#30a2da\"},\"line_alpha\":{\"value\":0.1},\"top\":{\"field\":\"Interest_Paid\"},\"width\":{\"value\":0.8},\"x\":{\"field\":\"Region\"}},\"id\":\"3097\",\"type\":\"VBar\"},{\"attributes\":{\"factors\":[\"East\",\"Mid West\",\"North West\",\"South\",\"West\"],\"tags\":[[[\"Region\",\"Region\",null]]]},\"id\":\"3061\",\"type\":\"FactorRange\"},{\"attributes\":{},\"id\":\"3115\",\"type\":\"UnionRenderers\"},{\"attributes\":{},\"id\":\"3094\",\"type\":\"Selection\"},{\"attributes\":{},\"id\":\"3084\",\"type\":\"ResetTool\"},{\"attributes\":{},\"id\":\"3074\",\"type\":\"CategoricalTicker\"},{\"attributes\":{},\"id\":\"3069\",\"type\":\"CategoricalScale\"},{\"attributes\":{},\"id\":\"3103\",\"type\":\"CategoricalTickFormatter\"},{\"attributes\":{\"coordinates\":null,\"group\":null,\"text\":\"Total Interest Payments by Region\",\"text_color\":\"black\",\"text_font_size\":\"12pt\"},\"id\":\"3065\",\"type\":\"Title\"},{\"attributes\":{\"tools\":[{\"id\":\"3063\"},{\"id\":\"3080\"},{\"id\":\"3081\"},{\"id\":\"3082\"},{\"id\":\"3083\"},{\"id\":\"3084\"}]},\"id\":\"3086\",\"type\":\"Toolbar\"},{\"attributes\":{\"callback\":null,\"renderers\":[{\"id\":\"3099\"}],\"tags\":[\"hv_created\"],\"tooltips\":[[\"Region\",\"@{Region}\"],[\"Interest_Paid\",\"@{Interest_Paid}\"]]},\"id\":\"3063\",\"type\":\"HoverTool\"},{\"attributes\":{},\"id\":\"3104\",\"type\":\"AllLabels\"},{\"attributes\":{},\"id\":\"3077\",\"type\":\"BasicTicker\"},{\"attributes\":{\"axis\":{\"id\":\"3076\"},\"coordinates\":null,\"dimension\":1,\"grid_line_color\":null,\"group\":null,\"ticker\":null},\"id\":\"3079\",\"type\":\"Grid\"},{\"attributes\":{\"margin\":[5,5,5,5],\"name\":\"HSpacer05142\",\"sizing_mode\":\"stretch_width\"},\"id\":\"3060\",\"type\":\"Spacer\"},{\"attributes\":{\"below\":[{\"id\":\"3073\"}],\"center\":[{\"id\":\"3075\"},{\"id\":\"3079\"}],\"height\":300,\"left\":[{\"id\":\"3076\"}],\"margin\":[5,5,5,5],\"min_border_bottom\":10,\"min_border_left\":10,\"min_border_right\":10,\"min_border_top\":10,\"renderers\":[{\"id\":\"3099\"}],\"sizing_mode\":\"fixed\",\"title\":{\"id\":\"3065\"},\"toolbar\":{\"id\":\"3086\"},\"width\":700,\"x_range\":{\"id\":\"3061\"},\"x_scale\":{\"id\":\"3069\"},\"y_range\":{\"id\":\"3062\"},\"y_scale\":{\"id\":\"3071\"}},\"id\":\"3064\",\"subtype\":\"Figure\",\"type\":\"Plot\"},{\"attributes\":{\"axis_label\":\"\",\"coordinates\":null,\"formatter\":{\"id\":\"3106\"},\"group\":null,\"major_label_policy\":{\"id\":\"3107\"},\"ticker\":{\"id\":\"3077\"}},\"id\":\"3076\",\"type\":\"LinearAxis\"},{\"attributes\":{\"overlay\":{\"id\":\"3085\"}},\"id\":\"3083\",\"type\":\"BoxZoomTool\"},{\"attributes\":{\"bottom\":{\"value\":0},\"fill_alpha\":{\"value\":1.0},\"fill_color\":{\"value\":\"#30a2da\"},\"hatch_alpha\":{\"value\":1.0},\"hatch_color\":{\"value\":\"#30a2da\"},\"hatch_scale\":{\"value\":12.0},\"hatch_weight\":{\"value\":1.0},\"line_alpha\":{\"value\":1.0},\"line_cap\":{\"value\":\"butt\"},\"line_color\":{\"value\":\"black\"},\"line_dash\":{\"value\":[]},\"line_dash_offset\":{\"value\":0},\"line_join\":{\"value\":\"bevel\"},\"line_width\":{\"value\":1},\"top\":{\"field\":\"Interest_Paid\"},\"width\":{\"value\":0.8},\"x\":{\"field\":\"Region\"}},\"id\":\"3101\",\"type\":\"VBar\"},{\"attributes\":{\"bottom_units\":\"screen\",\"coordinates\":null,\"fill_alpha\":0.5,\"fill_color\":\"lightgrey\",\"group\":null,\"left_units\":\"screen\",\"level\":\"overlay\",\"line_alpha\":1.0,\"line_color\":\"black\",\"line_dash\":[4,4],\"line_width\":2,\"right_units\":\"screen\",\"syncable\":false,\"top_units\":\"screen\"},\"id\":\"3085\",\"type\":\"BoxAnnotation\"},{\"attributes\":{\"children\":[{\"id\":\"3060\"},{\"id\":\"3064\"},{\"id\":\"3128\"}],\"margin\":[0,0,0,0],\"name\":\"Row05138\",\"tags\":[\"embedded\"]},\"id\":\"3059\",\"type\":\"Row\"},{\"attributes\":{\"axis\":{\"id\":\"3073\"},\"coordinates\":null,\"grid_line_color\":null,\"group\":null,\"ticker\":null},\"id\":\"3075\",\"type\":\"Grid\"},{\"attributes\":{\"end\":96554.683,\"reset_end\":96554.683,\"reset_start\":0.0,\"tags\":[[[\"Interest_Paid\",\"Interest_Paid\",null]]]},\"id\":\"3062\",\"type\":\"Range1d\"},{\"attributes\":{\"fill_alpha\":{\"value\":0.2},\"fill_color\":{\"value\":\"#30a2da\"},\"hatch_alpha\":{\"value\":0.2},\"hatch_color\":{\"value\":\"#30a2da\"},\"line_alpha\":{\"value\":0.2},\"top\":{\"field\":\"Interest_Paid\"},\"width\":{\"value\":0.8},\"x\":{\"field\":\"Region\"}},\"id\":\"3098\",\"type\":\"VBar\"},{\"attributes\":{\"axis_label\":\"Region\",\"coordinates\":null,\"formatter\":{\"id\":\"3103\"},\"group\":null,\"major_label_policy\":{\"id\":\"3104\"},\"ticker\":{\"id\":\"3074\"}},\"id\":\"3073\",\"type\":\"CategoricalAxis\"},{\"attributes\":{\"data\":{\"Interest_Paid\":{\"__ndarray__\":\"rkfhepCa9UB7FK5HUUr2QNejcD22A/VAH4XrUSBX90CF61G4Kg/1QA==\",\"dtype\":\"float64\",\"order\":\"little\",\"shape\":[5]},\"Region\":[\"East\",\"Mid West\",\"North West\",\"South\",\"West\"]},\"selected\":{\"id\":\"3094\"},\"selection_policy\":{\"id\":\"3115\"}},\"id\":\"3093\",\"type\":\"ColumnDataSource\"},{\"attributes\":{},\"id\":\"3080\",\"type\":\"SaveTool\"},{\"attributes\":{},\"id\":\"3106\",\"type\":\"BasicTickFormatter\"},{\"attributes\":{\"margin\":[5,5,5,5],\"name\":\"HSpacer05143\",\"sizing_mode\":\"stretch_width\"},\"id\":\"3128\",\"type\":\"Spacer\"},{\"attributes\":{},\"id\":\"3081\",\"type\":\"PanTool\"},{\"attributes\":{},\"id\":\"3107\",\"type\":\"AllLabels\"},{\"attributes\":{\"source\":{\"id\":\"3093\"}},\"id\":\"3100\",\"type\":\"CDSView\"}],\"root_ids\":[\"3059\"]},\"title\":\"Bokeh Application\",\"version\":\"2.4.2\"}};\n",
       "    var render_items = [{\"docid\":\"8299dbf2-b97f-438c-ab43-5523ed2888c5\",\"root_ids\":[\"3059\"],\"roots\":{\"3059\":\"2ec2d352-5f84-40bc-b55e-9982b1ffac66\"}}];\n",
       "    root.Bokeh.embed.embed_items_notebook(docs_json, render_items);\n",
       "  }\n",
       "  if (root.Bokeh !== undefined && root.Bokeh.Panel !== undefined) {\n",
       "    embed_document(root);\n",
       "  } else {\n",
       "    var attempts = 0;\n",
       "    var timer = setInterval(function(root) {\n",
       "      if (root.Bokeh !== undefined && root.Bokeh.Panel !== undefined) {\n",
       "        clearInterval(timer);\n",
       "        embed_document(root);\n",
       "      } else if (document.readyState == \"complete\") {\n",
       "        attempts++;\n",
       "        if (attempts > 200) {\n",
       "          clearInterval(timer);\n",
       "          console.log(\"Bokeh: ERROR: Unable to run BokehJS code because BokehJS library is missing\");\n",
       "        }\n",
       "      }\n",
       "    }, 25, root)\n",
       "  }\n",
       "})(window);</script>"
      ],
      "text/plain": [
       ":Bars   [Region]   (Interest_Paid)"
      ]
     },
     "execution_count": 71,
     "metadata": {
      "application/vnd.holoviews_exec.v0+json": {
       "id": "3059"
      }
     },
     "output_type": "execute_result"
    }
   ],
   "source": [
    "# Create a visual aggregation explore the Total Payments by Region\n",
    "interest_by_region.hvplot.bar( xlabel='Regions', ylabel='Payments', color=\"red\", rot=45)\n",
    "interest_by_region.hvplot.bar(title=\"Total Interest Payments by Region\")"
   ]
  },
  {
   "cell_type": "code",
   "execution_count": 72,
   "id": "34d2a4ec-6835-451c-8252-306dad6f834b",
   "metadata": {},
   "outputs": [
    {
     "data": {
      "text/plain": [
       "Region\n",
       "East          92.368507\n",
       "Mid West      91.759879\n",
       "North West    89.661865\n",
       "South         92.727468\n",
       "West          88.834882\n",
       "Name: Interest_Paid, dtype: float64"
      ]
     },
     "execution_count": 72,
     "metadata": {},
     "output_type": "execute_result"
    }
   ],
   "source": [
    "# Create a numerical aggregation that groups the data by the region and then averages the results.\n",
    "avg_interest_by_region= payment_df.groupby('Region')['Interest_Paid'].mean()\n",
    "\n",
    "# Review the DataFrame\n",
    "avg_interest_by_region"
   ]
  },
  {
   "cell_type": "code",
   "execution_count": 74,
   "id": "50e30e60-9bbb-4c62-ad8e-37b438510923",
   "metadata": {},
   "outputs": [],
   "source": [
    "# Sort the regions by their average payment\n",
    "#avg_interest_by_region_sorted = avg_interest_by_region.sort_values(\"Interest_Paid\")"
   ]
  },
  {
   "cell_type": "code",
   "execution_count": 75,
   "id": "5a294e5c-a0b1-42bc-8f2d-e1334df332bd",
   "metadata": {},
   "outputs": [
    {
     "data": {},
     "metadata": {},
     "output_type": "display_data"
    },
    {
     "data": {
      "application/vnd.holoviews_exec.v0+json": "",
      "text/html": [
       "<div id='3180'>\n",
       "\n",
       "\n",
       "\n",
       "\n",
       "\n",
       "  <div class=\"bk-root\" id=\"5a50fa5a-6944-45ed-a74a-2fb07e78b56f\" data-root-id=\"3180\"></div>\n",
       "</div>\n",
       "<script type=\"application/javascript\">(function(root) {\n",
       "  function embed_document(root) {\n",
       "    var docs_json = {\"7a079682-a96b-44d4-86cf-20c46206d228\":{\"defs\":[{\"extends\":null,\"module\":null,\"name\":\"ReactiveHTML1\",\"overrides\":[],\"properties\":[]},{\"extends\":null,\"module\":null,\"name\":\"FlexBox1\",\"overrides\":[],\"properties\":[{\"default\":\"flex-start\",\"kind\":null,\"name\":\"align_content\"},{\"default\":\"flex-start\",\"kind\":null,\"name\":\"align_items\"},{\"default\":\"row\",\"kind\":null,\"name\":\"flex_direction\"},{\"default\":\"wrap\",\"kind\":null,\"name\":\"flex_wrap\"},{\"default\":\"flex-start\",\"kind\":null,\"name\":\"justify_content\"}]},{\"extends\":null,\"module\":null,\"name\":\"GridStack1\",\"overrides\":[],\"properties\":[{\"default\":\"warn\",\"kind\":null,\"name\":\"mode\"},{\"default\":null,\"kind\":null,\"name\":\"ncols\"},{\"default\":null,\"kind\":null,\"name\":\"nrows\"},{\"default\":true,\"kind\":null,\"name\":\"allow_resize\"},{\"default\":true,\"kind\":null,\"name\":\"allow_drag\"},{\"default\":[],\"kind\":null,\"name\":\"state\"}]},{\"extends\":null,\"module\":null,\"name\":\"click1\",\"overrides\":[],\"properties\":[{\"default\":\"\",\"kind\":null,\"name\":\"terminal_output\"},{\"default\":\"\",\"kind\":null,\"name\":\"debug_name\"},{\"default\":0,\"kind\":null,\"name\":\"clears\"}]},{\"extends\":null,\"module\":null,\"name\":\"TemplateActions1\",\"overrides\":[],\"properties\":[{\"default\":0,\"kind\":null,\"name\":\"open_modal\"},{\"default\":0,\"kind\":null,\"name\":\"close_modal\"}]},{\"extends\":null,\"module\":null,\"name\":\"MaterialTemplateActions1\",\"overrides\":[],\"properties\":[{\"default\":0,\"kind\":null,\"name\":\"open_modal\"},{\"default\":0,\"kind\":null,\"name\":\"close_modal\"}]}],\"roots\":{\"references\":[{\"attributes\":{},\"id\":\"3236\",\"type\":\"UnionRenderers\"},{\"attributes\":{},\"id\":\"3190\",\"type\":\"CategoricalScale\"},{\"attributes\":{\"axis\":{\"id\":\"3197\"},\"coordinates\":null,\"dimension\":1,\"grid_line_color\":null,\"group\":null,\"ticker\":null},\"id\":\"3200\",\"type\":\"Grid\"},{\"attributes\":{},\"id\":\"3198\",\"type\":\"BasicTicker\"},{\"attributes\":{\"end\":93.11672716838761,\"reset_end\":93.11672716838761,\"reset_start\":0.0,\"tags\":[[[\"Interest_Paid\",\"Interest_Paid\",null]]]},\"id\":\"3183\",\"type\":\"Range1d\"},{\"attributes\":{},\"id\":\"3195\",\"type\":\"CategoricalTicker\"},{\"attributes\":{},\"id\":\"3225\",\"type\":\"AllLabels\"},{\"attributes\":{\"coordinates\":null,\"group\":null,\"text\":\"Total Interest Payments by Region\",\"text_color\":\"black\",\"text_font_size\":\"12pt\"},\"id\":\"3186\",\"type\":\"Title\"},{\"attributes\":{\"coordinates\":null,\"data_source\":{\"id\":\"3214\"},\"glyph\":{\"id\":\"3217\"},\"group\":null,\"hover_glyph\":null,\"muted_glyph\":{\"id\":\"3219\"},\"nonselection_glyph\":{\"id\":\"3218\"},\"selection_glyph\":{\"id\":\"3222\"},\"view\":{\"id\":\"3221\"}},\"id\":\"3220\",\"type\":\"GlyphRenderer\"},{\"attributes\":{\"axis_label\":\"\",\"coordinates\":null,\"formatter\":{\"id\":\"3227\"},\"group\":null,\"major_label_policy\":{\"id\":\"3228\"},\"ticker\":{\"id\":\"3198\"}},\"id\":\"3197\",\"type\":\"LinearAxis\"},{\"attributes\":{\"axis_label\":\"Region\",\"coordinates\":null,\"formatter\":{\"id\":\"3224\"},\"group\":null,\"major_label_policy\":{\"id\":\"3225\"},\"ticker\":{\"id\":\"3195\"}},\"id\":\"3194\",\"type\":\"CategoricalAxis\"},{\"attributes\":{},\"id\":\"3227\",\"type\":\"BasicTickFormatter\"},{\"attributes\":{\"bottom_units\":\"screen\",\"coordinates\":null,\"fill_alpha\":0.5,\"fill_color\":\"lightgrey\",\"group\":null,\"left_units\":\"screen\",\"level\":\"overlay\",\"line_alpha\":1.0,\"line_color\":\"black\",\"line_dash\":[4,4],\"line_width\":2,\"right_units\":\"screen\",\"syncable\":false,\"top_units\":\"screen\"},\"id\":\"3206\",\"type\":\"BoxAnnotation\"},{\"attributes\":{\"callback\":null,\"renderers\":[{\"id\":\"3220\"}],\"tags\":[\"hv_created\"],\"tooltips\":[[\"Region\",\"@{Region}\"],[\"Interest_Paid\",\"@{Interest_Paid}\"]]},\"id\":\"3184\",\"type\":\"HoverTool\"},{\"attributes\":{},\"id\":\"3201\",\"type\":\"SaveTool\"},{\"attributes\":{},\"id\":\"3205\",\"type\":\"ResetTool\"},{\"attributes\":{\"children\":[{\"id\":\"3181\"},{\"id\":\"3185\"},{\"id\":\"3249\"}],\"margin\":[0,0,0,0],\"name\":\"Row05360\",\"tags\":[\"embedded\"]},\"id\":\"3180\",\"type\":\"Row\"},{\"attributes\":{\"fill_color\":{\"value\":\"#30a2da\"},\"hatch_color\":{\"value\":\"#30a2da\"},\"top\":{\"field\":\"Interest_Paid\"},\"width\":{\"value\":0.8},\"x\":{\"field\":\"Region\"}},\"id\":\"3217\",\"type\":\"VBar\"},{\"attributes\":{\"factors\":[\"East\",\"Mid West\",\"North West\",\"South\",\"West\"],\"tags\":[[[\"Region\",\"Region\",null]]]},\"id\":\"3182\",\"type\":\"FactorRange\"},{\"attributes\":{\"axis\":{\"id\":\"3194\"},\"coordinates\":null,\"grid_line_color\":null,\"group\":null,\"ticker\":null},\"id\":\"3196\",\"type\":\"Grid\"},{\"attributes\":{},\"id\":\"3215\",\"type\":\"Selection\"},{\"attributes\":{\"margin\":[5,5,5,5],\"name\":\"HSpacer05364\",\"sizing_mode\":\"stretch_width\"},\"id\":\"3181\",\"type\":\"Spacer\"},{\"attributes\":{\"source\":{\"id\":\"3214\"}},\"id\":\"3221\",\"type\":\"CDSView\"},{\"attributes\":{\"tools\":[{\"id\":\"3184\"},{\"id\":\"3201\"},{\"id\":\"3202\"},{\"id\":\"3203\"},{\"id\":\"3204\"},{\"id\":\"3205\"}]},\"id\":\"3207\",\"type\":\"Toolbar\"},{\"attributes\":{\"below\":[{\"id\":\"3194\"}],\"center\":[{\"id\":\"3196\"},{\"id\":\"3200\"}],\"height\":300,\"left\":[{\"id\":\"3197\"}],\"margin\":[5,5,5,5],\"min_border_bottom\":10,\"min_border_left\":10,\"min_border_right\":10,\"min_border_top\":10,\"renderers\":[{\"id\":\"3220\"}],\"sizing_mode\":\"fixed\",\"title\":{\"id\":\"3186\"},\"toolbar\":{\"id\":\"3207\"},\"width\":700,\"x_range\":{\"id\":\"3182\"},\"x_scale\":{\"id\":\"3190\"},\"y_range\":{\"id\":\"3183\"},\"y_scale\":{\"id\":\"3192\"}},\"id\":\"3185\",\"subtype\":\"Figure\",\"type\":\"Plot\"},{\"attributes\":{},\"id\":\"3224\",\"type\":\"CategoricalTickFormatter\"},{\"attributes\":{\"data\":{\"Interest_Paid\":{\"__ndarray__\":\"Udurn5UXV0AWvTHdofBWQAfzRP1balZASp7x144uV0BS2hazbjVWQA==\",\"dtype\":\"float64\",\"order\":\"little\",\"shape\":[5]},\"Region\":[\"East\",\"Mid West\",\"North West\",\"South\",\"West\"]},\"selected\":{\"id\":\"3215\"},\"selection_policy\":{\"id\":\"3236\"}},\"id\":\"3214\",\"type\":\"ColumnDataSource\"},{\"attributes\":{\"fill_alpha\":{\"value\":0.2},\"fill_color\":{\"value\":\"#30a2da\"},\"hatch_alpha\":{\"value\":0.2},\"hatch_color\":{\"value\":\"#30a2da\"},\"line_alpha\":{\"value\":0.2},\"top\":{\"field\":\"Interest_Paid\"},\"width\":{\"value\":0.8},\"x\":{\"field\":\"Region\"}},\"id\":\"3219\",\"type\":\"VBar\"},{\"attributes\":{},\"id\":\"3228\",\"type\":\"AllLabels\"},{\"attributes\":{},\"id\":\"3192\",\"type\":\"LinearScale\"},{\"attributes\":{\"fill_alpha\":{\"value\":0.1},\"fill_color\":{\"value\":\"#30a2da\"},\"hatch_alpha\":{\"value\":0.1},\"hatch_color\":{\"value\":\"#30a2da\"},\"line_alpha\":{\"value\":0.1},\"top\":{\"field\":\"Interest_Paid\"},\"width\":{\"value\":0.8},\"x\":{\"field\":\"Region\"}},\"id\":\"3218\",\"type\":\"VBar\"},{\"attributes\":{},\"id\":\"3202\",\"type\":\"PanTool\"},{\"attributes\":{},\"id\":\"3203\",\"type\":\"WheelZoomTool\"},{\"attributes\":{\"overlay\":{\"id\":\"3206\"}},\"id\":\"3204\",\"type\":\"BoxZoomTool\"},{\"attributes\":{\"margin\":[5,5,5,5],\"name\":\"HSpacer05365\",\"sizing_mode\":\"stretch_width\"},\"id\":\"3249\",\"type\":\"Spacer\"},{\"attributes\":{\"bottom\":{\"value\":0},\"fill_alpha\":{\"value\":1.0},\"fill_color\":{\"value\":\"#30a2da\"},\"hatch_alpha\":{\"value\":1.0},\"hatch_color\":{\"value\":\"#30a2da\"},\"hatch_scale\":{\"value\":12.0},\"hatch_weight\":{\"value\":1.0},\"line_alpha\":{\"value\":1.0},\"line_cap\":{\"value\":\"butt\"},\"line_color\":{\"value\":\"black\"},\"line_dash\":{\"value\":[]},\"line_dash_offset\":{\"value\":0},\"line_join\":{\"value\":\"bevel\"},\"line_width\":{\"value\":1},\"top\":{\"field\":\"Interest_Paid\"},\"width\":{\"value\":0.8},\"x\":{\"field\":\"Region\"}},\"id\":\"3222\",\"type\":\"VBar\"}],\"root_ids\":[\"3180\"]},\"title\":\"Bokeh Application\",\"version\":\"2.4.2\"}};\n",
       "    var render_items = [{\"docid\":\"7a079682-a96b-44d4-86cf-20c46206d228\",\"root_ids\":[\"3180\"],\"roots\":{\"3180\":\"5a50fa5a-6944-45ed-a74a-2fb07e78b56f\"}}];\n",
       "    root.Bokeh.embed.embed_items_notebook(docs_json, render_items);\n",
       "  }\n",
       "  if (root.Bokeh !== undefined && root.Bokeh.Panel !== undefined) {\n",
       "    embed_document(root);\n",
       "  } else {\n",
       "    var attempts = 0;\n",
       "    var timer = setInterval(function(root) {\n",
       "      if (root.Bokeh !== undefined && root.Bokeh.Panel !== undefined) {\n",
       "        clearInterval(timer);\n",
       "        embed_document(root);\n",
       "      } else if (document.readyState == \"complete\") {\n",
       "        attempts++;\n",
       "        if (attempts > 200) {\n",
       "          clearInterval(timer);\n",
       "          console.log(\"Bokeh: ERROR: Unable to run BokehJS code because BokehJS library is missing\");\n",
       "        }\n",
       "      }\n",
       "    }, 25, root)\n",
       "  }\n",
       "})(window);</script>"
      ],
      "text/plain": [
       ":Bars   [Region]   (Interest_Paid)"
      ]
     },
     "execution_count": 75,
     "metadata": {
      "application/vnd.holoviews_exec.v0+json": {
       "id": "3180"
      }
     },
     "output_type": "execute_result"
    }
   ],
   "source": [
    "# Create a visual aggregation explore the Total Average Payments by Region\n",
    "avg_interest_by_region.hvplot.bar( xlabel='Regions', ylabel='Payments', color=\"red\", rot=45)\n",
    "avg_interest_by_region.hvplot.bar(title=\"Total Interest Payments by Region\")"
   ]
  },
  {
   "cell_type": "code",
   "execution_count": null,
   "id": "1734bd1c-f903-42d5-8592-0a5e083fc400",
   "metadata": {},
   "outputs": [],
   "source": []
  },
  {
   "cell_type": "code",
   "execution_count": null,
   "id": "c57791b4-d4e3-49e4-b09e-f80dc8a206ae",
   "metadata": {},
   "outputs": [],
   "source": []
  },
  {
   "cell_type": "code",
   "execution_count": null,
   "id": "5291b0a5-cda4-4525-817a-d9244e29e0d4",
   "metadata": {},
   "outputs": [],
   "source": []
  },
  {
   "cell_type": "code",
   "execution_count": null,
   "id": "d86ed24b-7164-4f4b-a3b3-bd3ea4b7752f",
   "metadata": {},
   "outputs": [],
   "source": []
  },
  {
   "cell_type": "code",
   "execution_count": null,
   "id": "227bbf99-7749-4bd4-8495-7b7b38b7e91d",
   "metadata": {},
   "outputs": [],
   "source": []
  }
 ],
 "metadata": {
  "kernelspec": {
   "display_name": "Python 3 (ipykernel)",
   "language": "python",
   "name": "python3"
  },
  "language_info": {
   "codemirror_mode": {
    "name": "ipython",
    "version": 3
   },
   "file_extension": ".py",
   "mimetype": "text/x-python",
   "name": "python",
   "nbconvert_exporter": "python",
   "pygments_lexer": "ipython3",
   "version": "3.7.13"
  }
 },
 "nbformat": 4,
 "nbformat_minor": 5
}
