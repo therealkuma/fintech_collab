{
 "cells": [
  {
   "cell_type": "code",
   "execution_count": 8,
   "id": "ccb7725e-e61b-4243-ac60-dfc90cc839a6",
   "metadata": {},
   "outputs": [
    {
     "data": {
      "text/html": [
       "<div>\n",
       "<style scoped>\n",
       "    .dataframe tbody tr th:only-of-type {\n",
       "        vertical-align: middle;\n",
       "    }\n",
       "\n",
       "    .dataframe tbody tr th {\n",
       "        vertical-align: top;\n",
       "    }\n",
       "\n",
       "    .dataframe thead th {\n",
       "        text-align: right;\n",
       "    }\n",
       "</style>\n",
       "<table border=\"1\" class=\"dataframe\">\n",
       "  <thead>\n",
       "    <tr style=\"text-align: right;\">\n",
       "      <th></th>\n",
       "      <th>Origination Date</th>\n",
       "      <th>Purchase Date</th>\n",
       "      <th>Sold Date</th>\n",
       "      <th>Segment</th>\n",
       "      <th>Term</th>\n",
       "      <th>Status</th>\n",
       "      <th>Days Past Due</th>\n",
       "      <th>Loan Amount</th>\n",
       "      <th>Beginning Period Principal Outstanding</th>\n",
       "      <th>Ending Principal Outstanding</th>\n",
       "      <th>...</th>\n",
       "      <th>Loan Trailing Fee</th>\n",
       "      <th>Category</th>\n",
       "      <th>Onboarding Loans</th>\n",
       "      <th>Charge offs</th>\n",
       "      <th>Loan_Segment</th>\n",
       "      <th>FICO_Range</th>\n",
       "      <th>Region</th>\n",
       "      <th>Gender</th>\n",
       "      <th>Employment_Type</th>\n",
       "      <th>Market_Channel</th>\n",
       "    </tr>\n",
       "    <tr>\n",
       "      <th>Loan ID</th>\n",
       "      <th></th>\n",
       "      <th></th>\n",
       "      <th></th>\n",
       "      <th></th>\n",
       "      <th></th>\n",
       "      <th></th>\n",
       "      <th></th>\n",
       "      <th></th>\n",
       "      <th></th>\n",
       "      <th></th>\n",
       "      <th></th>\n",
       "      <th></th>\n",
       "      <th></th>\n",
       "      <th></th>\n",
       "      <th></th>\n",
       "      <th></th>\n",
       "      <th></th>\n",
       "      <th></th>\n",
       "      <th></th>\n",
       "      <th></th>\n",
       "      <th></th>\n",
       "    </tr>\n",
       "  </thead>\n",
       "  <tbody>\n",
       "    <tr>\n",
       "      <th>131223</th>\n",
       "      <td>2020-01-15</td>\n",
       "      <td>2022-02-11</td>\n",
       "      <td>NaN</td>\n",
       "      <td>NEAR_PRIME</td>\n",
       "      <td>36</td>\n",
       "      <td>CLOSED</td>\n",
       "      <td>122</td>\n",
       "      <td>6000</td>\n",
       "      <td>0.00</td>\n",
       "      <td>0.00</td>\n",
       "      <td>...</td>\n",
       "      <td>0.0</td>\n",
       "      <td>HFI</td>\n",
       "      <td>NaN</td>\n",
       "      <td>0.0</td>\n",
       "      <td>Debt Consolidation</td>\n",
       "      <td>700-750</td>\n",
       "      <td>Mid West</td>\n",
       "      <td>Male</td>\n",
       "      <td>Other</td>\n",
       "      <td>Phone</td>\n",
       "    </tr>\n",
       "    <tr>\n",
       "      <th>971875</th>\n",
       "      <td>2021-12-30</td>\n",
       "      <td>2022-01-03</td>\n",
       "      <td>NaN</td>\n",
       "      <td>NEAR_PRIME</td>\n",
       "      <td>36</td>\n",
       "      <td>Current</td>\n",
       "      <td>0</td>\n",
       "      <td>25000</td>\n",
       "      <td>21611.50</td>\n",
       "      <td>21017.06</td>\n",
       "      <td>...</td>\n",
       "      <td>0.0</td>\n",
       "      <td>HFS</td>\n",
       "      <td>NaN</td>\n",
       "      <td>0.0</td>\n",
       "      <td>Debt Consolidation</td>\n",
       "      <td>&gt;750</td>\n",
       "      <td>Mid West</td>\n",
       "      <td>Male</td>\n",
       "      <td>Self-Employed</td>\n",
       "      <td>Online</td>\n",
       "    </tr>\n",
       "    <tr>\n",
       "      <th>112774</th>\n",
       "      <td>2021-12-30</td>\n",
       "      <td>2022-01-03</td>\n",
       "      <td>NaN</td>\n",
       "      <td>NEAR_PRIME</td>\n",
       "      <td>36</td>\n",
       "      <td>Current</td>\n",
       "      <td>0</td>\n",
       "      <td>10000</td>\n",
       "      <td>8949.94</td>\n",
       "      <td>8708.32</td>\n",
       "      <td>...</td>\n",
       "      <td>0.0</td>\n",
       "      <td>HFS</td>\n",
       "      <td>NaN</td>\n",
       "      <td>0.0</td>\n",
       "      <td>Debt Consolidation</td>\n",
       "      <td>&gt;750</td>\n",
       "      <td>Mid West</td>\n",
       "      <td>Male</td>\n",
       "      <td>Full-Time</td>\n",
       "      <td>Email-Campaign</td>\n",
       "    </tr>\n",
       "    <tr>\n",
       "      <th>659070</th>\n",
       "      <td>2022-01-10</td>\n",
       "      <td>2022-01-13</td>\n",
       "      <td>NaN</td>\n",
       "      <td>PRIME</td>\n",
       "      <td>60</td>\n",
       "      <td>Current</td>\n",
       "      <td>0</td>\n",
       "      <td>13000</td>\n",
       "      <td>12165.50</td>\n",
       "      <td>11993.26</td>\n",
       "      <td>...</td>\n",
       "      <td>0.0</td>\n",
       "      <td>HFS</td>\n",
       "      <td>NaN</td>\n",
       "      <td>0.0</td>\n",
       "      <td>Debt Consolidation</td>\n",
       "      <td>&lt;625</td>\n",
       "      <td>East</td>\n",
       "      <td>Male</td>\n",
       "      <td>Full-Time</td>\n",
       "      <td>Online</td>\n",
       "    </tr>\n",
       "    <tr>\n",
       "      <th>399956</th>\n",
       "      <td>2021-12-29</td>\n",
       "      <td>2022-01-03</td>\n",
       "      <td>NaN</td>\n",
       "      <td>NEAR_PRIME</td>\n",
       "      <td>36</td>\n",
       "      <td>Current</td>\n",
       "      <td>0</td>\n",
       "      <td>20593</td>\n",
       "      <td>18172.16</td>\n",
       "      <td>17190.22</td>\n",
       "      <td>...</td>\n",
       "      <td>0.0</td>\n",
       "      <td>HFS</td>\n",
       "      <td>NaN</td>\n",
       "      <td>0.0</td>\n",
       "      <td>Debt Consolidation</td>\n",
       "      <td>650-700</td>\n",
       "      <td>North West</td>\n",
       "      <td>Male</td>\n",
       "      <td>Full-Time</td>\n",
       "      <td>Phone</td>\n",
       "    </tr>\n",
       "  </tbody>\n",
       "</table>\n",
       "<p>5 rows × 30 columns</p>\n",
       "</div>"
      ],
      "text/plain": [
       "        Origination Date Purchase Date  Sold Date     Segment  Term   Status  \\\n",
       "Loan ID                                                                        \n",
       "131223        2020-01-15    2022-02-11        NaN  NEAR_PRIME    36   CLOSED   \n",
       "971875        2021-12-30    2022-01-03        NaN  NEAR_PRIME    36  Current   \n",
       "112774        2021-12-30    2022-01-03        NaN  NEAR_PRIME    36  Current   \n",
       "659070        2022-01-10    2022-01-13        NaN       PRIME    60  Current   \n",
       "399956        2021-12-29    2022-01-03        NaN  NEAR_PRIME    36  Current   \n",
       "\n",
       "         Days Past Due  Loan Amount  Beginning Period Principal Outstanding  \\\n",
       "Loan ID                                                                       \n",
       "131223             122         6000                                    0.00   \n",
       "971875               0        25000                                21611.50   \n",
       "112774               0        10000                                 8949.94   \n",
       "659070               0        13000                                12165.50   \n",
       "399956               0        20593                                18172.16   \n",
       "\n",
       "         Ending Principal Outstanding  ...  Loan Trailing Fee  Category  \\\n",
       "Loan ID                                ...                                \n",
       "131223                           0.00  ...                0.0       HFI   \n",
       "971875                       21017.06  ...                0.0       HFS   \n",
       "112774                        8708.32  ...                0.0       HFS   \n",
       "659070                       11993.26  ...                0.0       HFS   \n",
       "399956                       17190.22  ...                0.0       HFS   \n",
       "\n",
       "         Onboarding Loans  Charge offs        Loan_Segment  FICO_Range  \\\n",
       "Loan ID                                                                  \n",
       "131223                NaN          0.0  Debt Consolidation     700-750   \n",
       "971875                NaN          0.0  Debt Consolidation        >750   \n",
       "112774                NaN          0.0  Debt Consolidation        >750   \n",
       "659070                NaN          0.0  Debt Consolidation        <625   \n",
       "399956                NaN          0.0  Debt Consolidation     650-700   \n",
       "\n",
       "             Region  Gender  Employment_Type  Market_Channel  \n",
       "Loan ID                                                       \n",
       "131223     Mid West    Male            Other           Phone  \n",
       "971875     Mid West    Male    Self-Employed          Online  \n",
       "112774     Mid West    Male        Full-Time  Email-Campaign  \n",
       "659070         East    Male        Full-Time          Online  \n",
       "399956   North West    Male        Full-Time           Phone  \n",
       "\n",
       "[5 rows x 30 columns]"
      ]
     },
     "execution_count": 8,
     "metadata": {},
     "output_type": "execute_result"
    }
   ],
   "source": [
    "import pandas as pd\n",
    "import numpy as np\n",
    "from datetime import datetime, timedelta\n",
    "from pathlib import Path\n",
    "from hvplot import pandas\n",
    "\n",
    "loan_data = Path(\"../fintech_collab/loan_data.xlsx\")\n",
    "\n",
    "loan_df = pd.read_excel(loan_data, header=0, index_col=\"Loan ID\")\n",
    "loan_df.head()"
   ]
  },
  {
   "cell_type": "code",
   "execution_count": 11,
   "id": "46f5e066-fd19-4366-a1b8-30aa6cf6ec76",
   "metadata": {},
   "outputs": [
    {
     "data": {
      "text/plain": [
       "Loan_Segment\n",
       "Big Purchase          13309.653224\n",
       "Debt Consolidation    10679.018186\n",
       "Home Improvement      10595.917789\n",
       "Life Event            12288.198253\n",
       "Other                 12808.759026\n",
       "Name: Ending Principal Outstanding, dtype: float64"
      ]
     },
     "execution_count": 11,
     "metadata": {},
     "output_type": "execute_result"
    }
   ],
   "source": [
    "# Create a numerical aggregation that groups the data by the year and then averages the results.\n",
    "outstandingprincipal_by_ls = loan_df.groupby('Loan_Segment')['Ending Principal Outstanding'].mean()\n",
    "\n",
    "# Review the DataFrame\n",
    "outstandingprincipal_by_ls\n"
   ]
  },
  {
   "cell_type": "code",
   "execution_count": 14,
   "id": "2aae1220-5ab0-48a0-baab-78bca6e49cb4",
   "metadata": {},
   "outputs": [
    {
     "data": {},
     "metadata": {},
     "output_type": "display_data"
    },
    {
     "data": {
      "application/vnd.holoviews_exec.v0+json": "",
      "text/html": [
       "<div id='1123'>\n",
       "\n",
       "\n",
       "\n",
       "\n",
       "\n",
       "  <div class=\"bk-root\" id=\"c3125396-51ce-4021-803b-e82e00d969a4\" data-root-id=\"1123\"></div>\n",
       "</div>\n",
       "<script type=\"application/javascript\">(function(root) {\n",
       "  function embed_document(root) {\n",
       "    var docs_json = {\"7e64dced-7a8f-4abe-9d26-a814e36e24c3\":{\"defs\":[{\"extends\":null,\"module\":null,\"name\":\"ReactiveHTML1\",\"overrides\":[],\"properties\":[]},{\"extends\":null,\"module\":null,\"name\":\"FlexBox1\",\"overrides\":[],\"properties\":[{\"default\":\"flex-start\",\"kind\":null,\"name\":\"align_content\"},{\"default\":\"flex-start\",\"kind\":null,\"name\":\"align_items\"},{\"default\":\"row\",\"kind\":null,\"name\":\"flex_direction\"},{\"default\":\"wrap\",\"kind\":null,\"name\":\"flex_wrap\"},{\"default\":\"flex-start\",\"kind\":null,\"name\":\"justify_content\"}]},{\"extends\":null,\"module\":null,\"name\":\"GridStack1\",\"overrides\":[],\"properties\":[{\"default\":\"warn\",\"kind\":null,\"name\":\"mode\"},{\"default\":null,\"kind\":null,\"name\":\"ncols\"},{\"default\":null,\"kind\":null,\"name\":\"nrows\"},{\"default\":true,\"kind\":null,\"name\":\"allow_resize\"},{\"default\":true,\"kind\":null,\"name\":\"allow_drag\"},{\"default\":[],\"kind\":null,\"name\":\"state\"}]},{\"extends\":null,\"module\":null,\"name\":\"click1\",\"overrides\":[],\"properties\":[{\"default\":\"\",\"kind\":null,\"name\":\"terminal_output\"},{\"default\":\"\",\"kind\":null,\"name\":\"debug_name\"},{\"default\":0,\"kind\":null,\"name\":\"clears\"}]},{\"extends\":null,\"module\":null,\"name\":\"TemplateActions1\",\"overrides\":[],\"properties\":[{\"default\":0,\"kind\":null,\"name\":\"open_modal\"},{\"default\":0,\"kind\":null,\"name\":\"close_modal\"}]},{\"extends\":null,\"module\":null,\"name\":\"MaterialTemplateActions1\",\"overrides\":[],\"properties\":[{\"default\":0,\"kind\":null,\"name\":\"open_modal\"},{\"default\":0,\"kind\":null,\"name\":\"close_modal\"}]}],\"roots\":{\"references\":[{\"attributes\":{\"coordinates\":null,\"group\":null,\"text\":\"Average Outstanding Principal by Loan Segment\",\"text_color\":\"black\",\"text_font_size\":\"12pt\"},\"id\":\"1129\",\"type\":\"Title\"},{\"attributes\":{\"tools\":[{\"id\":\"1127\"},{\"id\":\"1144\"},{\"id\":\"1145\"},{\"id\":\"1146\"},{\"id\":\"1147\"},{\"id\":\"1148\"}]},\"id\":\"1150\",\"type\":\"Toolbar\"},{\"attributes\":{\"axis\":{\"id\":\"1140\"},\"coordinates\":null,\"dimension\":1,\"grid_line_color\":null,\"group\":null,\"ticker\":null},\"id\":\"1143\",\"type\":\"Grid\"},{\"attributes\":{},\"id\":\"1146\",\"type\":\"WheelZoomTool\"},{\"attributes\":{},\"id\":\"1168\",\"type\":\"AllLabels\"},{\"attributes\":{\"source\":{\"id\":\"1157\"}},\"id\":\"1164\",\"type\":\"CDSView\"},{\"attributes\":{\"axis\":{\"id\":\"1137\"},\"coordinates\":null,\"grid_line_color\":null,\"group\":null,\"ticker\":null},\"id\":\"1139\",\"type\":\"Grid\"},{\"attributes\":{\"bottom\":{\"value\":0},\"fill_alpha\":{\"value\":1.0},\"fill_color\":{\"value\":\"#30a2da\"},\"hatch_alpha\":{\"value\":1.0},\"hatch_color\":{\"value\":\"#30a2da\"},\"hatch_scale\":{\"value\":12.0},\"hatch_weight\":{\"value\":1.0},\"line_alpha\":{\"value\":1.0},\"line_cap\":{\"value\":\"butt\"},\"line_color\":{\"value\":\"black\"},\"line_dash\":{\"value\":[]},\"line_dash_offset\":{\"value\":0},\"line_join\":{\"value\":\"bevel\"},\"line_width\":{\"value\":1},\"top\":{\"field\":\"Ending_Principal_Outstanding\"},\"width\":{\"value\":0.8},\"x\":{\"field\":\"Loan_Segment\"}},\"id\":\"1165\",\"type\":\"VBar\"},{\"attributes\":{\"fill_alpha\":{\"value\":0.2},\"fill_color\":{\"value\":\"#30a2da\"},\"hatch_alpha\":{\"value\":0.2},\"hatch_color\":{\"value\":\"#30a2da\"},\"line_alpha\":{\"value\":0.2},\"top\":{\"field\":\"Ending_Principal_Outstanding\"},\"width\":{\"value\":0.8},\"x\":{\"field\":\"Loan_Segment\"}},\"id\":\"1162\",\"type\":\"VBar\"},{\"attributes\":{},\"id\":\"1148\",\"type\":\"ResetTool\"},{\"attributes\":{},\"id\":\"1133\",\"type\":\"CategoricalScale\"},{\"attributes\":{\"end\":13581.026767336907,\"reset_end\":13581.026767336907,\"reset_start\":0.0,\"tags\":[[[\"Ending Principal Outstanding\",\"Ending Principal Outstanding\",null]]]},\"id\":\"1126\",\"type\":\"Range1d\"},{\"attributes\":{},\"id\":\"1167\",\"type\":\"CategoricalTickFormatter\"},{\"attributes\":{\"fill_color\":{\"value\":\"#30a2da\"},\"hatch_color\":{\"value\":\"#30a2da\"},\"top\":{\"field\":\"Ending_Principal_Outstanding\"},\"width\":{\"value\":0.8},\"x\":{\"field\":\"Loan_Segment\"}},\"id\":\"1160\",\"type\":\"VBar\"},{\"attributes\":{\"callback\":null,\"renderers\":[{\"id\":\"1163\"}],\"tags\":[\"hv_created\"],\"tooltips\":[[\"Loan_Segment\",\"@{Loan_Segment}\"],[\"Ending Principal Outstanding\",\"@{Ending_Principal_Outstanding}\"]]},\"id\":\"1127\",\"type\":\"HoverTool\"},{\"attributes\":{\"margin\":[5,5,5,5],\"name\":\"HSpacer01998\",\"sizing_mode\":\"stretch_width\"},\"id\":\"1124\",\"type\":\"Spacer\"},{\"attributes\":{\"factors\":[\"Big Purchase\",\"Debt Consolidation\",\"Home Improvement\",\"Life Event\",\"Other\"],\"tags\":[[[\"Loan_Segment\",\"Loan_Segment\",null]]]},\"id\":\"1125\",\"type\":\"FactorRange\"},{\"attributes\":{\"coordinates\":null,\"data_source\":{\"id\":\"1157\"},\"glyph\":{\"id\":\"1160\"},\"group\":null,\"hover_glyph\":null,\"muted_glyph\":{\"id\":\"1162\"},\"nonselection_glyph\":{\"id\":\"1161\"},\"selection_glyph\":{\"id\":\"1165\"},\"view\":{\"id\":\"1164\"}},\"id\":\"1163\",\"type\":\"GlyphRenderer\"},{\"attributes\":{\"axis_label\":\"Loan_Segment\",\"coordinates\":null,\"formatter\":{\"id\":\"1167\"},\"group\":null,\"major_label_policy\":{\"id\":\"1168\"},\"ticker\":{\"id\":\"1138\"}},\"id\":\"1137\",\"type\":\"CategoricalAxis\"},{\"attributes\":{\"bottom_units\":\"screen\",\"coordinates\":null,\"fill_alpha\":0.5,\"fill_color\":\"lightgrey\",\"group\":null,\"left_units\":\"screen\",\"level\":\"overlay\",\"line_alpha\":1.0,\"line_color\":\"black\",\"line_dash\":[4,4],\"line_width\":2,\"right_units\":\"screen\",\"syncable\":false,\"top_units\":\"screen\"},\"id\":\"1149\",\"type\":\"BoxAnnotation\"},{\"attributes\":{\"below\":[{\"id\":\"1137\"}],\"center\":[{\"id\":\"1139\"},{\"id\":\"1143\"}],\"height\":300,\"left\":[{\"id\":\"1140\"}],\"margin\":[5,5,5,5],\"min_border_bottom\":10,\"min_border_left\":10,\"min_border_right\":10,\"min_border_top\":10,\"renderers\":[{\"id\":\"1163\"}],\"sizing_mode\":\"fixed\",\"title\":{\"id\":\"1129\"},\"toolbar\":{\"id\":\"1150\"},\"width\":700,\"x_range\":{\"id\":\"1125\"},\"x_scale\":{\"id\":\"1133\"},\"y_range\":{\"id\":\"1126\"},\"y_scale\":{\"id\":\"1135\"}},\"id\":\"1128\",\"subtype\":\"Figure\",\"type\":\"Plot\"},{\"attributes\":{},\"id\":\"1144\",\"type\":\"SaveTool\"},{\"attributes\":{\"margin\":[5,5,5,5],\"name\":\"HSpacer01999\",\"sizing_mode\":\"stretch_width\"},\"id\":\"1192\",\"type\":\"Spacer\"},{\"attributes\":{},\"id\":\"1141\",\"type\":\"BasicTicker\"},{\"attributes\":{\"overlay\":{\"id\":\"1149\"}},\"id\":\"1147\",\"type\":\"BoxZoomTool\"},{\"attributes\":{\"fill_alpha\":{\"value\":0.1},\"fill_color\":{\"value\":\"#30a2da\"},\"hatch_alpha\":{\"value\":0.1},\"hatch_color\":{\"value\":\"#30a2da\"},\"line_alpha\":{\"value\":0.1},\"top\":{\"field\":\"Ending_Principal_Outstanding\"},\"width\":{\"value\":0.8},\"x\":{\"field\":\"Loan_Segment\"}},\"id\":\"1161\",\"type\":\"VBar\"},{\"attributes\":{},\"id\":\"1158\",\"type\":\"Selection\"},{\"attributes\":{},\"id\":\"1145\",\"type\":\"PanTool\"},{\"attributes\":{},\"id\":\"1179\",\"type\":\"UnionRenderers\"},{\"attributes\":{\"axis_label\":\"\",\"coordinates\":null,\"formatter\":{\"id\":\"1170\"},\"group\":null,\"major_label_policy\":{\"id\":\"1171\"},\"ticker\":{\"id\":\"1141\"}},\"id\":\"1140\",\"type\":\"LinearAxis\"},{\"attributes\":{},\"id\":\"1135\",\"type\":\"LinearScale\"},{\"attributes\":{},\"id\":\"1138\",\"type\":\"CategoricalTicker\"},{\"attributes\":{\"data\":{\"Ending_Principal_Outstanding\":{\"__ndarray__\":\"ERLXnNP+yUA4W+xTgtvEQKjPHnr1scRAaRBaYBkAyECvr8InYQTJQA==\",\"dtype\":\"float64\",\"order\":\"little\",\"shape\":[5]},\"Loan_Segment\":[\"Big Purchase\",\"Debt Consolidation\",\"Home Improvement\",\"Life Event\",\"Other\"]},\"selected\":{\"id\":\"1158\"},\"selection_policy\":{\"id\":\"1179\"}},\"id\":\"1157\",\"type\":\"ColumnDataSource\"},{\"attributes\":{\"children\":[{\"id\":\"1124\"},{\"id\":\"1128\"},{\"id\":\"1192\"}],\"margin\":[0,0,0,0],\"name\":\"Row01994\",\"tags\":[\"embedded\"]},\"id\":\"1123\",\"type\":\"Row\"},{\"attributes\":{},\"id\":\"1171\",\"type\":\"AllLabels\"},{\"attributes\":{},\"id\":\"1170\",\"type\":\"BasicTickFormatter\"}],\"root_ids\":[\"1123\"]},\"title\":\"Bokeh Application\",\"version\":\"2.4.2\"}};\n",
       "    var render_items = [{\"docid\":\"7e64dced-7a8f-4abe-9d26-a814e36e24c3\",\"root_ids\":[\"1123\"],\"roots\":{\"1123\":\"c3125396-51ce-4021-803b-e82e00d969a4\"}}];\n",
       "    root.Bokeh.embed.embed_items_notebook(docs_json, render_items);\n",
       "  }\n",
       "  if (root.Bokeh !== undefined && root.Bokeh.Panel !== undefined) {\n",
       "    embed_document(root);\n",
       "  } else {\n",
       "    var attempts = 0;\n",
       "    var timer = setInterval(function(root) {\n",
       "      if (root.Bokeh !== undefined && root.Bokeh.Panel !== undefined) {\n",
       "        clearInterval(timer);\n",
       "        embed_document(root);\n",
       "      } else if (document.readyState == \"complete\") {\n",
       "        attempts++;\n",
       "        if (attempts > 200) {\n",
       "          clearInterval(timer);\n",
       "          console.log(\"Bokeh: ERROR: Unable to run BokehJS code because BokehJS library is missing\");\n",
       "        }\n",
       "      }\n",
       "    }, 25, root)\n",
       "  }\n",
       "})(window);</script>"
      ],
      "text/plain": [
       ":Bars   [Loan_Segment]   (Ending Principal Outstanding)"
      ]
     },
     "execution_count": 14,
     "metadata": {
      "application/vnd.holoviews_exec.v0+json": {
       "id": "1123"
      }
     },
     "output_type": "execute_result"
    }
   ],
   "source": [
    "# Create a visual aggregation explore the Average outstanding principal by loan segment\n",
    "outstandingprincipal_by_ls.hvplot.bar( xlabel='Ending Principal Outstanding', ylabel='Loan Segment', color=\"blue\", rot=90)\n",
    "\n",
    "outstandingprincipal_by_ls.hvplot.bar(title=\"Average Outstanding Principal by Loan Segment\")"
   ]
  },
  {
   "cell_type": "code",
   "execution_count": 16,
   "id": "0122b7f1-df40-4376-a81e-103e3ba3ccfc",
   "metadata": {},
   "outputs": [
    {
     "data": {
      "text/plain": [
       "Loan_Segment\n",
       "Big Purchase           7072.50\n",
       "Debt Consolidation    56368.99\n",
       "Home Improvement      96304.96\n",
       "Life Event            61086.05\n",
       "Other                 86269.25\n",
       "Name: Ending Period Accrued Interest, dtype: float64"
      ]
     },
     "execution_count": 16,
     "metadata": {},
     "output_type": "execute_result"
    }
   ],
   "source": [
    "# Create a numerical aggregation that groups the data by the year and then averages the results.\n",
    "accruedint_by_ls = loan_df.groupby('Loan_Segment')['Ending Period Accrued Interest'].sum()\n",
    "\n",
    "# Review the DataFrame\n",
    "accruedint_by_ls"
   ]
  },
  {
   "cell_type": "code",
   "execution_count": 17,
   "id": "d3e65b50-1c1e-42c1-9f40-45adad0cd3ff",
   "metadata": {},
   "outputs": [
    {
     "data": {},
     "metadata": {},
     "output_type": "display_data"
    },
    {
     "data": {
      "application/vnd.holoviews_exec.v0+json": "",
      "text/html": [
       "<div id='1244'>\n",
       "\n",
       "\n",
       "\n",
       "\n",
       "\n",
       "  <div class=\"bk-root\" id=\"779bca44-4b8f-4234-a5bf-203edf41a11e\" data-root-id=\"1244\"></div>\n",
       "</div>\n",
       "<script type=\"application/javascript\">(function(root) {\n",
       "  function embed_document(root) {\n",
       "    var docs_json = {\"b1c16df2-bd86-4d1d-90ff-dd300c6df5a2\":{\"defs\":[{\"extends\":null,\"module\":null,\"name\":\"ReactiveHTML1\",\"overrides\":[],\"properties\":[]},{\"extends\":null,\"module\":null,\"name\":\"FlexBox1\",\"overrides\":[],\"properties\":[{\"default\":\"flex-start\",\"kind\":null,\"name\":\"align_content\"},{\"default\":\"flex-start\",\"kind\":null,\"name\":\"align_items\"},{\"default\":\"row\",\"kind\":null,\"name\":\"flex_direction\"},{\"default\":\"wrap\",\"kind\":null,\"name\":\"flex_wrap\"},{\"default\":\"flex-start\",\"kind\":null,\"name\":\"justify_content\"}]},{\"extends\":null,\"module\":null,\"name\":\"GridStack1\",\"overrides\":[],\"properties\":[{\"default\":\"warn\",\"kind\":null,\"name\":\"mode\"},{\"default\":null,\"kind\":null,\"name\":\"ncols\"},{\"default\":null,\"kind\":null,\"name\":\"nrows\"},{\"default\":true,\"kind\":null,\"name\":\"allow_resize\"},{\"default\":true,\"kind\":null,\"name\":\"allow_drag\"},{\"default\":[],\"kind\":null,\"name\":\"state\"}]},{\"extends\":null,\"module\":null,\"name\":\"click1\",\"overrides\":[],\"properties\":[{\"default\":\"\",\"kind\":null,\"name\":\"terminal_output\"},{\"default\":\"\",\"kind\":null,\"name\":\"debug_name\"},{\"default\":0,\"kind\":null,\"name\":\"clears\"}]},{\"extends\":null,\"module\":null,\"name\":\"TemplateActions1\",\"overrides\":[],\"properties\":[{\"default\":0,\"kind\":null,\"name\":\"open_modal\"},{\"default\":0,\"kind\":null,\"name\":\"close_modal\"}]},{\"extends\":null,\"module\":null,\"name\":\"MaterialTemplateActions1\",\"overrides\":[],\"properties\":[{\"default\":0,\"kind\":null,\"name\":\"open_modal\"},{\"default\":0,\"kind\":null,\"name\":\"close_modal\"}]}],\"roots\":{\"references\":[{\"attributes\":{},\"id\":\"1262\",\"type\":\"BasicTicker\"},{\"attributes\":{\"coordinates\":null,\"group\":null,\"text\":\"Total Accrued Interest by Loan Segment\",\"text_color\":\"black\",\"text_font_size\":\"12pt\"},\"id\":\"1250\",\"type\":\"Title\"},{\"attributes\":{\"overlay\":{\"id\":\"1270\"}},\"id\":\"1268\",\"type\":\"BoxZoomTool\"},{\"attributes\":{},\"id\":\"1256\",\"type\":\"LinearScale\"},{\"attributes\":{\"source\":{\"id\":\"1278\"}},\"id\":\"1285\",\"type\":\"CDSView\"},{\"attributes\":{\"data\":{\"Ending_Period_Accrued_Interest\":{\"__ndarray__\":\"AAAAAICgu0DhehSuH4brQMP1KFwPg/dAmpmZmcHT7UAAAAAA1A/1QA==\",\"dtype\":\"float64\",\"order\":\"little\",\"shape\":[5]},\"Loan_Segment\":[\"Big Purchase\",\"Debt Consolidation\",\"Home Improvement\",\"Life Event\",\"Other\"]},\"selected\":{\"id\":\"1279\"},\"selection_policy\":{\"id\":\"1300\"}},\"id\":\"1278\",\"type\":\"ColumnDataSource\"},{\"attributes\":{},\"id\":\"1291\",\"type\":\"BasicTickFormatter\"},{\"attributes\":{\"children\":[{\"id\":\"1245\"},{\"id\":\"1249\"},{\"id\":\"1313\"}],\"margin\":[0,0,0,0],\"name\":\"Row02216\",\"tags\":[\"embedded\"]},\"id\":\"1244\",\"type\":\"Row\"},{\"attributes\":{},\"id\":\"1265\",\"type\":\"SaveTool\"},{\"attributes\":{},\"id\":\"1289\",\"type\":\"AllLabels\"},{\"attributes\":{},\"id\":\"1300\",\"type\":\"UnionRenderers\"},{\"attributes\":{},\"id\":\"1292\",\"type\":\"AllLabels\"},{\"attributes\":{\"end\":105228.206,\"reset_end\":105228.206,\"reset_start\":0.0,\"tags\":[[[\"Ending Period Accrued Interest\",\"Ending Period Accrued Interest\",null]]]},\"id\":\"1247\",\"type\":\"Range1d\"},{\"attributes\":{\"axis\":{\"id\":\"1261\"},\"coordinates\":null,\"dimension\":1,\"grid_line_color\":null,\"group\":null,\"ticker\":null},\"id\":\"1264\",\"type\":\"Grid\"},{\"attributes\":{\"fill_alpha\":{\"value\":0.2},\"fill_color\":{\"value\":\"#30a2da\"},\"hatch_alpha\":{\"value\":0.2},\"hatch_color\":{\"value\":\"#30a2da\"},\"line_alpha\":{\"value\":0.2},\"top\":{\"field\":\"Ending_Period_Accrued_Interest\"},\"width\":{\"value\":0.8},\"x\":{\"field\":\"Loan_Segment\"}},\"id\":\"1283\",\"type\":\"VBar\"},{\"attributes\":{\"tools\":[{\"id\":\"1248\"},{\"id\":\"1265\"},{\"id\":\"1266\"},{\"id\":\"1267\"},{\"id\":\"1268\"},{\"id\":\"1269\"}]},\"id\":\"1271\",\"type\":\"Toolbar\"},{\"attributes\":{},\"id\":\"1254\",\"type\":\"CategoricalScale\"},{\"attributes\":{\"fill_alpha\":{\"value\":0.1},\"fill_color\":{\"value\":\"#30a2da\"},\"hatch_alpha\":{\"value\":0.1},\"hatch_color\":{\"value\":\"#30a2da\"},\"line_alpha\":{\"value\":0.1},\"top\":{\"field\":\"Ending_Period_Accrued_Interest\"},\"width\":{\"value\":0.8},\"x\":{\"field\":\"Loan_Segment\"}},\"id\":\"1282\",\"type\":\"VBar\"},{\"attributes\":{\"factors\":[\"Big Purchase\",\"Debt Consolidation\",\"Home Improvement\",\"Life Event\",\"Other\"],\"tags\":[[[\"Loan_Segment\",\"Loan_Segment\",null]]]},\"id\":\"1246\",\"type\":\"FactorRange\"},{\"attributes\":{\"margin\":[5,5,5,5],\"name\":\"HSpacer02220\",\"sizing_mode\":\"stretch_width\"},\"id\":\"1245\",\"type\":\"Spacer\"},{\"attributes\":{\"bottom_units\":\"screen\",\"coordinates\":null,\"fill_alpha\":0.5,\"fill_color\":\"lightgrey\",\"group\":null,\"left_units\":\"screen\",\"level\":\"overlay\",\"line_alpha\":1.0,\"line_color\":\"black\",\"line_dash\":[4,4],\"line_width\":2,\"right_units\":\"screen\",\"syncable\":false,\"top_units\":\"screen\"},\"id\":\"1270\",\"type\":\"BoxAnnotation\"},{\"attributes\":{\"axis_label\":\"\",\"coordinates\":null,\"formatter\":{\"id\":\"1291\"},\"group\":null,\"major_label_policy\":{\"id\":\"1292\"},\"ticker\":{\"id\":\"1262\"}},\"id\":\"1261\",\"type\":\"LinearAxis\"},{\"attributes\":{\"fill_color\":{\"value\":\"#30a2da\"},\"hatch_color\":{\"value\":\"#30a2da\"},\"top\":{\"field\":\"Ending_Period_Accrued_Interest\"},\"width\":{\"value\":0.8},\"x\":{\"field\":\"Loan_Segment\"}},\"id\":\"1281\",\"type\":\"VBar\"},{\"attributes\":{},\"id\":\"1267\",\"type\":\"WheelZoomTool\"},{\"attributes\":{},\"id\":\"1288\",\"type\":\"CategoricalTickFormatter\"},{\"attributes\":{\"coordinates\":null,\"data_source\":{\"id\":\"1278\"},\"glyph\":{\"id\":\"1281\"},\"group\":null,\"hover_glyph\":null,\"muted_glyph\":{\"id\":\"1283\"},\"nonselection_glyph\":{\"id\":\"1282\"},\"selection_glyph\":{\"id\":\"1286\"},\"view\":{\"id\":\"1285\"}},\"id\":\"1284\",\"type\":\"GlyphRenderer\"},{\"attributes\":{\"callback\":null,\"renderers\":[{\"id\":\"1284\"}],\"tags\":[\"hv_created\"],\"tooltips\":[[\"Loan_Segment\",\"@{Loan_Segment}\"],[\"Ending Period Accrued Interest\",\"@{Ending_Period_Accrued_Interest}\"]]},\"id\":\"1248\",\"type\":\"HoverTool\"},{\"attributes\":{\"margin\":[5,5,5,5],\"name\":\"HSpacer02221\",\"sizing_mode\":\"stretch_width\"},\"id\":\"1313\",\"type\":\"Spacer\"},{\"attributes\":{\"below\":[{\"id\":\"1258\"}],\"center\":[{\"id\":\"1260\"},{\"id\":\"1264\"}],\"height\":300,\"left\":[{\"id\":\"1261\"}],\"margin\":[5,5,5,5],\"min_border_bottom\":10,\"min_border_left\":10,\"min_border_right\":10,\"min_border_top\":10,\"renderers\":[{\"id\":\"1284\"}],\"sizing_mode\":\"fixed\",\"title\":{\"id\":\"1250\"},\"toolbar\":{\"id\":\"1271\"},\"width\":700,\"x_range\":{\"id\":\"1246\"},\"x_scale\":{\"id\":\"1254\"},\"y_range\":{\"id\":\"1247\"},\"y_scale\":{\"id\":\"1256\"}},\"id\":\"1249\",\"subtype\":\"Figure\",\"type\":\"Plot\"},{\"attributes\":{},\"id\":\"1259\",\"type\":\"CategoricalTicker\"},{\"attributes\":{},\"id\":\"1266\",\"type\":\"PanTool\"},{\"attributes\":{},\"id\":\"1279\",\"type\":\"Selection\"},{\"attributes\":{\"axis_label\":\"Loan_Segment\",\"coordinates\":null,\"formatter\":{\"id\":\"1288\"},\"group\":null,\"major_label_policy\":{\"id\":\"1289\"},\"ticker\":{\"id\":\"1259\"}},\"id\":\"1258\",\"type\":\"CategoricalAxis\"},{\"attributes\":{\"bottom\":{\"value\":0},\"fill_alpha\":{\"value\":1.0},\"fill_color\":{\"value\":\"#30a2da\"},\"hatch_alpha\":{\"value\":1.0},\"hatch_color\":{\"value\":\"#30a2da\"},\"hatch_scale\":{\"value\":12.0},\"hatch_weight\":{\"value\":1.0},\"line_alpha\":{\"value\":1.0},\"line_cap\":{\"value\":\"butt\"},\"line_color\":{\"value\":\"black\"},\"line_dash\":{\"value\":[]},\"line_dash_offset\":{\"value\":0},\"line_join\":{\"value\":\"bevel\"},\"line_width\":{\"value\":1},\"top\":{\"field\":\"Ending_Period_Accrued_Interest\"},\"width\":{\"value\":0.8},\"x\":{\"field\":\"Loan_Segment\"}},\"id\":\"1286\",\"type\":\"VBar\"},{\"attributes\":{},\"id\":\"1269\",\"type\":\"ResetTool\"},{\"attributes\":{\"axis\":{\"id\":\"1258\"},\"coordinates\":null,\"grid_line_color\":null,\"group\":null,\"ticker\":null},\"id\":\"1260\",\"type\":\"Grid\"}],\"root_ids\":[\"1244\"]},\"title\":\"Bokeh Application\",\"version\":\"2.4.2\"}};\n",
       "    var render_items = [{\"docid\":\"b1c16df2-bd86-4d1d-90ff-dd300c6df5a2\",\"root_ids\":[\"1244\"],\"roots\":{\"1244\":\"779bca44-4b8f-4234-a5bf-203edf41a11e\"}}];\n",
       "    root.Bokeh.embed.embed_items_notebook(docs_json, render_items);\n",
       "  }\n",
       "  if (root.Bokeh !== undefined && root.Bokeh.Panel !== undefined) {\n",
       "    embed_document(root);\n",
       "  } else {\n",
       "    var attempts = 0;\n",
       "    var timer = setInterval(function(root) {\n",
       "      if (root.Bokeh !== undefined && root.Bokeh.Panel !== undefined) {\n",
       "        clearInterval(timer);\n",
       "        embed_document(root);\n",
       "      } else if (document.readyState == \"complete\") {\n",
       "        attempts++;\n",
       "        if (attempts > 200) {\n",
       "          clearInterval(timer);\n",
       "          console.log(\"Bokeh: ERROR: Unable to run BokehJS code because BokehJS library is missing\");\n",
       "        }\n",
       "      }\n",
       "    }, 25, root)\n",
       "  }\n",
       "})(window);</script>"
      ],
      "text/plain": [
       ":Bars   [Loan_Segment]   (Ending Period Accrued Interest)"
      ]
     },
     "execution_count": 17,
     "metadata": {
      "application/vnd.holoviews_exec.v0+json": {
       "id": "1244"
      }
     },
     "output_type": "execute_result"
    }
   ],
   "source": [
    "# Create a visual aggregation explore the Total Accrued Interest by loan segment\n",
    "accruedint_by_ls.hvplot.bar( xlabel='Total Accrued Interest', ylabel='Loan Segment', color=\"blue\", rot=90)\n",
    "\n",
    "accruedint_by_ls.hvplot.bar(title=\"Total Accrued Interest by Loan Segment\")"
   ]
  },
  {
   "cell_type": "code",
   "execution_count": 21,
   "id": "27e6f83c-3cbd-401c-acc0-8e66a300adf4",
   "metadata": {},
   "outputs": [
    {
     "data": {
      "text/plain": [
       "FICO_Range\n",
       "625-650    11879.255158\n",
       "650-700    11817.028078\n",
       "700-750    11498.901601\n",
       "<625       11489.245238\n",
       ">750       11487.506667\n",
       "Name: Ending Principal Outstanding, dtype: float64"
      ]
     },
     "execution_count": 21,
     "metadata": {},
     "output_type": "execute_result"
    }
   ],
   "source": [
    "# Create a numerical aggregation that groups the data by the year and then averages the results.\n",
    "outstandingprincipal_by_FR = loan_df.groupby('FICO_Range')['Ending Principal Outstanding'].mean()\n",
    "\n",
    "# Review the DataFrame\n",
    "outstandingprincipal_by_FR"
   ]
  },
  {
   "cell_type": "code",
   "execution_count": 22,
   "id": "a54fbcab-961b-4624-ac85-6c4ca998235c",
   "metadata": {},
   "outputs": [
    {
     "data": {},
     "metadata": {},
     "output_type": "display_data"
    },
    {
     "data": {
      "application/vnd.holoviews_exec.v0+json": "",
      "text/html": [
       "<div id='1607'>\n",
       "\n",
       "\n",
       "\n",
       "\n",
       "\n",
       "  <div class=\"bk-root\" id=\"bcf75559-8ed3-4459-823b-093a5e1fae97\" data-root-id=\"1607\"></div>\n",
       "</div>\n",
       "<script type=\"application/javascript\">(function(root) {\n",
       "  function embed_document(root) {\n",
       "    var docs_json = {\"26515679-1a5e-46ef-bfd6-9514de5917a2\":{\"defs\":[{\"extends\":null,\"module\":null,\"name\":\"ReactiveHTML1\",\"overrides\":[],\"properties\":[]},{\"extends\":null,\"module\":null,\"name\":\"FlexBox1\",\"overrides\":[],\"properties\":[{\"default\":\"flex-start\",\"kind\":null,\"name\":\"align_content\"},{\"default\":\"flex-start\",\"kind\":null,\"name\":\"align_items\"},{\"default\":\"row\",\"kind\":null,\"name\":\"flex_direction\"},{\"default\":\"wrap\",\"kind\":null,\"name\":\"flex_wrap\"},{\"default\":\"flex-start\",\"kind\":null,\"name\":\"justify_content\"}]},{\"extends\":null,\"module\":null,\"name\":\"GridStack1\",\"overrides\":[],\"properties\":[{\"default\":\"warn\",\"kind\":null,\"name\":\"mode\"},{\"default\":null,\"kind\":null,\"name\":\"ncols\"},{\"default\":null,\"kind\":null,\"name\":\"nrows\"},{\"default\":true,\"kind\":null,\"name\":\"allow_resize\"},{\"default\":true,\"kind\":null,\"name\":\"allow_drag\"},{\"default\":[],\"kind\":null,\"name\":\"state\"}]},{\"extends\":null,\"module\":null,\"name\":\"click1\",\"overrides\":[],\"properties\":[{\"default\":\"\",\"kind\":null,\"name\":\"terminal_output\"},{\"default\":\"\",\"kind\":null,\"name\":\"debug_name\"},{\"default\":0,\"kind\":null,\"name\":\"clears\"}]},{\"extends\":null,\"module\":null,\"name\":\"TemplateActions1\",\"overrides\":[],\"properties\":[{\"default\":0,\"kind\":null,\"name\":\"open_modal\"},{\"default\":0,\"kind\":null,\"name\":\"close_modal\"}]},{\"extends\":null,\"module\":null,\"name\":\"MaterialTemplateActions1\",\"overrides\":[],\"properties\":[{\"default\":0,\"kind\":null,\"name\":\"open_modal\"},{\"default\":0,\"kind\":null,\"name\":\"close_modal\"}]}],\"roots\":{\"references\":[{\"attributes\":{},\"id\":\"1663\",\"type\":\"UnionRenderers\"},{\"attributes\":{\"below\":[{\"id\":\"1621\"}],\"center\":[{\"id\":\"1623\"},{\"id\":\"1627\"}],\"height\":300,\"left\":[{\"id\":\"1624\"}],\"margin\":[5,5,5,5],\"min_border_bottom\":10,\"min_border_left\":10,\"min_border_right\":10,\"min_border_top\":10,\"renderers\":[{\"id\":\"1647\"}],\"sizing_mode\":\"fixed\",\"title\":{\"id\":\"1613\"},\"toolbar\":{\"id\":\"1634\"},\"width\":700,\"x_range\":{\"id\":\"1609\"},\"x_scale\":{\"id\":\"1617\"},\"y_range\":{\"id\":\"1610\"},\"y_scale\":{\"id\":\"1619\"}},\"id\":\"1612\",\"subtype\":\"Figure\",\"type\":\"Plot\"},{\"attributes\":{\"children\":[{\"id\":\"1608\"},{\"id\":\"1612\"},{\"id\":\"1676\"}],\"margin\":[0,0,0,0],\"name\":\"Row02882\",\"tags\":[\"embedded\"]},\"id\":\"1607\",\"type\":\"Row\"},{\"attributes\":{\"axis_label\":\"\",\"coordinates\":null,\"formatter\":{\"id\":\"1654\"},\"group\":null,\"major_label_policy\":{\"id\":\"1655\"},\"ticker\":{\"id\":\"1625\"}},\"id\":\"1624\",\"type\":\"LinearAxis\"},{\"attributes\":{\"overlay\":{\"id\":\"1633\"}},\"id\":\"1631\",\"type\":\"BoxZoomTool\"},{\"attributes\":{},\"id\":\"1651\",\"type\":\"CategoricalTickFormatter\"},{\"attributes\":{\"factors\":[\"625-650\",\"650-700\",\"700-750\",\"<625\",\">750\"],\"tags\":[[[\"FICO_Range\",\"FICO_Range\",null]]]},\"id\":\"1609\",\"type\":\"FactorRange\"},{\"attributes\":{},\"id\":\"1652\",\"type\":\"AllLabels\"},{\"attributes\":{\"end\":66034.47,\"reset_end\":66034.47,\"reset_start\":0.0,\"tags\":[[[\"Ending Period Accrued Interest\",\"Ending Period Accrued Interest\",null]]]},\"id\":\"1610\",\"type\":\"Range1d\"},{\"attributes\":{\"fill_alpha\":{\"value\":0.2},\"fill_color\":{\"value\":\"#30a2da\"},\"hatch_alpha\":{\"value\":0.2},\"hatch_color\":{\"value\":\"#30a2da\"},\"line_alpha\":{\"value\":0.2},\"top\":{\"field\":\"Ending_Period_Accrued_Interest\"},\"width\":{\"value\":0.8},\"x\":{\"field\":\"FICO_Range\"}},\"id\":\"1646\",\"type\":\"VBar\"},{\"attributes\":{\"margin\":[5,5,5,5],\"name\":\"HSpacer02887\",\"sizing_mode\":\"stretch_width\"},\"id\":\"1676\",\"type\":\"Spacer\"},{\"attributes\":{\"fill_color\":{\"value\":\"#30a2da\"},\"hatch_color\":{\"value\":\"#30a2da\"},\"top\":{\"field\":\"Ending_Period_Accrued_Interest\"},\"width\":{\"value\":0.8},\"x\":{\"field\":\"FICO_Range\"}},\"id\":\"1644\",\"type\":\"VBar\"},{\"attributes\":{},\"id\":\"1642\",\"type\":\"Selection\"},{\"attributes\":{},\"id\":\"1617\",\"type\":\"CategoricalScale\"},{\"attributes\":{\"margin\":[5,5,5,5],\"name\":\"HSpacer02886\",\"sizing_mode\":\"stretch_width\"},\"id\":\"1608\",\"type\":\"Spacer\"},{\"attributes\":{},\"id\":\"1628\",\"type\":\"SaveTool\"},{\"attributes\":{},\"id\":\"1629\",\"type\":\"PanTool\"},{\"attributes\":{},\"id\":\"1654\",\"type\":\"BasicTickFormatter\"},{\"attributes\":{},\"id\":\"1655\",\"type\":\"AllLabels\"},{\"attributes\":{\"tools\":[{\"id\":\"1611\"},{\"id\":\"1628\"},{\"id\":\"1629\"},{\"id\":\"1630\"},{\"id\":\"1631\"},{\"id\":\"1632\"}]},\"id\":\"1634\",\"type\":\"Toolbar\"},{\"attributes\":{\"axis_label\":\"FICO_Range\",\"coordinates\":null,\"formatter\":{\"id\":\"1651\"},\"group\":null,\"major_label_policy\":{\"id\":\"1652\"},\"ticker\":{\"id\":\"1622\"}},\"id\":\"1621\",\"type\":\"CategoricalAxis\"},{\"attributes\":{\"axis\":{\"id\":\"1621\"},\"coordinates\":null,\"grid_line_color\":null,\"group\":null,\"ticker\":null},\"id\":\"1623\",\"type\":\"Grid\"},{\"attributes\":{},\"id\":\"1630\",\"type\":\"WheelZoomTool\"},{\"attributes\":{\"bottom_units\":\"screen\",\"coordinates\":null,\"fill_alpha\":0.5,\"fill_color\":\"lightgrey\",\"group\":null,\"left_units\":\"screen\",\"level\":\"overlay\",\"line_alpha\":1.0,\"line_color\":\"black\",\"line_dash\":[4,4],\"line_width\":2,\"right_units\":\"screen\",\"syncable\":false,\"top_units\":\"screen\"},\"id\":\"1633\",\"type\":\"BoxAnnotation\"},{\"attributes\":{},\"id\":\"1632\",\"type\":\"ResetTool\"},{\"attributes\":{},\"id\":\"1625\",\"type\":\"BasicTicker\"},{\"attributes\":{},\"id\":\"1619\",\"type\":\"LinearScale\"},{\"attributes\":{\"data\":{\"Ending_Period_Accrued_Interest\":{\"__ndarray__\":\"UrgehTvT70CPwvUo5PTuQJqZmZlBle1AZmZmZt7x7UAfhetReKTrQA==\",\"dtype\":\"float64\",\"order\":\"little\",\"shape\":[5]},\"FICO_Range\":[\"625-650\",\"650-700\",\"700-750\",\"<625\",\">750\"]},\"selected\":{\"id\":\"1642\"},\"selection_policy\":{\"id\":\"1663\"}},\"id\":\"1641\",\"type\":\"ColumnDataSource\"},{\"attributes\":{},\"id\":\"1622\",\"type\":\"CategoricalTicker\"},{\"attributes\":{\"axis\":{\"id\":\"1624\"},\"coordinates\":null,\"dimension\":1,\"grid_line_color\":null,\"group\":null,\"ticker\":null},\"id\":\"1627\",\"type\":\"Grid\"},{\"attributes\":{\"coordinates\":null,\"group\":null,\"text\":\"Average Principal Outstanding by FICO_Range\",\"text_color\":\"black\",\"text_font_size\":\"12pt\"},\"id\":\"1613\",\"type\":\"Title\"},{\"attributes\":{\"coordinates\":null,\"data_source\":{\"id\":\"1641\"},\"glyph\":{\"id\":\"1644\"},\"group\":null,\"hover_glyph\":null,\"muted_glyph\":{\"id\":\"1646\"},\"nonselection_glyph\":{\"id\":\"1645\"},\"selection_glyph\":{\"id\":\"1649\"},\"view\":{\"id\":\"1648\"}},\"id\":\"1647\",\"type\":\"GlyphRenderer\"},{\"attributes\":{\"source\":{\"id\":\"1641\"}},\"id\":\"1648\",\"type\":\"CDSView\"},{\"attributes\":{\"bottom\":{\"value\":0},\"fill_alpha\":{\"value\":1.0},\"fill_color\":{\"value\":\"#30a2da\"},\"hatch_alpha\":{\"value\":1.0},\"hatch_color\":{\"value\":\"#30a2da\"},\"hatch_scale\":{\"value\":12.0},\"hatch_weight\":{\"value\":1.0},\"line_alpha\":{\"value\":1.0},\"line_cap\":{\"value\":\"butt\"},\"line_color\":{\"value\":\"black\"},\"line_dash\":{\"value\":[]},\"line_dash_offset\":{\"value\":0},\"line_join\":{\"value\":\"bevel\"},\"line_width\":{\"value\":1},\"top\":{\"field\":\"Ending_Period_Accrued_Interest\"},\"width\":{\"value\":0.8},\"x\":{\"field\":\"FICO_Range\"}},\"id\":\"1649\",\"type\":\"VBar\"},{\"attributes\":{\"fill_alpha\":{\"value\":0.1},\"fill_color\":{\"value\":\"#30a2da\"},\"hatch_alpha\":{\"value\":0.1},\"hatch_color\":{\"value\":\"#30a2da\"},\"line_alpha\":{\"value\":0.1},\"top\":{\"field\":\"Ending_Period_Accrued_Interest\"},\"width\":{\"value\":0.8},\"x\":{\"field\":\"FICO_Range\"}},\"id\":\"1645\",\"type\":\"VBar\"},{\"attributes\":{\"callback\":null,\"renderers\":[{\"id\":\"1647\"}],\"tags\":[\"hv_created\"],\"tooltips\":[[\"FICO_Range\",\"@{FICO_Range}\"],[\"Ending Period Accrued Interest\",\"@{Ending_Period_Accrued_Interest}\"]]},\"id\":\"1611\",\"type\":\"HoverTool\"}],\"root_ids\":[\"1607\"]},\"title\":\"Bokeh Application\",\"version\":\"2.4.2\"}};\n",
       "    var render_items = [{\"docid\":\"26515679-1a5e-46ef-bfd6-9514de5917a2\",\"root_ids\":[\"1607\"],\"roots\":{\"1607\":\"bcf75559-8ed3-4459-823b-093a5e1fae97\"}}];\n",
       "    root.Bokeh.embed.embed_items_notebook(docs_json, render_items);\n",
       "  }\n",
       "  if (root.Bokeh !== undefined && root.Bokeh.Panel !== undefined) {\n",
       "    embed_document(root);\n",
       "  } else {\n",
       "    var attempts = 0;\n",
       "    var timer = setInterval(function(root) {\n",
       "      if (root.Bokeh !== undefined && root.Bokeh.Panel !== undefined) {\n",
       "        clearInterval(timer);\n",
       "        embed_document(root);\n",
       "      } else if (document.readyState == \"complete\") {\n",
       "        attempts++;\n",
       "        if (attempts > 200) {\n",
       "          clearInterval(timer);\n",
       "          console.log(\"Bokeh: ERROR: Unable to run BokehJS code because BokehJS library is missing\");\n",
       "        }\n",
       "      }\n",
       "    }, 25, root)\n",
       "  }\n",
       "})(window);</script>"
      ],
      "text/plain": [
       ":Bars   [FICO_Range]   (Ending Period Accrued Interest)"
      ]
     },
     "execution_count": 22,
     "metadata": {
      "application/vnd.holoviews_exec.v0+json": {
       "id": "1607"
      }
     },
     "output_type": "execute_result"
    }
   ],
   "source": [
    "# Create a visual aggregation explore the Average loan outstanding by loan segment\n",
    "outstandingprincipal_by_FR.hvplot.bar( xlabel='Average Principal Outstanding', ylabel='FICO_Range', color=\"blue\", rot=90)\n",
    "\n",
    "accruedint1_by_ls.hvplot.bar(title=\"Average Principal Outstanding by FICO_Range\")"
   ]
  },
  {
   "cell_type": "markdown",
   "id": "4a4f1ce2-9d43-4c7c-9239-6a8a57fd3c75",
   "metadata": {},
   "source": [
    "# Create a numerical aggregation that groups the data by the year and then averages the results.\n",
    "accruedint1_by_ls = loan_df.groupby('FICO_Range')['Ending Period Accrued Interest'].sum()\n",
    "\n",
    "# Review the DataFrame\n",
    "accruedint1_by_ls"
   ]
  },
  {
   "cell_type": "code",
   "execution_count": null,
   "id": "cb6f6ad0-91b4-4064-9026-2aa60c7cb893",
   "metadata": {},
   "outputs": [],
   "source": []
  },
  {
   "cell_type": "code",
   "execution_count": 20,
   "id": "2d1d2776-bc7b-47a1-baa1-2047684268e3",
   "metadata": {},
   "outputs": [
    {
     "data": {},
     "metadata": {},
     "output_type": "display_data"
    },
    {
     "data": {
      "application/vnd.holoviews_exec.v0+json": "",
      "text/html": [
       "<div id='1486'>\n",
       "\n",
       "\n",
       "\n",
       "\n",
       "\n",
       "  <div class=\"bk-root\" id=\"7cdcbc8e-fe03-4776-ab0e-2317b9c3831a\" data-root-id=\"1486\"></div>\n",
       "</div>\n",
       "<script type=\"application/javascript\">(function(root) {\n",
       "  function embed_document(root) {\n",
       "    var docs_json = {\"bba157ab-d4ab-47d3-9691-a5dab38923fe\":{\"defs\":[{\"extends\":null,\"module\":null,\"name\":\"ReactiveHTML1\",\"overrides\":[],\"properties\":[]},{\"extends\":null,\"module\":null,\"name\":\"FlexBox1\",\"overrides\":[],\"properties\":[{\"default\":\"flex-start\",\"kind\":null,\"name\":\"align_content\"},{\"default\":\"flex-start\",\"kind\":null,\"name\":\"align_items\"},{\"default\":\"row\",\"kind\":null,\"name\":\"flex_direction\"},{\"default\":\"wrap\",\"kind\":null,\"name\":\"flex_wrap\"},{\"default\":\"flex-start\",\"kind\":null,\"name\":\"justify_content\"}]},{\"extends\":null,\"module\":null,\"name\":\"GridStack1\",\"overrides\":[],\"properties\":[{\"default\":\"warn\",\"kind\":null,\"name\":\"mode\"},{\"default\":null,\"kind\":null,\"name\":\"ncols\"},{\"default\":null,\"kind\":null,\"name\":\"nrows\"},{\"default\":true,\"kind\":null,\"name\":\"allow_resize\"},{\"default\":true,\"kind\":null,\"name\":\"allow_drag\"},{\"default\":[],\"kind\":null,\"name\":\"state\"}]},{\"extends\":null,\"module\":null,\"name\":\"click1\",\"overrides\":[],\"properties\":[{\"default\":\"\",\"kind\":null,\"name\":\"terminal_output\"},{\"default\":\"\",\"kind\":null,\"name\":\"debug_name\"},{\"default\":0,\"kind\":null,\"name\":\"clears\"}]},{\"extends\":null,\"module\":null,\"name\":\"TemplateActions1\",\"overrides\":[],\"properties\":[{\"default\":0,\"kind\":null,\"name\":\"open_modal\"},{\"default\":0,\"kind\":null,\"name\":\"close_modal\"}]},{\"extends\":null,\"module\":null,\"name\":\"MaterialTemplateActions1\",\"overrides\":[],\"properties\":[{\"default\":0,\"kind\":null,\"name\":\"open_modal\"},{\"default\":0,\"kind\":null,\"name\":\"close_modal\"}]}],\"roots\":{\"references\":[{\"attributes\":{},\"id\":\"1531\",\"type\":\"AllLabels\"},{\"attributes\":{\"callback\":null,\"renderers\":[{\"id\":\"1526\"}],\"tags\":[\"hv_created\"],\"tooltips\":[[\"FICO_Range\",\"@{FICO_Range}\"],[\"Ending Period Accrued Interest\",\"@{Ending_Period_Accrued_Interest}\"]]},\"id\":\"1490\",\"type\":\"HoverTool\"},{\"attributes\":{\"bottom_units\":\"screen\",\"coordinates\":null,\"fill_alpha\":0.5,\"fill_color\":\"lightgrey\",\"group\":null,\"left_units\":\"screen\",\"level\":\"overlay\",\"line_alpha\":1.0,\"line_color\":\"black\",\"line_dash\":[4,4],\"line_width\":2,\"right_units\":\"screen\",\"syncable\":false,\"top_units\":\"screen\"},\"id\":\"1512\",\"type\":\"BoxAnnotation\"},{\"attributes\":{},\"id\":\"1507\",\"type\":\"SaveTool\"},{\"attributes\":{\"margin\":[5,5,5,5],\"name\":\"HSpacer02664\",\"sizing_mode\":\"stretch_width\"},\"id\":\"1487\",\"type\":\"Spacer\"},{\"attributes\":{},\"id\":\"1521\",\"type\":\"Selection\"},{\"attributes\":{\"coordinates\":null,\"group\":null,\"text\":\"Total Accrued Interest by FICO_Range\",\"text_color\":\"black\",\"text_font_size\":\"12pt\"},\"id\":\"1492\",\"type\":\"Title\"},{\"attributes\":{\"fill_color\":{\"value\":\"#30a2da\"},\"hatch_color\":{\"value\":\"#30a2da\"},\"top\":{\"field\":\"Ending_Period_Accrued_Interest\"},\"width\":{\"value\":0.8},\"x\":{\"field\":\"FICO_Range\"}},\"id\":\"1523\",\"type\":\"VBar\"},{\"attributes\":{},\"id\":\"1534\",\"type\":\"AllLabels\"},{\"attributes\":{\"overlay\":{\"id\":\"1512\"}},\"id\":\"1510\",\"type\":\"BoxZoomTool\"},{\"attributes\":{\"children\":[{\"id\":\"1487\"},{\"id\":\"1491\"},{\"id\":\"1555\"}],\"margin\":[0,0,0,0],\"name\":\"Row02660\",\"tags\":[\"embedded\"]},\"id\":\"1486\",\"type\":\"Row\"},{\"attributes\":{\"axis_label\":\"\",\"coordinates\":null,\"formatter\":{\"id\":\"1533\"},\"group\":null,\"major_label_policy\":{\"id\":\"1534\"},\"ticker\":{\"id\":\"1504\"}},\"id\":\"1503\",\"type\":\"LinearAxis\"},{\"attributes\":{},\"id\":\"1509\",\"type\":\"WheelZoomTool\"},{\"attributes\":{\"end\":66034.47,\"reset_end\":66034.47,\"reset_start\":0.0,\"tags\":[[[\"Ending Period Accrued Interest\",\"Ending Period Accrued Interest\",null]]]},\"id\":\"1489\",\"type\":\"Range1d\"},{\"attributes\":{\"fill_alpha\":{\"value\":0.2},\"fill_color\":{\"value\":\"#30a2da\"},\"hatch_alpha\":{\"value\":0.2},\"hatch_color\":{\"value\":\"#30a2da\"},\"line_alpha\":{\"value\":0.2},\"top\":{\"field\":\"Ending_Period_Accrued_Interest\"},\"width\":{\"value\":0.8},\"x\":{\"field\":\"FICO_Range\"}},\"id\":\"1525\",\"type\":\"VBar\"},{\"attributes\":{},\"id\":\"1533\",\"type\":\"BasicTickFormatter\"},{\"attributes\":{\"source\":{\"id\":\"1520\"}},\"id\":\"1527\",\"type\":\"CDSView\"},{\"attributes\":{},\"id\":\"1511\",\"type\":\"ResetTool\"},{\"attributes\":{},\"id\":\"1508\",\"type\":\"PanTool\"},{\"attributes\":{\"axis_label\":\"FICO_Range\",\"coordinates\":null,\"formatter\":{\"id\":\"1530\"},\"group\":null,\"major_label_policy\":{\"id\":\"1531\"},\"ticker\":{\"id\":\"1501\"}},\"id\":\"1500\",\"type\":\"CategoricalAxis\"},{\"attributes\":{},\"id\":\"1530\",\"type\":\"CategoricalTickFormatter\"},{\"attributes\":{},\"id\":\"1542\",\"type\":\"UnionRenderers\"},{\"attributes\":{\"axis\":{\"id\":\"1500\"},\"coordinates\":null,\"grid_line_color\":null,\"group\":null,\"ticker\":null},\"id\":\"1502\",\"type\":\"Grid\"},{\"attributes\":{\"bottom\":{\"value\":0},\"fill_alpha\":{\"value\":1.0},\"fill_color\":{\"value\":\"#30a2da\"},\"hatch_alpha\":{\"value\":1.0},\"hatch_color\":{\"value\":\"#30a2da\"},\"hatch_scale\":{\"value\":12.0},\"hatch_weight\":{\"value\":1.0},\"line_alpha\":{\"value\":1.0},\"line_cap\":{\"value\":\"butt\"},\"line_color\":{\"value\":\"black\"},\"line_dash\":{\"value\":[]},\"line_dash_offset\":{\"value\":0},\"line_join\":{\"value\":\"bevel\"},\"line_width\":{\"value\":1},\"top\":{\"field\":\"Ending_Period_Accrued_Interest\"},\"width\":{\"value\":0.8},\"x\":{\"field\":\"FICO_Range\"}},\"id\":\"1528\",\"type\":\"VBar\"},{\"attributes\":{\"fill_alpha\":{\"value\":0.1},\"fill_color\":{\"value\":\"#30a2da\"},\"hatch_alpha\":{\"value\":0.1},\"hatch_color\":{\"value\":\"#30a2da\"},\"line_alpha\":{\"value\":0.1},\"top\":{\"field\":\"Ending_Period_Accrued_Interest\"},\"width\":{\"value\":0.8},\"x\":{\"field\":\"FICO_Range\"}},\"id\":\"1524\",\"type\":\"VBar\"},{\"attributes\":{\"data\":{\"Ending_Period_Accrued_Interest\":{\"__ndarray__\":\"UrgehTvT70CPwvUo5PTuQJqZmZlBle1AZmZmZt7x7UAfhetReKTrQA==\",\"dtype\":\"float64\",\"order\":\"little\",\"shape\":[5]},\"FICO_Range\":[\"625-650\",\"650-700\",\"700-750\",\"<625\",\">750\"]},\"selected\":{\"id\":\"1521\"},\"selection_policy\":{\"id\":\"1542\"}},\"id\":\"1520\",\"type\":\"ColumnDataSource\"},{\"attributes\":{\"axis\":{\"id\":\"1503\"},\"coordinates\":null,\"dimension\":1,\"grid_line_color\":null,\"group\":null,\"ticker\":null},\"id\":\"1506\",\"type\":\"Grid\"},{\"attributes\":{},\"id\":\"1498\",\"type\":\"LinearScale\"},{\"attributes\":{\"factors\":[\"625-650\",\"650-700\",\"700-750\",\"<625\",\">750\"],\"tags\":[[[\"FICO_Range\",\"FICO_Range\",null]]]},\"id\":\"1488\",\"type\":\"FactorRange\"},{\"attributes\":{},\"id\":\"1501\",\"type\":\"CategoricalTicker\"},{\"attributes\":{\"margin\":[5,5,5,5],\"name\":\"HSpacer02665\",\"sizing_mode\":\"stretch_width\"},\"id\":\"1555\",\"type\":\"Spacer\"},{\"attributes\":{},\"id\":\"1496\",\"type\":\"CategoricalScale\"},{\"attributes\":{\"coordinates\":null,\"data_source\":{\"id\":\"1520\"},\"glyph\":{\"id\":\"1523\"},\"group\":null,\"hover_glyph\":null,\"muted_glyph\":{\"id\":\"1525\"},\"nonselection_glyph\":{\"id\":\"1524\"},\"selection_glyph\":{\"id\":\"1528\"},\"view\":{\"id\":\"1527\"}},\"id\":\"1526\",\"type\":\"GlyphRenderer\"},{\"attributes\":{\"tools\":[{\"id\":\"1490\"},{\"id\":\"1507\"},{\"id\":\"1508\"},{\"id\":\"1509\"},{\"id\":\"1510\"},{\"id\":\"1511\"}]},\"id\":\"1513\",\"type\":\"Toolbar\"},{\"attributes\":{\"below\":[{\"id\":\"1500\"}],\"center\":[{\"id\":\"1502\"},{\"id\":\"1506\"}],\"height\":300,\"left\":[{\"id\":\"1503\"}],\"margin\":[5,5,5,5],\"min_border_bottom\":10,\"min_border_left\":10,\"min_border_right\":10,\"min_border_top\":10,\"renderers\":[{\"id\":\"1526\"}],\"sizing_mode\":\"fixed\",\"title\":{\"id\":\"1492\"},\"toolbar\":{\"id\":\"1513\"},\"width\":700,\"x_range\":{\"id\":\"1488\"},\"x_scale\":{\"id\":\"1496\"},\"y_range\":{\"id\":\"1489\"},\"y_scale\":{\"id\":\"1498\"}},\"id\":\"1491\",\"subtype\":\"Figure\",\"type\":\"Plot\"},{\"attributes\":{},\"id\":\"1504\",\"type\":\"BasicTicker\"}],\"root_ids\":[\"1486\"]},\"title\":\"Bokeh Application\",\"version\":\"2.4.2\"}};\n",
       "    var render_items = [{\"docid\":\"bba157ab-d4ab-47d3-9691-a5dab38923fe\",\"root_ids\":[\"1486\"],\"roots\":{\"1486\":\"7cdcbc8e-fe03-4776-ab0e-2317b9c3831a\"}}];\n",
       "    root.Bokeh.embed.embed_items_notebook(docs_json, render_items);\n",
       "  }\n",
       "  if (root.Bokeh !== undefined && root.Bokeh.Panel !== undefined) {\n",
       "    embed_document(root);\n",
       "  } else {\n",
       "    var attempts = 0;\n",
       "    var timer = setInterval(function(root) {\n",
       "      if (root.Bokeh !== undefined && root.Bokeh.Panel !== undefined) {\n",
       "        clearInterval(timer);\n",
       "        embed_document(root);\n",
       "      } else if (document.readyState == \"complete\") {\n",
       "        attempts++;\n",
       "        if (attempts > 200) {\n",
       "          clearInterval(timer);\n",
       "          console.log(\"Bokeh: ERROR: Unable to run BokehJS code because BokehJS library is missing\");\n",
       "        }\n",
       "      }\n",
       "    }, 25, root)\n",
       "  }\n",
       "})(window);</script>"
      ],
      "text/plain": [
       ":Bars   [FICO_Range]   (Ending Period Accrued Interest)"
      ]
     },
     "execution_count": 20,
     "metadata": {
      "application/vnd.holoviews_exec.v0+json": {
       "id": "1486"
      }
     },
     "output_type": "execute_result"
    }
   ],
   "source": [
    "# Create a visual aggregation explore the Total Accrued Interest by loan segment\n",
    "accruedint1_by_ls.hvplot.bar( xlabel='Total Accrued Interest', ylabel='FICO_Range', color=\"blue\", rot=90)\n",
    "\n",
    "accruedint1_by_ls.hvplot.bar(title=\"Total Accrued Interest by FICO_Range\")"
   ]
  },
  {
   "cell_type": "code",
   "execution_count": 23,
   "id": "4f08979b-ffe1-49f7-ae25-97a1e315adec",
   "metadata": {},
   "outputs": [
    {
     "data": {
      "text/plain": [
       "FICO_Range\n",
       "625-650       0.00\n",
       "650-700    9895.18\n",
       "700-750       0.00\n",
       "<625          0.00\n",
       ">750          0.00\n",
       "Name: Charge offs, dtype: float64"
      ]
     },
     "execution_count": 23,
     "metadata": {},
     "output_type": "execute_result"
    }
   ],
   "source": [
    "# Create a numerical aggregation that groups the data by the year and then averages the results.\n",
    "chargeoff_by_FR = loan_df.groupby('FICO_Range')['Charge offs'].sum()\n",
    "\n",
    "# Review the DataFrame\n",
    "chargeoff_by_FR"
   ]
  },
  {
   "cell_type": "code",
   "execution_count": 25,
   "id": "2803f8fa-1acf-454e-8147-d07a6591c2f2",
   "metadata": {},
   "outputs": [
    {
     "data": {},
     "metadata": {},
     "output_type": "display_data"
    },
    {
     "data": {
      "application/vnd.holoviews_exec.v0+json": "",
      "text/html": [
       "<div id='1849'>\n",
       "\n",
       "\n",
       "\n",
       "\n",
       "\n",
       "  <div class=\"bk-root\" id=\"1ff07012-ec61-40ab-850d-d4dde93f8c09\" data-root-id=\"1849\"></div>\n",
       "</div>\n",
       "<script type=\"application/javascript\">(function(root) {\n",
       "  function embed_document(root) {\n",
       "    var docs_json = {\"42387871-57f0-4256-8a91-f27de4cbf3e4\":{\"defs\":[{\"extends\":null,\"module\":null,\"name\":\"ReactiveHTML1\",\"overrides\":[],\"properties\":[]},{\"extends\":null,\"module\":null,\"name\":\"FlexBox1\",\"overrides\":[],\"properties\":[{\"default\":\"flex-start\",\"kind\":null,\"name\":\"align_content\"},{\"default\":\"flex-start\",\"kind\":null,\"name\":\"align_items\"},{\"default\":\"row\",\"kind\":null,\"name\":\"flex_direction\"},{\"default\":\"wrap\",\"kind\":null,\"name\":\"flex_wrap\"},{\"default\":\"flex-start\",\"kind\":null,\"name\":\"justify_content\"}]},{\"extends\":null,\"module\":null,\"name\":\"GridStack1\",\"overrides\":[],\"properties\":[{\"default\":\"warn\",\"kind\":null,\"name\":\"mode\"},{\"default\":null,\"kind\":null,\"name\":\"ncols\"},{\"default\":null,\"kind\":null,\"name\":\"nrows\"},{\"default\":true,\"kind\":null,\"name\":\"allow_resize\"},{\"default\":true,\"kind\":null,\"name\":\"allow_drag\"},{\"default\":[],\"kind\":null,\"name\":\"state\"}]},{\"extends\":null,\"module\":null,\"name\":\"click1\",\"overrides\":[],\"properties\":[{\"default\":\"\",\"kind\":null,\"name\":\"terminal_output\"},{\"default\":\"\",\"kind\":null,\"name\":\"debug_name\"},{\"default\":0,\"kind\":null,\"name\":\"clears\"}]},{\"extends\":null,\"module\":null,\"name\":\"TemplateActions1\",\"overrides\":[],\"properties\":[{\"default\":0,\"kind\":null,\"name\":\"open_modal\"},{\"default\":0,\"kind\":null,\"name\":\"close_modal\"}]},{\"extends\":null,\"module\":null,\"name\":\"MaterialTemplateActions1\",\"overrides\":[],\"properties\":[{\"default\":0,\"kind\":null,\"name\":\"open_modal\"},{\"default\":0,\"kind\":null,\"name\":\"close_modal\"}]}],\"roots\":{\"references\":[{\"attributes\":{\"below\":[{\"id\":\"1863\"}],\"center\":[{\"id\":\"1865\"},{\"id\":\"1869\"}],\"height\":300,\"left\":[{\"id\":\"1866\"}],\"margin\":[5,5,5,5],\"min_border_bottom\":10,\"min_border_left\":10,\"min_border_right\":10,\"min_border_top\":10,\"renderers\":[{\"id\":\"1889\"}],\"sizing_mode\":\"fixed\",\"title\":{\"id\":\"1855\"},\"toolbar\":{\"id\":\"1876\"},\"width\":700,\"x_range\":{\"id\":\"1851\"},\"x_scale\":{\"id\":\"1859\"},\"y_range\":{\"id\":\"1852\"},\"y_scale\":{\"id\":\"1861\"}},\"id\":\"1854\",\"subtype\":\"Figure\",\"type\":\"Plot\"},{\"attributes\":{\"axis_label\":\"FICO_Range\",\"coordinates\":null,\"formatter\":{\"id\":\"1893\"},\"group\":null,\"major_label_policy\":{\"id\":\"1894\"},\"ticker\":{\"id\":\"1864\"}},\"id\":\"1863\",\"type\":\"CategoricalAxis\"},{\"attributes\":{\"axis\":{\"id\":\"1866\"},\"coordinates\":null,\"dimension\":1,\"grid_line_color\":null,\"group\":null,\"ticker\":null},\"id\":\"1869\",\"type\":\"Grid\"},{\"attributes\":{},\"id\":\"1867\",\"type\":\"BasicTicker\"},{\"attributes\":{\"children\":[{\"id\":\"1850\"},{\"id\":\"1854\"},{\"id\":\"1918\"}],\"margin\":[0,0,0,0],\"name\":\"Row03326\",\"tags\":[\"embedded\"]},\"id\":\"1849\",\"type\":\"Row\"},{\"attributes\":{},\"id\":\"1893\",\"type\":\"CategoricalTickFormatter\"},{\"attributes\":{\"margin\":[5,5,5,5],\"name\":\"HSpacer03330\",\"sizing_mode\":\"stretch_width\"},\"id\":\"1850\",\"type\":\"Spacer\"},{\"attributes\":{},\"id\":\"1897\",\"type\":\"AllLabels\"},{\"attributes\":{},\"id\":\"1884\",\"type\":\"Selection\"},{\"attributes\":{\"margin\":[5,5,5,5],\"name\":\"HSpacer03331\",\"sizing_mode\":\"stretch_width\"},\"id\":\"1918\",\"type\":\"Spacer\"},{\"attributes\":{},\"id\":\"1896\",\"type\":\"BasicTickFormatter\"},{\"attributes\":{\"data\":{\"Charge_offs\":{\"__ndarray__\":\"AAAAAAAAAACkcD0Kl1PDQAAAAAAAAAAAAAAAAAAAAAAAAAAAAAAAAA==\",\"dtype\":\"float64\",\"order\":\"little\",\"shape\":[5]},\"FICO_Range\":[\"625-650\",\"650-700\",\"700-750\",\"<625\",\">750\"]},\"selected\":{\"id\":\"1884\"},\"selection_policy\":{\"id\":\"1905\"}},\"id\":\"1883\",\"type\":\"ColumnDataSource\"},{\"attributes\":{\"source\":{\"id\":\"1883\"}},\"id\":\"1890\",\"type\":\"CDSView\"},{\"attributes\":{\"fill_alpha\":{\"value\":0.2},\"fill_color\":{\"value\":\"#30a2da\"},\"hatch_alpha\":{\"value\":0.2},\"hatch_color\":{\"value\":\"#30a2da\"},\"line_alpha\":{\"value\":0.2},\"top\":{\"field\":\"Charge_offs\"},\"width\":{\"value\":0.8},\"x\":{\"field\":\"FICO_Range\"}},\"id\":\"1888\",\"type\":\"VBar\"},{\"attributes\":{},\"id\":\"1870\",\"type\":\"SaveTool\"},{\"attributes\":{},\"id\":\"1871\",\"type\":\"PanTool\"},{\"attributes\":{\"bottom\":{\"value\":0},\"fill_alpha\":{\"value\":1.0},\"fill_color\":{\"value\":\"#30a2da\"},\"hatch_alpha\":{\"value\":1.0},\"hatch_color\":{\"value\":\"#30a2da\"},\"hatch_scale\":{\"value\":12.0},\"hatch_weight\":{\"value\":1.0},\"line_alpha\":{\"value\":1.0},\"line_cap\":{\"value\":\"butt\"},\"line_color\":{\"value\":\"black\"},\"line_dash\":{\"value\":[]},\"line_dash_offset\":{\"value\":0},\"line_join\":{\"value\":\"bevel\"},\"line_width\":{\"value\":1},\"top\":{\"field\":\"Charge_offs\"},\"width\":{\"value\":0.8},\"x\":{\"field\":\"FICO_Range\"}},\"id\":\"1891\",\"type\":\"VBar\"},{\"attributes\":{},\"id\":\"1874\",\"type\":\"ResetTool\"},{\"attributes\":{},\"id\":\"1894\",\"type\":\"AllLabels\"},{\"attributes\":{},\"id\":\"1872\",\"type\":\"WheelZoomTool\"},{\"attributes\":{\"factors\":[\"625-650\",\"650-700\",\"700-750\",\"<625\",\">750\"],\"tags\":[[[\"FICO_Range\",\"FICO_Range\",null]]]},\"id\":\"1851\",\"type\":\"FactorRange\"},{\"attributes\":{\"coordinates\":null,\"data_source\":{\"id\":\"1883\"},\"glyph\":{\"id\":\"1886\"},\"group\":null,\"hover_glyph\":null,\"muted_glyph\":{\"id\":\"1888\"},\"nonselection_glyph\":{\"id\":\"1887\"},\"selection_glyph\":{\"id\":\"1891\"},\"view\":{\"id\":\"1890\"}},\"id\":\"1889\",\"type\":\"GlyphRenderer\"},{\"attributes\":{\"overlay\":{\"id\":\"1875\"}},\"id\":\"1873\",\"type\":\"BoxZoomTool\"},{\"attributes\":{},\"id\":\"1905\",\"type\":\"UnionRenderers\"},{\"attributes\":{\"coordinates\":null,\"group\":null,\"text\":\"Total Chargeoff by FICO_Range\",\"text_color\":\"black\",\"text_font_size\":\"12pt\"},\"id\":\"1855\",\"type\":\"Title\"},{\"attributes\":{\"axis\":{\"id\":\"1863\"},\"coordinates\":null,\"grid_line_color\":null,\"group\":null,\"ticker\":null},\"id\":\"1865\",\"type\":\"Grid\"},{\"attributes\":{},\"id\":\"1859\",\"type\":\"CategoricalScale\"},{\"attributes\":{\"fill_alpha\":{\"value\":0.1},\"fill_color\":{\"value\":\"#30a2da\"},\"hatch_alpha\":{\"value\":0.1},\"hatch_color\":{\"value\":\"#30a2da\"},\"line_alpha\":{\"value\":0.1},\"top\":{\"field\":\"Charge_offs\"},\"width\":{\"value\":0.8},\"x\":{\"field\":\"FICO_Range\"}},\"id\":\"1887\",\"type\":\"VBar\"},{\"attributes\":{\"end\":10884.698,\"reset_end\":10884.698,\"reset_start\":0.0,\"tags\":[[[\"Charge offs\",\"Charge offs\",null]]]},\"id\":\"1852\",\"type\":\"Range1d\"},{\"attributes\":{\"tools\":[{\"id\":\"1853\"},{\"id\":\"1870\"},{\"id\":\"1871\"},{\"id\":\"1872\"},{\"id\":\"1873\"},{\"id\":\"1874\"}]},\"id\":\"1876\",\"type\":\"Toolbar\"},{\"attributes\":{},\"id\":\"1861\",\"type\":\"LinearScale\"},{\"attributes\":{\"callback\":null,\"renderers\":[{\"id\":\"1889\"}],\"tags\":[\"hv_created\"],\"tooltips\":[[\"FICO_Range\",\"@{FICO_Range}\"],[\"Charge offs\",\"@{Charge_offs}\"]]},\"id\":\"1853\",\"type\":\"HoverTool\"},{\"attributes\":{\"fill_color\":{\"value\":\"#30a2da\"},\"hatch_color\":{\"value\":\"#30a2da\"},\"top\":{\"field\":\"Charge_offs\"},\"width\":{\"value\":0.8},\"x\":{\"field\":\"FICO_Range\"}},\"id\":\"1886\",\"type\":\"VBar\"},{\"attributes\":{\"bottom_units\":\"screen\",\"coordinates\":null,\"fill_alpha\":0.5,\"fill_color\":\"lightgrey\",\"group\":null,\"left_units\":\"screen\",\"level\":\"overlay\",\"line_alpha\":1.0,\"line_color\":\"black\",\"line_dash\":[4,4],\"line_width\":2,\"right_units\":\"screen\",\"syncable\":false,\"top_units\":\"screen\"},\"id\":\"1875\",\"type\":\"BoxAnnotation\"},{\"attributes\":{},\"id\":\"1864\",\"type\":\"CategoricalTicker\"},{\"attributes\":{\"axis_label\":\"\",\"coordinates\":null,\"formatter\":{\"id\":\"1896\"},\"group\":null,\"major_label_policy\":{\"id\":\"1897\"},\"ticker\":{\"id\":\"1867\"}},\"id\":\"1866\",\"type\":\"LinearAxis\"}],\"root_ids\":[\"1849\"]},\"title\":\"Bokeh Application\",\"version\":\"2.4.2\"}};\n",
       "    var render_items = [{\"docid\":\"42387871-57f0-4256-8a91-f27de4cbf3e4\",\"root_ids\":[\"1849\"],\"roots\":{\"1849\":\"1ff07012-ec61-40ab-850d-d4dde93f8c09\"}}];\n",
       "    root.Bokeh.embed.embed_items_notebook(docs_json, render_items);\n",
       "  }\n",
       "  if (root.Bokeh !== undefined && root.Bokeh.Panel !== undefined) {\n",
       "    embed_document(root);\n",
       "  } else {\n",
       "    var attempts = 0;\n",
       "    var timer = setInterval(function(root) {\n",
       "      if (root.Bokeh !== undefined && root.Bokeh.Panel !== undefined) {\n",
       "        clearInterval(timer);\n",
       "        embed_document(root);\n",
       "      } else if (document.readyState == \"complete\") {\n",
       "        attempts++;\n",
       "        if (attempts > 200) {\n",
       "          clearInterval(timer);\n",
       "          console.log(\"Bokeh: ERROR: Unable to run BokehJS code because BokehJS library is missing\");\n",
       "        }\n",
       "      }\n",
       "    }, 25, root)\n",
       "  }\n",
       "})(window);</script>"
      ],
      "text/plain": [
       ":Bars   [FICO_Range]   (Charge offs)"
      ]
     },
     "execution_count": 25,
     "metadata": {
      "application/vnd.holoviews_exec.v0+json": {
       "id": "1849"
      }
     },
     "output_type": "execute_result"
    }
   ],
   "source": [
    "# Create a visual aggregation explore the Total Accrued Interest by loan segment\n",
    "chargeoff_by_FR.hvplot.bar( xlabel='Charge offs', ylabel='FICO_Range', color=\"blue\", rot=90)\n",
    "\n",
    "chargeoff_by_FR.hvplot.bar(title=\"Total Chargeoff by FICO_Range\")"
   ]
  },
  {
   "cell_type": "code",
   "execution_count": 26,
   "id": "6e2913a0-08b0-477c-8bbf-9a8ed17a74c6",
   "metadata": {},
   "outputs": [
    {
     "data": {
      "text/plain": [
       "Market_Channel\n",
       "Email-Campaign       0.00\n",
       "Online            9895.18\n",
       "Phone                0.00\n",
       "Name: Charge offs, dtype: float64"
      ]
     },
     "execution_count": 26,
     "metadata": {},
     "output_type": "execute_result"
    }
   ],
   "source": [
    "# Create a numerical aggregation that groups the data by the year and then averages the results.\n",
    "chargeoff_by_mc= loan_df.groupby('Market_Channel')['Charge offs'].sum()\n",
    "\n",
    "# Review the DataFrame\n",
    "chargeoff_by_mc"
   ]
  },
  {
   "cell_type": "code",
   "execution_count": 30,
   "id": "4d42c83d-d8f3-4f41-b4e7-3ef89d4add58",
   "metadata": {},
   "outputs": [
    {
     "data": {},
     "metadata": {},
     "output_type": "display_data"
    },
    {
     "data": {
      "application/vnd.holoviews_exec.v0+json": "",
      "text/html": [
       "<div id='2212'>\n",
       "\n",
       "\n",
       "\n",
       "\n",
       "\n",
       "  <div class=\"bk-root\" id=\"e3e4edc1-4dcc-4eb9-8a04-2685f899bebd\" data-root-id=\"2212\"></div>\n",
       "</div>\n",
       "<script type=\"application/javascript\">(function(root) {\n",
       "  function embed_document(root) {\n",
       "    var docs_json = {\"48d642bb-ed65-4a16-9263-1dfc9caff899\":{\"defs\":[{\"extends\":null,\"module\":null,\"name\":\"ReactiveHTML1\",\"overrides\":[],\"properties\":[]},{\"extends\":null,\"module\":null,\"name\":\"FlexBox1\",\"overrides\":[],\"properties\":[{\"default\":\"flex-start\",\"kind\":null,\"name\":\"align_content\"},{\"default\":\"flex-start\",\"kind\":null,\"name\":\"align_items\"},{\"default\":\"row\",\"kind\":null,\"name\":\"flex_direction\"},{\"default\":\"wrap\",\"kind\":null,\"name\":\"flex_wrap\"},{\"default\":\"flex-start\",\"kind\":null,\"name\":\"justify_content\"}]},{\"extends\":null,\"module\":null,\"name\":\"GridStack1\",\"overrides\":[],\"properties\":[{\"default\":\"warn\",\"kind\":null,\"name\":\"mode\"},{\"default\":null,\"kind\":null,\"name\":\"ncols\"},{\"default\":null,\"kind\":null,\"name\":\"nrows\"},{\"default\":true,\"kind\":null,\"name\":\"allow_resize\"},{\"default\":true,\"kind\":null,\"name\":\"allow_drag\"},{\"default\":[],\"kind\":null,\"name\":\"state\"}]},{\"extends\":null,\"module\":null,\"name\":\"click1\",\"overrides\":[],\"properties\":[{\"default\":\"\",\"kind\":null,\"name\":\"terminal_output\"},{\"default\":\"\",\"kind\":null,\"name\":\"debug_name\"},{\"default\":0,\"kind\":null,\"name\":\"clears\"}]},{\"extends\":null,\"module\":null,\"name\":\"TemplateActions1\",\"overrides\":[],\"properties\":[{\"default\":0,\"kind\":null,\"name\":\"open_modal\"},{\"default\":0,\"kind\":null,\"name\":\"close_modal\"}]},{\"extends\":null,\"module\":null,\"name\":\"MaterialTemplateActions1\",\"overrides\":[],\"properties\":[{\"default\":0,\"kind\":null,\"name\":\"open_modal\"},{\"default\":0,\"kind\":null,\"name\":\"close_modal\"}]}],\"roots\":{\"references\":[{\"attributes\":{\"overlay\":{\"id\":\"2238\"}},\"id\":\"2236\",\"type\":\"BoxZoomTool\"},{\"attributes\":{\"coordinates\":null,\"group\":null,\"text\":\"Total Chargeoff by Market_Channel\",\"text_color\":\"black\",\"text_font_size\":\"12pt\"},\"id\":\"2218\",\"type\":\"Title\"},{\"attributes\":{},\"id\":\"2237\",\"type\":\"ResetTool\"},{\"attributes\":{\"axis\":{\"id\":\"2226\"},\"coordinates\":null,\"grid_line_color\":null,\"group\":null,\"ticker\":null},\"id\":\"2228\",\"type\":\"Grid\"},{\"attributes\":{},\"id\":\"2259\",\"type\":\"BasicTickFormatter\"},{\"attributes\":{},\"id\":\"2222\",\"type\":\"CategoricalScale\"},{\"attributes\":{},\"id\":\"2247\",\"type\":\"Selection\"},{\"attributes\":{},\"id\":\"2268\",\"type\":\"UnionRenderers\"},{\"attributes\":{\"axis_label\":\"Market_Channel\",\"coordinates\":null,\"formatter\":{\"id\":\"2256\"},\"group\":null,\"major_label_policy\":{\"id\":\"2257\"},\"ticker\":{\"id\":\"2227\"}},\"id\":\"2226\",\"type\":\"CategoricalAxis\"},{\"attributes\":{\"tools\":[{\"id\":\"2216\"},{\"id\":\"2233\"},{\"id\":\"2234\"},{\"id\":\"2235\"},{\"id\":\"2236\"},{\"id\":\"2237\"}]},\"id\":\"2239\",\"type\":\"Toolbar\"},{\"attributes\":{},\"id\":\"2224\",\"type\":\"LinearScale\"},{\"attributes\":{},\"id\":\"2230\",\"type\":\"BasicTicker\"},{\"attributes\":{},\"id\":\"2260\",\"type\":\"AllLabels\"},{\"attributes\":{\"callback\":null,\"renderers\":[{\"id\":\"2252\"}],\"tags\":[\"hv_created\"],\"tooltips\":[[\"Market_Channel\",\"@{Market_Channel}\"],[\"Charge offs\",\"@{Charge_offs}\"]]},\"id\":\"2216\",\"type\":\"HoverTool\"},{\"attributes\":{},\"id\":\"2227\",\"type\":\"CategoricalTicker\"},{\"attributes\":{\"bottom_units\":\"screen\",\"coordinates\":null,\"fill_alpha\":0.5,\"fill_color\":\"lightgrey\",\"group\":null,\"left_units\":\"screen\",\"level\":\"overlay\",\"line_alpha\":1.0,\"line_color\":\"black\",\"line_dash\":[4,4],\"line_width\":2,\"right_units\":\"screen\",\"syncable\":false,\"top_units\":\"screen\"},\"id\":\"2238\",\"type\":\"BoxAnnotation\"},{\"attributes\":{\"axis_label\":\"\",\"coordinates\":null,\"formatter\":{\"id\":\"2259\"},\"group\":null,\"major_label_policy\":{\"id\":\"2260\"},\"ticker\":{\"id\":\"2230\"}},\"id\":\"2229\",\"type\":\"LinearAxis\"},{\"attributes\":{},\"id\":\"2257\",\"type\":\"AllLabels\"},{\"attributes\":{\"axis\":{\"id\":\"2229\"},\"coordinates\":null,\"dimension\":1,\"grid_line_color\":null,\"group\":null,\"ticker\":null},\"id\":\"2232\",\"type\":\"Grid\"},{\"attributes\":{\"margin\":[5,5,5,5],\"name\":\"HSpacer04058\",\"sizing_mode\":\"stretch_width\"},\"id\":\"2213\",\"type\":\"Spacer\"},{\"attributes\":{\"margin\":[5,5,5,5],\"name\":\"HSpacer04059\",\"sizing_mode\":\"stretch_width\"},\"id\":\"2281\",\"type\":\"Spacer\"},{\"attributes\":{\"line_color\":\"#30a2da\",\"line_width\":2,\"x\":{\"field\":\"Market_Channel\"},\"y\":{\"field\":\"Charge offs\"}},\"id\":\"2254\",\"type\":\"Line\"},{\"attributes\":{\"end\":10884.698,\"reset_end\":10884.698,\"reset_start\":-989.518,\"start\":-989.518,\"tags\":[[[\"Charge offs\",\"Charge offs\",null]]]},\"id\":\"2215\",\"type\":\"Range1d\"},{\"attributes\":{\"coordinates\":null,\"data_source\":{\"id\":\"2246\"},\"glyph\":{\"id\":\"2249\"},\"group\":null,\"hover_glyph\":null,\"muted_glyph\":{\"id\":\"2251\"},\"nonselection_glyph\":{\"id\":\"2250\"},\"selection_glyph\":{\"id\":\"2254\"},\"view\":{\"id\":\"2253\"}},\"id\":\"2252\",\"type\":\"GlyphRenderer\"},{\"attributes\":{\"data\":{\"Charge offs\":{\"__ndarray__\":\"AAAAAAAAAACkcD0Kl1PDQAAAAAAAAAAA\",\"dtype\":\"float64\",\"order\":\"little\",\"shape\":[3]},\"Charge_offs\":{\"__ndarray__\":\"AAAAAAAAAACkcD0Kl1PDQAAAAAAAAAAA\",\"dtype\":\"float64\",\"order\":\"little\",\"shape\":[3]},\"Market_Channel\":[\"Email-Campaign\",\"Online\",\"Phone\"]},\"selected\":{\"id\":\"2247\"},\"selection_policy\":{\"id\":\"2268\"}},\"id\":\"2246\",\"type\":\"ColumnDataSource\"},{\"attributes\":{\"factors\":[\"Email-Campaign\",\"Online\",\"Phone\"],\"tags\":[[[\"Market_Channel\",\"Market_Channel\",null]]]},\"id\":\"2214\",\"type\":\"FactorRange\"},{\"attributes\":{\"line_color\":\"#30a2da\",\"line_width\":2,\"x\":{\"field\":\"Market_Channel\"},\"y\":{\"field\":\"Charge offs\"}},\"id\":\"2249\",\"type\":\"Line\"},{\"attributes\":{\"line_alpha\":0.1,\"line_color\":\"#30a2da\",\"line_width\":2,\"x\":{\"field\":\"Market_Channel\"},\"y\":{\"field\":\"Charge offs\"}},\"id\":\"2250\",\"type\":\"Line\"},{\"attributes\":{\"line_alpha\":0.2,\"line_color\":\"#30a2da\",\"line_width\":2,\"x\":{\"field\":\"Market_Channel\"},\"y\":{\"field\":\"Charge offs\"}},\"id\":\"2251\",\"type\":\"Line\"},{\"attributes\":{},\"id\":\"2233\",\"type\":\"SaveTool\"},{\"attributes\":{},\"id\":\"2256\",\"type\":\"CategoricalTickFormatter\"},{\"attributes\":{},\"id\":\"2234\",\"type\":\"PanTool\"},{\"attributes\":{\"below\":[{\"id\":\"2226\"}],\"center\":[{\"id\":\"2228\"},{\"id\":\"2232\"}],\"height\":300,\"left\":[{\"id\":\"2229\"}],\"margin\":[5,5,5,5],\"min_border_bottom\":10,\"min_border_left\":10,\"min_border_right\":10,\"min_border_top\":10,\"renderers\":[{\"id\":\"2252\"}],\"sizing_mode\":\"fixed\",\"title\":{\"id\":\"2218\"},\"toolbar\":{\"id\":\"2239\"},\"width\":700,\"x_range\":{\"id\":\"2214\"},\"x_scale\":{\"id\":\"2222\"},\"y_range\":{\"id\":\"2215\"},\"y_scale\":{\"id\":\"2224\"}},\"id\":\"2217\",\"subtype\":\"Figure\",\"type\":\"Plot\"},{\"attributes\":{\"source\":{\"id\":\"2246\"}},\"id\":\"2253\",\"type\":\"CDSView\"},{\"attributes\":{\"children\":[{\"id\":\"2213\"},{\"id\":\"2217\"},{\"id\":\"2281\"}],\"margin\":[0,0,0,0],\"name\":\"Row04054\",\"tags\":[\"embedded\"]},\"id\":\"2212\",\"type\":\"Row\"},{\"attributes\":{},\"id\":\"2235\",\"type\":\"WheelZoomTool\"}],\"root_ids\":[\"2212\"]},\"title\":\"Bokeh Application\",\"version\":\"2.4.2\"}};\n",
       "    var render_items = [{\"docid\":\"48d642bb-ed65-4a16-9263-1dfc9caff899\",\"root_ids\":[\"2212\"],\"roots\":{\"2212\":\"e3e4edc1-4dcc-4eb9-8a04-2685f899bebd\"}}];\n",
       "    root.Bokeh.embed.embed_items_notebook(docs_json, render_items);\n",
       "  }\n",
       "  if (root.Bokeh !== undefined && root.Bokeh.Panel !== undefined) {\n",
       "    embed_document(root);\n",
       "  } else {\n",
       "    var attempts = 0;\n",
       "    var timer = setInterval(function(root) {\n",
       "      if (root.Bokeh !== undefined && root.Bokeh.Panel !== undefined) {\n",
       "        clearInterval(timer);\n",
       "        embed_document(root);\n",
       "      } else if (document.readyState == \"complete\") {\n",
       "        attempts++;\n",
       "        if (attempts > 200) {\n",
       "          clearInterval(timer);\n",
       "          console.log(\"Bokeh: ERROR: Unable to run BokehJS code because BokehJS library is missing\");\n",
       "        }\n",
       "      }\n",
       "    }, 25, root)\n",
       "  }\n",
       "})(window);</script>"
      ],
      "text/plain": [
       ":Curve   [Market_Channel]   (Charge offs)"
      ]
     },
     "execution_count": 30,
     "metadata": {
      "application/vnd.holoviews_exec.v0+json": {
       "id": "2212"
      }
     },
     "output_type": "execute_result"
    }
   ],
   "source": [
    "chargeoff_by_mc.hvplot.line( xlabel='Charge offs', ylabel='Market_Channel', color=\"blue\", rot=90)\n",
    "\n",
    "chargeoff_by_mc.hvplot.line(title=\"Total Chargeoff by Market_Channel\")"
   ]
  },
  {
   "cell_type": "code",
   "execution_count": 31,
   "id": "571fe4bc-baba-4edd-849b-e76300cfd2b0",
   "metadata": {},
   "outputs": [
    {
     "data": {
      "text/plain": [
       "Employment_Type\n",
       "Full-Time           0.00\n",
       "Other               0.00\n",
       "Part-Time        9895.18\n",
       "Self-Employed       0.00\n",
       "Name: Charge offs, dtype: float64"
      ]
     },
     "execution_count": 31,
     "metadata": {},
     "output_type": "execute_result"
    }
   ],
   "source": [
    "# Create a numerical aggregation that groups the data by the year and then averages the results.\n",
    "chargeoff_by_et= loan_df.groupby('Employment_Type')['Charge offs'].sum()\n",
    "\n",
    "# Review the DataFrame\n",
    "chargeoff_by_et"
   ]
  },
  {
   "cell_type": "code",
   "execution_count": 32,
   "id": "a3bb3c69-aaa8-4835-a6b9-0ced294d9c1c",
   "metadata": {},
   "outputs": [
    {
     "data": {},
     "metadata": {},
     "output_type": "display_data"
    },
    {
     "data": {
      "application/vnd.holoviews_exec.v0+json": "",
      "text/html": [
       "<div id='2333'>\n",
       "\n",
       "\n",
       "\n",
       "\n",
       "\n",
       "  <div class=\"bk-root\" id=\"6e00c663-0d5f-4ea7-a58e-2693584781e8\" data-root-id=\"2333\"></div>\n",
       "</div>\n",
       "<script type=\"application/javascript\">(function(root) {\n",
       "  function embed_document(root) {\n",
       "    var docs_json = {\"bd827812-3523-4520-9ade-39c3af1aa986\":{\"defs\":[{\"extends\":null,\"module\":null,\"name\":\"ReactiveHTML1\",\"overrides\":[],\"properties\":[]},{\"extends\":null,\"module\":null,\"name\":\"FlexBox1\",\"overrides\":[],\"properties\":[{\"default\":\"flex-start\",\"kind\":null,\"name\":\"align_content\"},{\"default\":\"flex-start\",\"kind\":null,\"name\":\"align_items\"},{\"default\":\"row\",\"kind\":null,\"name\":\"flex_direction\"},{\"default\":\"wrap\",\"kind\":null,\"name\":\"flex_wrap\"},{\"default\":\"flex-start\",\"kind\":null,\"name\":\"justify_content\"}]},{\"extends\":null,\"module\":null,\"name\":\"GridStack1\",\"overrides\":[],\"properties\":[{\"default\":\"warn\",\"kind\":null,\"name\":\"mode\"},{\"default\":null,\"kind\":null,\"name\":\"ncols\"},{\"default\":null,\"kind\":null,\"name\":\"nrows\"},{\"default\":true,\"kind\":null,\"name\":\"allow_resize\"},{\"default\":true,\"kind\":null,\"name\":\"allow_drag\"},{\"default\":[],\"kind\":null,\"name\":\"state\"}]},{\"extends\":null,\"module\":null,\"name\":\"click1\",\"overrides\":[],\"properties\":[{\"default\":\"\",\"kind\":null,\"name\":\"terminal_output\"},{\"default\":\"\",\"kind\":null,\"name\":\"debug_name\"},{\"default\":0,\"kind\":null,\"name\":\"clears\"}]},{\"extends\":null,\"module\":null,\"name\":\"TemplateActions1\",\"overrides\":[],\"properties\":[{\"default\":0,\"kind\":null,\"name\":\"open_modal\"},{\"default\":0,\"kind\":null,\"name\":\"close_modal\"}]},{\"extends\":null,\"module\":null,\"name\":\"MaterialTemplateActions1\",\"overrides\":[],\"properties\":[{\"default\":0,\"kind\":null,\"name\":\"open_modal\"},{\"default\":0,\"kind\":null,\"name\":\"close_modal\"}]}],\"roots\":{\"references\":[{\"attributes\":{\"margin\":[5,5,5,5],\"name\":\"HSpacer04312\",\"sizing_mode\":\"stretch_width\"},\"id\":\"2402\",\"type\":\"Spacer\"},{\"attributes\":{\"line_color\":\"#30a2da\",\"line_width\":2,\"x\":{\"field\":\"Employment_Type\"},\"y\":{\"field\":\"Charge offs\"}},\"id\":\"2375\",\"type\":\"Line\"},{\"attributes\":{\"coordinates\":null,\"data_source\":{\"id\":\"2367\"},\"glyph\":{\"id\":\"2370\"},\"group\":null,\"hover_glyph\":null,\"muted_glyph\":{\"id\":\"2372\"},\"nonselection_glyph\":{\"id\":\"2371\"},\"selection_glyph\":{\"id\":\"2375\"},\"view\":{\"id\":\"2374\"}},\"id\":\"2373\",\"type\":\"GlyphRenderer\"},{\"attributes\":{\"source\":{\"id\":\"2367\"}},\"id\":\"2374\",\"type\":\"CDSView\"},{\"attributes\":{\"line_color\":\"#30a2da\",\"line_width\":2,\"x\":{\"field\":\"Employment_Type\"},\"y\":{\"field\":\"Charge offs\"}},\"id\":\"2370\",\"type\":\"Line\"},{\"attributes\":{\"line_alpha\":0.1,\"line_color\":\"#30a2da\",\"line_width\":2,\"x\":{\"field\":\"Employment_Type\"},\"y\":{\"field\":\"Charge offs\"}},\"id\":\"2371\",\"type\":\"Line\"},{\"attributes\":{},\"id\":\"2354\",\"type\":\"SaveTool\"},{\"attributes\":{},\"id\":\"2368\",\"type\":\"Selection\"},{\"attributes\":{},\"id\":\"2355\",\"type\":\"PanTool\"},{\"attributes\":{\"axis_label\":\"Employment_Type\",\"coordinates\":null,\"formatter\":{\"id\":\"2377\"},\"group\":null,\"major_label_policy\":{\"id\":\"2378\"},\"ticker\":{\"id\":\"2348\"}},\"id\":\"2347\",\"type\":\"CategoricalAxis\"},{\"attributes\":{},\"id\":\"2358\",\"type\":\"ResetTool\"},{\"attributes\":{},\"id\":\"2356\",\"type\":\"WheelZoomTool\"},{\"attributes\":{},\"id\":\"2378\",\"type\":\"AllLabels\"},{\"attributes\":{\"tools\":[{\"id\":\"2337\"},{\"id\":\"2354\"},{\"id\":\"2355\"},{\"id\":\"2356\"},{\"id\":\"2357\"},{\"id\":\"2358\"}]},\"id\":\"2360\",\"type\":\"Toolbar\"},{\"attributes\":{\"overlay\":{\"id\":\"2359\"}},\"id\":\"2357\",\"type\":\"BoxZoomTool\"},{\"attributes\":{\"line_alpha\":0.2,\"line_color\":\"#30a2da\",\"line_width\":2,\"x\":{\"field\":\"Employment_Type\"},\"y\":{\"field\":\"Charge offs\"}},\"id\":\"2372\",\"type\":\"Line\"},{\"attributes\":{},\"id\":\"2377\",\"type\":\"CategoricalTickFormatter\"},{\"attributes\":{\"coordinates\":null,\"group\":null,\"text\":\"Total Chargeoff by Employment_Type\",\"text_color\":\"black\",\"text_font_size\":\"12pt\"},\"id\":\"2339\",\"type\":\"Title\"},{\"attributes\":{\"axis\":{\"id\":\"2347\"},\"coordinates\":null,\"grid_line_color\":null,\"group\":null,\"ticker\":null},\"id\":\"2349\",\"type\":\"Grid\"},{\"attributes\":{},\"id\":\"2343\",\"type\":\"CategoricalScale\"},{\"attributes\":{},\"id\":\"2389\",\"type\":\"UnionRenderers\"},{\"attributes\":{},\"id\":\"2380\",\"type\":\"BasicTickFormatter\"},{\"attributes\":{},\"id\":\"2381\",\"type\":\"AllLabels\"},{\"attributes\":{},\"id\":\"2345\",\"type\":\"LinearScale\"},{\"attributes\":{\"bottom_units\":\"screen\",\"coordinates\":null,\"fill_alpha\":0.5,\"fill_color\":\"lightgrey\",\"group\":null,\"left_units\":\"screen\",\"level\":\"overlay\",\"line_alpha\":1.0,\"line_color\":\"black\",\"line_dash\":[4,4],\"line_width\":2,\"right_units\":\"screen\",\"syncable\":false,\"top_units\":\"screen\"},\"id\":\"2359\",\"type\":\"BoxAnnotation\"},{\"attributes\":{\"children\":[{\"id\":\"2334\"},{\"id\":\"2338\"},{\"id\":\"2402\"}],\"margin\":[0,0,0,0],\"name\":\"Row04307\",\"tags\":[\"embedded\"]},\"id\":\"2333\",\"type\":\"Row\"},{\"attributes\":{},\"id\":\"2351\",\"type\":\"BasicTicker\"},{\"attributes\":{\"below\":[{\"id\":\"2347\"}],\"center\":[{\"id\":\"2349\"},{\"id\":\"2353\"}],\"height\":300,\"left\":[{\"id\":\"2350\"}],\"margin\":[5,5,5,5],\"min_border_bottom\":10,\"min_border_left\":10,\"min_border_right\":10,\"min_border_top\":10,\"renderers\":[{\"id\":\"2373\"}],\"sizing_mode\":\"fixed\",\"title\":{\"id\":\"2339\"},\"toolbar\":{\"id\":\"2360\"},\"width\":700,\"x_range\":{\"id\":\"2335\"},\"x_scale\":{\"id\":\"2343\"},\"y_range\":{\"id\":\"2336\"},\"y_scale\":{\"id\":\"2345\"}},\"id\":\"2338\",\"subtype\":\"Figure\",\"type\":\"Plot\"},{\"attributes\":{\"data\":{\"Charge offs\":{\"__ndarray__\":\"AAAAAAAAAAAAAAAAAAAAAKRwPQqXU8NAAAAAAAAAAAA=\",\"dtype\":\"float64\",\"order\":\"little\",\"shape\":[4]},\"Charge_offs\":{\"__ndarray__\":\"AAAAAAAAAAAAAAAAAAAAAKRwPQqXU8NAAAAAAAAAAAA=\",\"dtype\":\"float64\",\"order\":\"little\",\"shape\":[4]},\"Employment_Type\":[\"Full-Time\",\"Other\",\"Part-Time\",\"Self-Employed\"]},\"selected\":{\"id\":\"2368\"},\"selection_policy\":{\"id\":\"2389\"}},\"id\":\"2367\",\"type\":\"ColumnDataSource\"},{\"attributes\":{},\"id\":\"2348\",\"type\":\"CategoricalTicker\"},{\"attributes\":{\"factors\":[\"Full-Time\",\"Other\",\"Part-Time\",\"Self-Employed\"],\"tags\":[[[\"Employment_Type\",\"Employment_Type\",null]]]},\"id\":\"2335\",\"type\":\"FactorRange\"},{\"attributes\":{\"margin\":[5,5,5,5],\"name\":\"HSpacer04311\",\"sizing_mode\":\"stretch_width\"},\"id\":\"2334\",\"type\":\"Spacer\"},{\"attributes\":{\"axis_label\":\"\",\"coordinates\":null,\"formatter\":{\"id\":\"2380\"},\"group\":null,\"major_label_policy\":{\"id\":\"2381\"},\"ticker\":{\"id\":\"2351\"}},\"id\":\"2350\",\"type\":\"LinearAxis\"},{\"attributes\":{\"callback\":null,\"renderers\":[{\"id\":\"2373\"}],\"tags\":[\"hv_created\"],\"tooltips\":[[\"Employment_Type\",\"@{Employment_Type}\"],[\"Charge offs\",\"@{Charge_offs}\"]]},\"id\":\"2337\",\"type\":\"HoverTool\"},{\"attributes\":{\"end\":10884.698,\"reset_end\":10884.698,\"reset_start\":-989.518,\"start\":-989.518,\"tags\":[[[\"Charge offs\",\"Charge offs\",null]]]},\"id\":\"2336\",\"type\":\"Range1d\"},{\"attributes\":{\"axis\":{\"id\":\"2350\"},\"coordinates\":null,\"dimension\":1,\"grid_line_color\":null,\"group\":null,\"ticker\":null},\"id\":\"2353\",\"type\":\"Grid\"}],\"root_ids\":[\"2333\"]},\"title\":\"Bokeh Application\",\"version\":\"2.4.2\"}};\n",
       "    var render_items = [{\"docid\":\"bd827812-3523-4520-9ade-39c3af1aa986\",\"root_ids\":[\"2333\"],\"roots\":{\"2333\":\"6e00c663-0d5f-4ea7-a58e-2693584781e8\"}}];\n",
       "    root.Bokeh.embed.embed_items_notebook(docs_json, render_items);\n",
       "  }\n",
       "  if (root.Bokeh !== undefined && root.Bokeh.Panel !== undefined) {\n",
       "    embed_document(root);\n",
       "  } else {\n",
       "    var attempts = 0;\n",
       "    var timer = setInterval(function(root) {\n",
       "      if (root.Bokeh !== undefined && root.Bokeh.Panel !== undefined) {\n",
       "        clearInterval(timer);\n",
       "        embed_document(root);\n",
       "      } else if (document.readyState == \"complete\") {\n",
       "        attempts++;\n",
       "        if (attempts > 200) {\n",
       "          clearInterval(timer);\n",
       "          console.log(\"Bokeh: ERROR: Unable to run BokehJS code because BokehJS library is missing\");\n",
       "        }\n",
       "      }\n",
       "    }, 25, root)\n",
       "  }\n",
       "})(window);</script>"
      ],
      "text/plain": [
       ":Curve   [Employment_Type]   (Charge offs)"
      ]
     },
     "execution_count": 32,
     "metadata": {
      "application/vnd.holoviews_exec.v0+json": {
       "id": "2333"
      }
     },
     "output_type": "execute_result"
    }
   ],
   "source": [
    "chargeoff_by_et.hvplot.line( xlabel='Charge offs', ylabel='Employment_Type', color=\"blue\", rot=90)\n",
    "\n",
    "chargeoff_by_et.hvplot.line(title=\"Total Chargeoff by Employment_Type\")"
   ]
  },
  {
   "cell_type": "code",
   "execution_count": 35,
   "id": "30b439a1-2fdb-4539-b5f8-1efe6b1a7d3e",
   "metadata": {},
   "outputs": [
    {
     "data": {
      "text/plain": [
       "Region\n",
       "East          12153.374144\n",
       "Mid West      11535.994131\n",
       "North West    11077.804479\n",
       "South         11501.512629\n",
       "West          11916.784274\n",
       "Name: Ending Principal Outstanding, dtype: float64"
      ]
     },
     "execution_count": 35,
     "metadata": {},
     "output_type": "execute_result"
    }
   ],
   "source": [
    "# Create a numerical aggregation that groups the data by the year and then averages the results.\n",
    "outstanding_by_reg= loan_df.groupby('Region')['Ending Principal Outstanding'].mean()\n",
    "\n",
    "# Review the DataFrame\n",
    "outstanding_by_reg"
   ]
  },
  {
   "cell_type": "code",
   "execution_count": 41,
   "id": "ed83bbc2-a1c9-41f1-abb3-78cf1ea7e64f",
   "metadata": {},
   "outputs": [
    {
     "data": {},
     "metadata": {},
     "output_type": "display_data"
    },
    {
     "data": {
      "application/vnd.holoviews_exec.v0+json": "",
      "text/html": [
       "<div id='2817'>\n",
       "\n",
       "\n",
       "\n",
       "\n",
       "\n",
       "  <div class=\"bk-root\" id=\"72579d49-25f2-4ec6-9016-333f8d720503\" data-root-id=\"2817\"></div>\n",
       "</div>\n",
       "<script type=\"application/javascript\">(function(root) {\n",
       "  function embed_document(root) {\n",
       "    var docs_json = {\"d37374ec-1fa6-4191-95b5-6cf1332cb625\":{\"defs\":[{\"extends\":null,\"module\":null,\"name\":\"ReactiveHTML1\",\"overrides\":[],\"properties\":[]},{\"extends\":null,\"module\":null,\"name\":\"FlexBox1\",\"overrides\":[],\"properties\":[{\"default\":\"flex-start\",\"kind\":null,\"name\":\"align_content\"},{\"default\":\"flex-start\",\"kind\":null,\"name\":\"align_items\"},{\"default\":\"row\",\"kind\":null,\"name\":\"flex_direction\"},{\"default\":\"wrap\",\"kind\":null,\"name\":\"flex_wrap\"},{\"default\":\"flex-start\",\"kind\":null,\"name\":\"justify_content\"}]},{\"extends\":null,\"module\":null,\"name\":\"GridStack1\",\"overrides\":[],\"properties\":[{\"default\":\"warn\",\"kind\":null,\"name\":\"mode\"},{\"default\":null,\"kind\":null,\"name\":\"ncols\"},{\"default\":null,\"kind\":null,\"name\":\"nrows\"},{\"default\":true,\"kind\":null,\"name\":\"allow_resize\"},{\"default\":true,\"kind\":null,\"name\":\"allow_drag\"},{\"default\":[],\"kind\":null,\"name\":\"state\"}]},{\"extends\":null,\"module\":null,\"name\":\"click1\",\"overrides\":[],\"properties\":[{\"default\":\"\",\"kind\":null,\"name\":\"terminal_output\"},{\"default\":\"\",\"kind\":null,\"name\":\"debug_name\"},{\"default\":0,\"kind\":null,\"name\":\"clears\"}]},{\"extends\":null,\"module\":null,\"name\":\"TemplateActions1\",\"overrides\":[],\"properties\":[{\"default\":0,\"kind\":null,\"name\":\"open_modal\"},{\"default\":0,\"kind\":null,\"name\":\"close_modal\"}]},{\"extends\":null,\"module\":null,\"name\":\"MaterialTemplateActions1\",\"overrides\":[],\"properties\":[{\"default\":0,\"kind\":null,\"name\":\"open_modal\"},{\"default\":0,\"kind\":null,\"name\":\"close_modal\"}]}],\"roots\":{\"references\":[{\"attributes\":{},\"id\":\"2840\",\"type\":\"WheelZoomTool\"},{\"attributes\":{\"overlay\":{\"id\":\"2843\"}},\"id\":\"2841\",\"type\":\"BoxZoomTool\"},{\"attributes\":{},\"id\":\"2873\",\"type\":\"UnionRenderers\"},{\"attributes\":{\"data\":{\"Ending Principal Outstanding\":{\"__ndarray__\":\"mMXz46+8x0DeWaw//4fGQJNfLPnmosVAnqvPncF2xkAfrxZjZEbHQA==\",\"dtype\":\"float64\",\"order\":\"little\",\"shape\":[5]},\"Ending_Principal_Outstanding\":{\"__ndarray__\":\"mMXz46+8x0DeWaw//4fGQJNfLPnmosVAnqvPncF2xkAfrxZjZEbHQA==\",\"dtype\":\"float64\",\"order\":\"little\",\"shape\":[5]},\"Region\":[\"East\",\"Mid West\",\"North West\",\"South\",\"West\"]},\"selected\":{\"id\":\"2852\"},\"selection_policy\":{\"id\":\"2873\"}},\"id\":\"2851\",\"type\":\"ColumnDataSource\"},{\"attributes\":{\"axis_label\":\"Region\",\"coordinates\":null,\"formatter\":{\"id\":\"2861\"},\"group\":null,\"major_label_policy\":{\"id\":\"2862\"},\"ticker\":{\"id\":\"2832\"}},\"id\":\"2831\",\"type\":\"CategoricalAxis\"},{\"attributes\":{\"coordinates\":null,\"group\":null,\"text\":\"Average loan by region\",\"text_color\":\"black\",\"text_font_size\":\"12pt\"},\"id\":\"2823\",\"type\":\"Title\"},{\"attributes\":{\"callback\":null,\"renderers\":[{\"id\":\"2857\"}],\"tags\":[\"hv_created\"],\"tooltips\":[[\"Region\",\"@{Region}\"],[\"Ending Principal Outstanding\",\"@{Ending_Principal_Outstanding}\"]]},\"id\":\"2821\",\"type\":\"HoverTool\"},{\"attributes\":{\"axis\":{\"id\":\"2831\"},\"coordinates\":null,\"grid_line_color\":null,\"group\":null,\"ticker\":null},\"id\":\"2833\",\"type\":\"Grid\"},{\"attributes\":{},\"id\":\"2827\",\"type\":\"CategoricalScale\"},{\"attributes\":{},\"id\":\"2865\",\"type\":\"AllLabels\"},{\"attributes\":{\"below\":[{\"id\":\"2831\"}],\"center\":[{\"id\":\"2833\"},{\"id\":\"2837\"}],\"height\":300,\"left\":[{\"id\":\"2834\"}],\"margin\":[5,5,5,5],\"min_border_bottom\":10,\"min_border_left\":10,\"min_border_right\":10,\"min_border_top\":10,\"renderers\":[{\"id\":\"2857\"}],\"sizing_mode\":\"fixed\",\"title\":{\"id\":\"2823\"},\"toolbar\":{\"id\":\"2844\"},\"width\":700,\"x_range\":{\"id\":\"2819\"},\"x_scale\":{\"id\":\"2827\"},\"y_range\":{\"id\":\"2820\"},\"y_scale\":{\"id\":\"2829\"}},\"id\":\"2822\",\"subtype\":\"Figure\",\"type\":\"Plot\"},{\"attributes\":{\"factors\":[\"East\",\"Mid West\",\"North West\",\"South\",\"West\"],\"tags\":[[[\"Region\",\"Region\",null]]]},\"id\":\"2819\",\"type\":\"FactorRange\"},{\"attributes\":{},\"id\":\"2829\",\"type\":\"LinearScale\"},{\"attributes\":{\"tools\":[{\"id\":\"2821\"},{\"id\":\"2838\"},{\"id\":\"2839\"},{\"id\":\"2840\"},{\"id\":\"2841\"},{\"id\":\"2842\"}]},\"id\":\"2844\",\"type\":\"Toolbar\"},{\"attributes\":{\"children\":[{\"id\":\"2818\"},{\"id\":\"2822\"},{\"id\":\"2886\"}],\"margin\":[0,0,0,0],\"name\":\"Row05257\",\"tags\":[\"embedded\"]},\"id\":\"2817\",\"type\":\"Row\"},{\"attributes\":{\"source\":{\"id\":\"2851\"}},\"id\":\"2858\",\"type\":\"CDSView\"},{\"attributes\":{},\"id\":\"2835\",\"type\":\"BasicTicker\"},{\"attributes\":{},\"id\":\"2832\",\"type\":\"CategoricalTicker\"},{\"attributes\":{\"bottom_units\":\"screen\",\"coordinates\":null,\"fill_alpha\":0.5,\"fill_color\":\"lightgrey\",\"group\":null,\"left_units\":\"screen\",\"level\":\"overlay\",\"line_alpha\":1.0,\"line_color\":\"black\",\"line_dash\":[4,4],\"line_width\":2,\"right_units\":\"screen\",\"syncable\":false,\"top_units\":\"screen\"},\"id\":\"2843\",\"type\":\"BoxAnnotation\"},{\"attributes\":{\"margin\":[5,5,5,5],\"name\":\"HSpacer05261\",\"sizing_mode\":\"stretch_width\"},\"id\":\"2818\",\"type\":\"Spacer\"},{\"attributes\":{\"margin\":[5,5,5,5],\"name\":\"HSpacer05262\",\"sizing_mode\":\"stretch_width\"},\"id\":\"2886\",\"type\":\"Spacer\"},{\"attributes\":{\"axis_label\":\"\",\"coordinates\":null,\"formatter\":{\"id\":\"2864\"},\"group\":null,\"major_label_policy\":{\"id\":\"2865\"},\"ticker\":{\"id\":\"2835\"}},\"id\":\"2834\",\"type\":\"LinearAxis\"},{\"attributes\":{},\"id\":\"2864\",\"type\":\"BasicTickFormatter\"},{\"attributes\":{\"line_color\":\"#30a2da\",\"line_width\":2,\"x\":{\"field\":\"Region\"},\"y\":{\"field\":\"Ending Principal Outstanding\"}},\"id\":\"2859\",\"type\":\"Line\"},{\"attributes\":{\"axis\":{\"id\":\"2834\"},\"coordinates\":null,\"dimension\":1,\"grid_line_color\":null,\"group\":null,\"ticker\":null},\"id\":\"2837\",\"type\":\"Grid\"},{\"attributes\":{\"coordinates\":null,\"data_source\":{\"id\":\"2851\"},\"glyph\":{\"id\":\"2854\"},\"group\":null,\"hover_glyph\":null,\"muted_glyph\":{\"id\":\"2856\"},\"nonselection_glyph\":{\"id\":\"2855\"},\"selection_glyph\":{\"id\":\"2859\"},\"view\":{\"id\":\"2858\"}},\"id\":\"2857\",\"type\":\"GlyphRenderer\"},{\"attributes\":{},\"id\":\"2852\",\"type\":\"Selection\"},{\"attributes\":{\"end\":12260.931110538448,\"reset_end\":12260.931110538448,\"reset_start\":10970.247512678323,\"start\":10970.247512678323,\"tags\":[[[\"Ending Principal Outstanding\",\"Ending Principal Outstanding\",null]]]},\"id\":\"2820\",\"type\":\"Range1d\"},{\"attributes\":{\"line_alpha\":0.1,\"line_color\":\"#30a2da\",\"line_width\":2,\"x\":{\"field\":\"Region\"},\"y\":{\"field\":\"Ending Principal Outstanding\"}},\"id\":\"2855\",\"type\":\"Line\"},{\"attributes\":{\"line_alpha\":0.2,\"line_color\":\"#30a2da\",\"line_width\":2,\"x\":{\"field\":\"Region\"},\"y\":{\"field\":\"Ending Principal Outstanding\"}},\"id\":\"2856\",\"type\":\"Line\"},{\"attributes\":{},\"id\":\"2862\",\"type\":\"AllLabels\"},{\"attributes\":{\"line_color\":\"#30a2da\",\"line_width\":2,\"x\":{\"field\":\"Region\"},\"y\":{\"field\":\"Ending Principal Outstanding\"}},\"id\":\"2854\",\"type\":\"Line\"},{\"attributes\":{},\"id\":\"2861\",\"type\":\"CategoricalTickFormatter\"},{\"attributes\":{},\"id\":\"2838\",\"type\":\"SaveTool\"},{\"attributes\":{},\"id\":\"2839\",\"type\":\"PanTool\"},{\"attributes\":{},\"id\":\"2842\",\"type\":\"ResetTool\"}],\"root_ids\":[\"2817\"]},\"title\":\"Bokeh Application\",\"version\":\"2.4.2\"}};\n",
       "    var render_items = [{\"docid\":\"d37374ec-1fa6-4191-95b5-6cf1332cb625\",\"root_ids\":[\"2817\"],\"roots\":{\"2817\":\"72579d49-25f2-4ec6-9016-333f8d720503\"}}];\n",
       "    root.Bokeh.embed.embed_items_notebook(docs_json, render_items);\n",
       "  }\n",
       "  if (root.Bokeh !== undefined && root.Bokeh.Panel !== undefined) {\n",
       "    embed_document(root);\n",
       "  } else {\n",
       "    var attempts = 0;\n",
       "    var timer = setInterval(function(root) {\n",
       "      if (root.Bokeh !== undefined && root.Bokeh.Panel !== undefined) {\n",
       "        clearInterval(timer);\n",
       "        embed_document(root);\n",
       "      } else if (document.readyState == \"complete\") {\n",
       "        attempts++;\n",
       "        if (attempts > 200) {\n",
       "          clearInterval(timer);\n",
       "          console.log(\"Bokeh: ERROR: Unable to run BokehJS code because BokehJS library is missing\");\n",
       "        }\n",
       "      }\n",
       "    }, 25, root)\n",
       "  }\n",
       "})(window);</script>"
      ],
      "text/plain": [
       ":Curve   [Region]   (Ending Principal Outstanding)"
      ]
     },
     "execution_count": 41,
     "metadata": {
      "application/vnd.holoviews_exec.v0+json": {
       "id": "2817"
      }
     },
     "output_type": "execute_result"
    }
   ],
   "source": [
    "# Create a visual aggregation explore the Total Accrued Interest by loan segment\n",
    "outstanding_by_reg.hvplot.line( xlabel='Ending Principal Outstanding', ylabel='Region', color=\"blue\", rot=90)\n",
    "\n",
    "outstanding_by_reg.hvplot.line(title=\"Average loan by region\")"
   ]
  },
  {
   "cell_type": "code",
   "execution_count": 38,
   "id": "ebb759d5-f355-4275-bc6b-690be7e4661c",
   "metadata": {},
   "outputs": [
    {
     "data": {
      "text/plain": [
       "Region\n",
       "East          63420.99\n",
       "Mid West      58249.65\n",
       "North West    58522.38\n",
       "South         63208.45\n",
       "West          63700.28\n",
       "Name: Ending Period Accrued Interest, dtype: float64"
      ]
     },
     "execution_count": 38,
     "metadata": {},
     "output_type": "execute_result"
    }
   ],
   "source": [
    "# Create a numerical aggregation that groups the data by the year and then averages the results.\n",
    "interest_by_reg= loan_df.groupby('Region')['Ending Period Accrued Interest'].sum()\n",
    "\n",
    "# Review the DataFrame\n",
    "interest_by_reg"
   ]
  },
  {
   "cell_type": "code",
   "execution_count": 40,
   "id": "dd75cfd6-5866-4a08-b3e7-985104b98aeb",
   "metadata": {},
   "outputs": [
    {
     "data": {},
     "metadata": {},
     "output_type": "display_data"
    },
    {
     "data": {
      "application/vnd.holoviews_exec.v0+json": "",
      "text/html": [
       "<div id='2696'>\n",
       "\n",
       "\n",
       "\n",
       "\n",
       "\n",
       "  <div class=\"bk-root\" id=\"b9bf2a2c-d7d1-4d15-85ea-dce2c3a60d52\" data-root-id=\"2696\"></div>\n",
       "</div>\n",
       "<script type=\"application/javascript\">(function(root) {\n",
       "  function embed_document(root) {\n",
       "    var docs_json = {\"c9548e81-cf46-497b-b916-e61f759ec3f2\":{\"defs\":[{\"extends\":null,\"module\":null,\"name\":\"ReactiveHTML1\",\"overrides\":[],\"properties\":[]},{\"extends\":null,\"module\":null,\"name\":\"FlexBox1\",\"overrides\":[],\"properties\":[{\"default\":\"flex-start\",\"kind\":null,\"name\":\"align_content\"},{\"default\":\"flex-start\",\"kind\":null,\"name\":\"align_items\"},{\"default\":\"row\",\"kind\":null,\"name\":\"flex_direction\"},{\"default\":\"wrap\",\"kind\":null,\"name\":\"flex_wrap\"},{\"default\":\"flex-start\",\"kind\":null,\"name\":\"justify_content\"}]},{\"extends\":null,\"module\":null,\"name\":\"GridStack1\",\"overrides\":[],\"properties\":[{\"default\":\"warn\",\"kind\":null,\"name\":\"mode\"},{\"default\":null,\"kind\":null,\"name\":\"ncols\"},{\"default\":null,\"kind\":null,\"name\":\"nrows\"},{\"default\":true,\"kind\":null,\"name\":\"allow_resize\"},{\"default\":true,\"kind\":null,\"name\":\"allow_drag\"},{\"default\":[],\"kind\":null,\"name\":\"state\"}]},{\"extends\":null,\"module\":null,\"name\":\"click1\",\"overrides\":[],\"properties\":[{\"default\":\"\",\"kind\":null,\"name\":\"terminal_output\"},{\"default\":\"\",\"kind\":null,\"name\":\"debug_name\"},{\"default\":0,\"kind\":null,\"name\":\"clears\"}]},{\"extends\":null,\"module\":null,\"name\":\"TemplateActions1\",\"overrides\":[],\"properties\":[{\"default\":0,\"kind\":null,\"name\":\"open_modal\"},{\"default\":0,\"kind\":null,\"name\":\"close_modal\"}]},{\"extends\":null,\"module\":null,\"name\":\"MaterialTemplateActions1\",\"overrides\":[],\"properties\":[{\"default\":0,\"kind\":null,\"name\":\"open_modal\"},{\"default\":0,\"kind\":null,\"name\":\"close_modal\"}]}],\"roots\":{\"references\":[{\"attributes\":{\"margin\":[5,5,5,5],\"name\":\"HSpacer05008\",\"sizing_mode\":\"stretch_width\"},\"id\":\"2697\",\"type\":\"Spacer\"},{\"attributes\":{\"axis_label\":\"\",\"coordinates\":null,\"formatter\":{\"id\":\"2743\"},\"group\":null,\"major_label_policy\":{\"id\":\"2744\"},\"ticker\":{\"id\":\"2714\"}},\"id\":\"2713\",\"type\":\"LinearAxis\"},{\"attributes\":{\"children\":[{\"id\":\"2697\"},{\"id\":\"2701\"},{\"id\":\"2765\"}],\"margin\":[0,0,0,0],\"name\":\"Row05004\",\"tags\":[\"embedded\"]},\"id\":\"2696\",\"type\":\"Row\"},{\"attributes\":{\"axis\":{\"id\":\"2713\"},\"coordinates\":null,\"dimension\":1,\"grid_line_color\":null,\"group\":null,\"ticker\":null},\"id\":\"2716\",\"type\":\"Grid\"},{\"attributes\":{\"callback\":null,\"renderers\":[{\"id\":\"2736\"}],\"tags\":[\"hv_created\"],\"tooltips\":[[\"Region\",\"@{Region}\"],[\"Ending Period Accrued Interest\",\"@{Ending_Period_Accrued_Interest}\"]]},\"id\":\"2700\",\"type\":\"HoverTool\"},{\"attributes\":{\"axis_label\":\"Region\",\"coordinates\":null,\"formatter\":{\"id\":\"2740\"},\"group\":null,\"major_label_policy\":{\"id\":\"2741\"},\"ticker\":{\"id\":\"2711\"}},\"id\":\"2710\",\"type\":\"CategoricalAxis\"},{\"attributes\":{\"line_color\":\"#30a2da\",\"line_width\":2,\"x\":{\"field\":\"Region\"},\"y\":{\"field\":\"Ending Period Accrued Interest\"}},\"id\":\"2738\",\"type\":\"Line\"},{\"attributes\":{\"line_alpha\":0.1,\"line_color\":\"#30a2da\",\"line_width\":2,\"x\":{\"field\":\"Region\"},\"y\":{\"field\":\"Ending Period Accrued Interest\"}},\"id\":\"2734\",\"type\":\"Line\"},{\"attributes\":{},\"id\":\"2740\",\"type\":\"CategoricalTickFormatter\"},{\"attributes\":{\"line_alpha\":0.2,\"line_color\":\"#30a2da\",\"line_width\":2,\"x\":{\"field\":\"Region\"},\"y\":{\"field\":\"Ending Period Accrued Interest\"}},\"id\":\"2735\",\"type\":\"Line\"},{\"attributes\":{},\"id\":\"2714\",\"type\":\"BasicTicker\"},{\"attributes\":{},\"id\":\"2717\",\"type\":\"SaveTool\"},{\"attributes\":{},\"id\":\"2743\",\"type\":\"BasicTickFormatter\"},{\"attributes\":{},\"id\":\"2731\",\"type\":\"Selection\"},{\"attributes\":{\"margin\":[5,5,5,5],\"name\":\"HSpacer05009\",\"sizing_mode\":\"stretch_width\"},\"id\":\"2765\",\"type\":\"Spacer\"},{\"attributes\":{},\"id\":\"2718\",\"type\":\"PanTool\"},{\"attributes\":{\"line_color\":\"#30a2da\",\"line_width\":2,\"x\":{\"field\":\"Region\"},\"y\":{\"field\":\"Ending Period Accrued Interest\"}},\"id\":\"2733\",\"type\":\"Line\"},{\"attributes\":{},\"id\":\"2721\",\"type\":\"ResetTool\"},{\"attributes\":{\"factors\":[\"East\",\"Mid West\",\"North West\",\"South\",\"West\"],\"tags\":[[[\"Region\",\"Region\",null]]]},\"id\":\"2698\",\"type\":\"FactorRange\"},{\"attributes\":{\"source\":{\"id\":\"2730\"}},\"id\":\"2737\",\"type\":\"CDSView\"},{\"attributes\":{},\"id\":\"2719\",\"type\":\"WheelZoomTool\"},{\"attributes\":{\"overlay\":{\"id\":\"2722\"}},\"id\":\"2720\",\"type\":\"BoxZoomTool\"},{\"attributes\":{},\"id\":\"2741\",\"type\":\"AllLabels\"},{\"attributes\":{\"coordinates\":null,\"group\":null,\"text\":\"Total Interest Accrued by region\",\"text_color\":\"black\",\"text_font_size\":\"12pt\"},\"id\":\"2702\",\"type\":\"Title\"},{\"attributes\":{\"axis\":{\"id\":\"2710\"},\"coordinates\":null,\"grid_line_color\":null,\"group\":null,\"ticker\":null},\"id\":\"2712\",\"type\":\"Grid\"},{\"attributes\":{},\"id\":\"2706\",\"type\":\"CategoricalScale\"},{\"attributes\":{\"tools\":[{\"id\":\"2700\"},{\"id\":\"2717\"},{\"id\":\"2718\"},{\"id\":\"2719\"},{\"id\":\"2720\"},{\"id\":\"2721\"}]},\"id\":\"2723\",\"type\":\"Toolbar\"},{\"attributes\":{},\"id\":\"2752\",\"type\":\"UnionRenderers\"},{\"attributes\":{\"end\":64245.343,\"reset_end\":64245.343,\"reset_start\":57704.587,\"start\":57704.587,\"tags\":[[[\"Ending Period Accrued Interest\",\"Ending Period Accrued Interest\",null]]]},\"id\":\"2699\",\"type\":\"Range1d\"},{\"attributes\":{\"coordinates\":null,\"data_source\":{\"id\":\"2730\"},\"glyph\":{\"id\":\"2733\"},\"group\":null,\"hover_glyph\":null,\"muted_glyph\":{\"id\":\"2735\"},\"nonselection_glyph\":{\"id\":\"2734\"},\"selection_glyph\":{\"id\":\"2738\"},\"view\":{\"id\":\"2737\"}},\"id\":\"2736\",\"type\":\"GlyphRenderer\"},{\"attributes\":{\"data\":{\"Ending Period Accrued Interest\":{\"__ndarray__\":\"4XoUrp/37kDNzMzMNHHsQI/C9ShMk+xAZmZmZg7d7kBcj8L1iBrvQA==\",\"dtype\":\"float64\",\"order\":\"little\",\"shape\":[5]},\"Ending_Period_Accrued_Interest\":{\"__ndarray__\":\"4XoUrp/37kDNzMzMNHHsQI/C9ShMk+xAZmZmZg7d7kBcj8L1iBrvQA==\",\"dtype\":\"float64\",\"order\":\"little\",\"shape\":[5]},\"Region\":[\"East\",\"Mid West\",\"North West\",\"South\",\"West\"]},\"selected\":{\"id\":\"2731\"},\"selection_policy\":{\"id\":\"2752\"}},\"id\":\"2730\",\"type\":\"ColumnDataSource\"},{\"attributes\":{},\"id\":\"2744\",\"type\":\"AllLabels\"},{\"attributes\":{},\"id\":\"2708\",\"type\":\"LinearScale\"},{\"attributes\":{\"bottom_units\":\"screen\",\"coordinates\":null,\"fill_alpha\":0.5,\"fill_color\":\"lightgrey\",\"group\":null,\"left_units\":\"screen\",\"level\":\"overlay\",\"line_alpha\":1.0,\"line_color\":\"black\",\"line_dash\":[4,4],\"line_width\":2,\"right_units\":\"screen\",\"syncable\":false,\"top_units\":\"screen\"},\"id\":\"2722\",\"type\":\"BoxAnnotation\"},{\"attributes\":{\"below\":[{\"id\":\"2710\"}],\"center\":[{\"id\":\"2712\"},{\"id\":\"2716\"}],\"height\":300,\"left\":[{\"id\":\"2713\"}],\"margin\":[5,5,5,5],\"min_border_bottom\":10,\"min_border_left\":10,\"min_border_right\":10,\"min_border_top\":10,\"renderers\":[{\"id\":\"2736\"}],\"sizing_mode\":\"fixed\",\"title\":{\"id\":\"2702\"},\"toolbar\":{\"id\":\"2723\"},\"width\":700,\"x_range\":{\"id\":\"2698\"},\"x_scale\":{\"id\":\"2706\"},\"y_range\":{\"id\":\"2699\"},\"y_scale\":{\"id\":\"2708\"}},\"id\":\"2701\",\"subtype\":\"Figure\",\"type\":\"Plot\"},{\"attributes\":{},\"id\":\"2711\",\"type\":\"CategoricalTicker\"}],\"root_ids\":[\"2696\"]},\"title\":\"Bokeh Application\",\"version\":\"2.4.2\"}};\n",
       "    var render_items = [{\"docid\":\"c9548e81-cf46-497b-b916-e61f759ec3f2\",\"root_ids\":[\"2696\"],\"roots\":{\"2696\":\"b9bf2a2c-d7d1-4d15-85ea-dce2c3a60d52\"}}];\n",
       "    root.Bokeh.embed.embed_items_notebook(docs_json, render_items);\n",
       "  }\n",
       "  if (root.Bokeh !== undefined && root.Bokeh.Panel !== undefined) {\n",
       "    embed_document(root);\n",
       "  } else {\n",
       "    var attempts = 0;\n",
       "    var timer = setInterval(function(root) {\n",
       "      if (root.Bokeh !== undefined && root.Bokeh.Panel !== undefined) {\n",
       "        clearInterval(timer);\n",
       "        embed_document(root);\n",
       "      } else if (document.readyState == \"complete\") {\n",
       "        attempts++;\n",
       "        if (attempts > 200) {\n",
       "          clearInterval(timer);\n",
       "          console.log(\"Bokeh: ERROR: Unable to run BokehJS code because BokehJS library is missing\");\n",
       "        }\n",
       "      }\n",
       "    }, 25, root)\n",
       "  }\n",
       "})(window);</script>"
      ],
      "text/plain": [
       ":Curve   [Region]   (Ending Period Accrued Interest)"
      ]
     },
     "execution_count": 40,
     "metadata": {
      "application/vnd.holoviews_exec.v0+json": {
       "id": "2696"
      }
     },
     "output_type": "execute_result"
    }
   ],
   "source": [
    "# Create a visual aggregation explore the Total Accrued Interest by loan segment\n",
    "interest_by_reg.hvplot.line( xlabel='Total Interest Accrued', ylabel='Region', color=\"blue\", rot=90)\n",
    "\n",
    "interest_by_reg.hvplot.line(title=\"Total Interest Accrued by region\")"
   ]
  },
  {
   "cell_type": "code",
   "execution_count": 42,
   "id": "e2f75697-c37e-4618-92d3-d5a2b3975ac7",
   "metadata": {},
   "outputs": [
    {
     "data": {
      "text/plain": [
       "Term\n",
       "24     12616.87\n",
       "36    144569.26\n",
       "48     33206.04\n",
       "60    116709.58\n",
       "Name: Ending Period Accrued Interest, dtype: float64"
      ]
     },
     "execution_count": 42,
     "metadata": {},
     "output_type": "execute_result"
    }
   ],
   "source": [
    "# Create a numerical aggregation that groups the data by the year and then averages the results.\n",
    "interest_by_term= loan_df.groupby('Term')['Ending Period Accrued Interest'].sum()\n",
    "\n",
    "# Review the DataFrame\n",
    "interest_by_term"
   ]
  },
  {
   "cell_type": "code",
   "execution_count": 44,
   "id": "825322e7-ed5f-4c7b-8abd-2d4a4808fd1d",
   "metadata": {},
   "outputs": [
    {
     "data": {},
     "metadata": {},
     "output_type": "display_data"
    },
    {
     "data": {
      "application/vnd.holoviews_exec.v0+json": "",
      "text/html": [
       "<div id='3060'>\n",
       "\n",
       "\n",
       "\n",
       "\n",
       "\n",
       "  <div class=\"bk-root\" id=\"859c9277-3ada-4fd3-9d93-2bd5a2b233f9\" data-root-id=\"3060\"></div>\n",
       "</div>\n",
       "<script type=\"application/javascript\">(function(root) {\n",
       "  function embed_document(root) {\n",
       "    var docs_json = {\"9ded4ff4-9eb9-4c1c-b77b-f72605cf6d82\":{\"defs\":[{\"extends\":null,\"module\":null,\"name\":\"ReactiveHTML1\",\"overrides\":[],\"properties\":[]},{\"extends\":null,\"module\":null,\"name\":\"FlexBox1\",\"overrides\":[],\"properties\":[{\"default\":\"flex-start\",\"kind\":null,\"name\":\"align_content\"},{\"default\":\"flex-start\",\"kind\":null,\"name\":\"align_items\"},{\"default\":\"row\",\"kind\":null,\"name\":\"flex_direction\"},{\"default\":\"wrap\",\"kind\":null,\"name\":\"flex_wrap\"},{\"default\":\"flex-start\",\"kind\":null,\"name\":\"justify_content\"}]},{\"extends\":null,\"module\":null,\"name\":\"GridStack1\",\"overrides\":[],\"properties\":[{\"default\":\"warn\",\"kind\":null,\"name\":\"mode\"},{\"default\":null,\"kind\":null,\"name\":\"ncols\"},{\"default\":null,\"kind\":null,\"name\":\"nrows\"},{\"default\":true,\"kind\":null,\"name\":\"allow_resize\"},{\"default\":true,\"kind\":null,\"name\":\"allow_drag\"},{\"default\":[],\"kind\":null,\"name\":\"state\"}]},{\"extends\":null,\"module\":null,\"name\":\"click1\",\"overrides\":[],\"properties\":[{\"default\":\"\",\"kind\":null,\"name\":\"terminal_output\"},{\"default\":\"\",\"kind\":null,\"name\":\"debug_name\"},{\"default\":0,\"kind\":null,\"name\":\"clears\"}]},{\"extends\":null,\"module\":null,\"name\":\"TemplateActions1\",\"overrides\":[],\"properties\":[{\"default\":0,\"kind\":null,\"name\":\"open_modal\"},{\"default\":0,\"kind\":null,\"name\":\"close_modal\"}]},{\"extends\":null,\"module\":null,\"name\":\"MaterialTemplateActions1\",\"overrides\":[],\"properties\":[{\"default\":0,\"kind\":null,\"name\":\"open_modal\"},{\"default\":0,\"kind\":null,\"name\":\"close_modal\"}]}],\"roots\":{\"references\":[{\"attributes\":{\"axis\":{\"id\":\"3074\"},\"coordinates\":null,\"grid_line_color\":null,\"group\":null,\"ticker\":null},\"id\":\"3076\",\"type\":\"Grid\"},{\"attributes\":{},\"id\":\"3104\",\"type\":\"CategoricalTickFormatter\"},{\"attributes\":{\"axis_label\":\"Term\",\"coordinates\":null,\"formatter\":{\"id\":\"3104\"},\"group\":null,\"major_label_policy\":{\"id\":\"3105\"},\"ticker\":{\"id\":\"3075\"}},\"id\":\"3074\",\"type\":\"CategoricalAxis\"},{\"attributes\":{},\"id\":\"3107\",\"type\":\"BasicTickFormatter\"},{\"attributes\":{\"bottom_units\":\"screen\",\"coordinates\":null,\"fill_alpha\":0.5,\"fill_color\":\"lightgrey\",\"group\":null,\"left_units\":\"screen\",\"level\":\"overlay\",\"line_alpha\":1.0,\"line_color\":\"black\",\"line_dash\":[4,4],\"line_width\":2,\"right_units\":\"screen\",\"syncable\":false,\"top_units\":\"screen\"},\"id\":\"3086\",\"type\":\"BoxAnnotation\"},{\"attributes\":{\"source\":{\"id\":\"3094\"}},\"id\":\"3101\",\"type\":\"CDSView\"},{\"attributes\":{},\"id\":\"3078\",\"type\":\"BasicTicker\"},{\"attributes\":{},\"id\":\"3075\",\"type\":\"CategoricalTicker\"},{\"attributes\":{\"factors\":[\"24\",\"36\",\"48\",\"60\"],\"tags\":[[[\"Term\",\"Term\",null]]]},\"id\":\"3062\",\"type\":\"FactorRange\"},{\"attributes\":{\"axis_label\":\"\",\"coordinates\":null,\"formatter\":{\"id\":\"3107\"},\"group\":null,\"major_label_policy\":{\"id\":\"3108\"},\"ticker\":{\"id\":\"3078\"}},\"id\":\"3077\",\"type\":\"LinearAxis\"},{\"attributes\":{\"tools\":[{\"id\":\"3064\"},{\"id\":\"3081\"},{\"id\":\"3082\"},{\"id\":\"3083\"},{\"id\":\"3084\"},{\"id\":\"3085\"}]},\"id\":\"3087\",\"type\":\"Toolbar\"},{\"attributes\":{\"axis\":{\"id\":\"3077\"},\"coordinates\":null,\"dimension\":1,\"grid_line_color\":null,\"group\":null,\"ticker\":null},\"id\":\"3080\",\"type\":\"Grid\"},{\"attributes\":{\"end\":157764.499,\"reset_end\":157764.499,\"reset_start\":0.0,\"tags\":[[[\"Ending Period Accrued Interest\",\"Ending Period Accrued Interest\",null]]]},\"id\":\"3063\",\"type\":\"Range1d\"},{\"attributes\":{\"children\":[{\"id\":\"3061\"},{\"id\":\"3065\"},{\"id\":\"3129\"}],\"margin\":[0,0,0,0],\"name\":\"Row05761\",\"tags\":[\"embedded\"]},\"id\":\"3060\",\"type\":\"Row\"},{\"attributes\":{\"margin\":[5,5,5,5],\"name\":\"HSpacer05765\",\"sizing_mode\":\"stretch_width\"},\"id\":\"3061\",\"type\":\"Spacer\"},{\"attributes\":{\"below\":[{\"id\":\"3074\"}],\"center\":[{\"id\":\"3076\"},{\"id\":\"3080\"}],\"height\":300,\"left\":[{\"id\":\"3077\"}],\"margin\":[5,5,5,5],\"min_border_bottom\":10,\"min_border_left\":10,\"min_border_right\":10,\"min_border_top\":10,\"renderers\":[{\"id\":\"3100\"}],\"sizing_mode\":\"fixed\",\"title\":{\"id\":\"3066\"},\"toolbar\":{\"id\":\"3087\"},\"width\":700,\"x_range\":{\"id\":\"3062\"},\"x_scale\":{\"id\":\"3070\"},\"y_range\":{\"id\":\"3063\"},\"y_scale\":{\"id\":\"3072\"}},\"id\":\"3065\",\"subtype\":\"Figure\",\"type\":\"Plot\"},{\"attributes\":{\"data\":{\"Ending_Period_Accrued_Interest\":{\"__ndarray__\":\"w/UoXG+kyEBI4XoUyqUBQXsUrkfBNuBAexSuR1l+/EA=\",\"dtype\":\"float64\",\"order\":\"little\",\"shape\":[4]},\"Term\":[\"24\",\"36\",\"48\",\"60\"]},\"selected\":{\"id\":\"3095\"},\"selection_policy\":{\"id\":\"3116\"}},\"id\":\"3094\",\"type\":\"ColumnDataSource\"},{\"attributes\":{\"fill_alpha\":{\"value\":0.2},\"fill_color\":{\"value\":\"#30a2da\"},\"hatch_alpha\":{\"value\":0.2},\"hatch_color\":{\"value\":\"#30a2da\"},\"line_alpha\":{\"value\":0.2},\"top\":{\"field\":\"Ending_Period_Accrued_Interest\"},\"width\":{\"value\":0.8},\"x\":{\"field\":\"Term\"}},\"id\":\"3099\",\"type\":\"VBar\"},{\"attributes\":{},\"id\":\"3116\",\"type\":\"UnionRenderers\"},{\"attributes\":{},\"id\":\"3108\",\"type\":\"AllLabels\"},{\"attributes\":{},\"id\":\"3105\",\"type\":\"AllLabels\"},{\"attributes\":{},\"id\":\"3081\",\"type\":\"SaveTool\"},{\"attributes\":{},\"id\":\"3082\",\"type\":\"PanTool\"},{\"attributes\":{\"fill_alpha\":{\"value\":0.1},\"fill_color\":{\"value\":\"#30a2da\"},\"hatch_alpha\":{\"value\":0.1},\"hatch_color\":{\"value\":\"#30a2da\"},\"line_alpha\":{\"value\":0.1},\"top\":{\"field\":\"Ending_Period_Accrued_Interest\"},\"width\":{\"value\":0.8},\"x\":{\"field\":\"Term\"}},\"id\":\"3098\",\"type\":\"VBar\"},{\"attributes\":{},\"id\":\"3085\",\"type\":\"ResetTool\"},{\"attributes\":{\"fill_color\":{\"value\":\"#30a2da\"},\"hatch_color\":{\"value\":\"#30a2da\"},\"top\":{\"field\":\"Ending_Period_Accrued_Interest\"},\"width\":{\"value\":0.8},\"x\":{\"field\":\"Term\"}},\"id\":\"3097\",\"type\":\"VBar\"},{\"attributes\":{\"callback\":null,\"renderers\":[{\"id\":\"3100\"}],\"tags\":[\"hv_created\"],\"tooltips\":[[\"Term\",\"@{Term}\"],[\"Ending Period Accrued Interest\",\"@{Ending_Period_Accrued_Interest}\"]]},\"id\":\"3064\",\"type\":\"HoverTool\"},{\"attributes\":{},\"id\":\"3083\",\"type\":\"WheelZoomTool\"},{\"attributes\":{\"bottom\":{\"value\":0},\"fill_alpha\":{\"value\":1.0},\"fill_color\":{\"value\":\"#30a2da\"},\"hatch_alpha\":{\"value\":1.0},\"hatch_color\":{\"value\":\"#30a2da\"},\"hatch_scale\":{\"value\":12.0},\"hatch_weight\":{\"value\":1.0},\"line_alpha\":{\"value\":1.0},\"line_cap\":{\"value\":\"butt\"},\"line_color\":{\"value\":\"black\"},\"line_dash\":{\"value\":[]},\"line_dash_offset\":{\"value\":0},\"line_join\":{\"value\":\"bevel\"},\"line_width\":{\"value\":1},\"top\":{\"field\":\"Ending_Period_Accrued_Interest\"},\"width\":{\"value\":0.8},\"x\":{\"field\":\"Term\"}},\"id\":\"3102\",\"type\":\"VBar\"},{\"attributes\":{\"overlay\":{\"id\":\"3086\"}},\"id\":\"3084\",\"type\":\"BoxZoomTool\"},{\"attributes\":{},\"id\":\"3095\",\"type\":\"Selection\"},{\"attributes\":{\"margin\":[5,5,5,5],\"name\":\"HSpacer05766\",\"sizing_mode\":\"stretch_width\"},\"id\":\"3129\",\"type\":\"Spacer\"},{\"attributes\":{\"coordinates\":null,\"group\":null,\"text\":\"Total Interest Accrued by Term\",\"text_color\":\"black\",\"text_font_size\":\"12pt\"},\"id\":\"3066\",\"type\":\"Title\"},{\"attributes\":{\"coordinates\":null,\"data_source\":{\"id\":\"3094\"},\"glyph\":{\"id\":\"3097\"},\"group\":null,\"hover_glyph\":null,\"muted_glyph\":{\"id\":\"3099\"},\"nonselection_glyph\":{\"id\":\"3098\"},\"selection_glyph\":{\"id\":\"3102\"},\"view\":{\"id\":\"3101\"}},\"id\":\"3100\",\"type\":\"GlyphRenderer\"},{\"attributes\":{},\"id\":\"3072\",\"type\":\"LinearScale\"},{\"attributes\":{},\"id\":\"3070\",\"type\":\"CategoricalScale\"}],\"root_ids\":[\"3060\"]},\"title\":\"Bokeh Application\",\"version\":\"2.4.2\"}};\n",
       "    var render_items = [{\"docid\":\"9ded4ff4-9eb9-4c1c-b77b-f72605cf6d82\",\"root_ids\":[\"3060\"],\"roots\":{\"3060\":\"859c9277-3ada-4fd3-9d93-2bd5a2b233f9\"}}];\n",
       "    root.Bokeh.embed.embed_items_notebook(docs_json, render_items);\n",
       "  }\n",
       "  if (root.Bokeh !== undefined && root.Bokeh.Panel !== undefined) {\n",
       "    embed_document(root);\n",
       "  } else {\n",
       "    var attempts = 0;\n",
       "    var timer = setInterval(function(root) {\n",
       "      if (root.Bokeh !== undefined && root.Bokeh.Panel !== undefined) {\n",
       "        clearInterval(timer);\n",
       "        embed_document(root);\n",
       "      } else if (document.readyState == \"complete\") {\n",
       "        attempts++;\n",
       "        if (attempts > 200) {\n",
       "          clearInterval(timer);\n",
       "          console.log(\"Bokeh: ERROR: Unable to run BokehJS code because BokehJS library is missing\");\n",
       "        }\n",
       "      }\n",
       "    }, 25, root)\n",
       "  }\n",
       "})(window);</script>"
      ],
      "text/plain": [
       ":Bars   [Term]   (Ending Period Accrued Interest)"
      ]
     },
     "execution_count": 44,
     "metadata": {
      "application/vnd.holoviews_exec.v0+json": {
       "id": "3060"
      }
     },
     "output_type": "execute_result"
    }
   ],
   "source": [
    "# Create a visual aggregation explore the Total Accrued Interest by loan segment\n",
    "interest_by_term.hvplot.bar( xlabel='Total Interest Accrued', ylabel='Term', color=\"blue\", rot=90)\n",
    "\n",
    "interest_by_term.hvplot.bar(title=\"Total Interest Accrued by Term\")"
   ]
  },
  {
   "cell_type": "code",
   "execution_count": 45,
   "id": "aab2d4e4-aab3-435f-a19a-5592bdd944b7",
   "metadata": {},
   "outputs": [
    {
     "data": {
      "text/plain": [
       "Term\n",
       "24     8843.048120\n",
       "36     9432.985626\n",
       "48    11989.720438\n",
       "60    17720.415436\n",
       "Name: Ending Principal Outstanding, dtype: float64"
      ]
     },
     "execution_count": 45,
     "metadata": {},
     "output_type": "execute_result"
    }
   ],
   "source": [
    "# Create a numerical aggregation that groups the data by the year and then averages the results.\n",
    "loan_by_term= loan_df.groupby('Term')['Ending Principal Outstanding'].mean()\n",
    "\n",
    "# Review the DataFrame\n",
    "loan_by_term"
   ]
  },
  {
   "cell_type": "code",
   "execution_count": 46,
   "id": "aa79534b-53d2-4e53-af7e-3ac90781f04f",
   "metadata": {},
   "outputs": [
    {
     "data": {},
     "metadata": {},
     "output_type": "display_data"
    },
    {
     "data": {
      "application/vnd.holoviews_exec.v0+json": "",
      "text/html": [
       "<div id='3181'>\n",
       "\n",
       "\n",
       "\n",
       "\n",
       "\n",
       "  <div class=\"bk-root\" id=\"2574abb6-8756-426e-840b-1944ba29d048\" data-root-id=\"3181\"></div>\n",
       "</div>\n",
       "<script type=\"application/javascript\">(function(root) {\n",
       "  function embed_document(root) {\n",
       "    var docs_json = {\"25312d0b-2712-4d96-9a41-915c9189e826\":{\"defs\":[{\"extends\":null,\"module\":null,\"name\":\"ReactiveHTML1\",\"overrides\":[],\"properties\":[]},{\"extends\":null,\"module\":null,\"name\":\"FlexBox1\",\"overrides\":[],\"properties\":[{\"default\":\"flex-start\",\"kind\":null,\"name\":\"align_content\"},{\"default\":\"flex-start\",\"kind\":null,\"name\":\"align_items\"},{\"default\":\"row\",\"kind\":null,\"name\":\"flex_direction\"},{\"default\":\"wrap\",\"kind\":null,\"name\":\"flex_wrap\"},{\"default\":\"flex-start\",\"kind\":null,\"name\":\"justify_content\"}]},{\"extends\":null,\"module\":null,\"name\":\"GridStack1\",\"overrides\":[],\"properties\":[{\"default\":\"warn\",\"kind\":null,\"name\":\"mode\"},{\"default\":null,\"kind\":null,\"name\":\"ncols\"},{\"default\":null,\"kind\":null,\"name\":\"nrows\"},{\"default\":true,\"kind\":null,\"name\":\"allow_resize\"},{\"default\":true,\"kind\":null,\"name\":\"allow_drag\"},{\"default\":[],\"kind\":null,\"name\":\"state\"}]},{\"extends\":null,\"module\":null,\"name\":\"click1\",\"overrides\":[],\"properties\":[{\"default\":\"\",\"kind\":null,\"name\":\"terminal_output\"},{\"default\":\"\",\"kind\":null,\"name\":\"debug_name\"},{\"default\":0,\"kind\":null,\"name\":\"clears\"}]},{\"extends\":null,\"module\":null,\"name\":\"TemplateActions1\",\"overrides\":[],\"properties\":[{\"default\":0,\"kind\":null,\"name\":\"open_modal\"},{\"default\":0,\"kind\":null,\"name\":\"close_modal\"}]},{\"extends\":null,\"module\":null,\"name\":\"MaterialTemplateActions1\",\"overrides\":[],\"properties\":[{\"default\":0,\"kind\":null,\"name\":\"open_modal\"},{\"default\":0,\"kind\":null,\"name\":\"close_modal\"}]}],\"roots\":{\"references\":[{\"attributes\":{\"overlay\":{\"id\":\"3207\"}},\"id\":\"3205\",\"type\":\"BoxZoomTool\"},{\"attributes\":{\"bottom\":{\"value\":0},\"fill_alpha\":{\"value\":1.0},\"fill_color\":{\"value\":\"#30a2da\"},\"hatch_alpha\":{\"value\":1.0},\"hatch_color\":{\"value\":\"#30a2da\"},\"hatch_scale\":{\"value\":12.0},\"hatch_weight\":{\"value\":1.0},\"line_alpha\":{\"value\":1.0},\"line_cap\":{\"value\":\"butt\"},\"line_color\":{\"value\":\"black\"},\"line_dash\":{\"value\":[]},\"line_dash_offset\":{\"value\":0},\"line_join\":{\"value\":\"bevel\"},\"line_width\":{\"value\":1},\"top\":{\"field\":\"Ending_Principal_Outstanding\"},\"width\":{\"value\":0.8},\"x\":{\"field\":\"Term\"}},\"id\":\"3223\",\"type\":\"VBar\"},{\"attributes\":{\"coordinates\":null,\"data_source\":{\"id\":\"3215\"},\"glyph\":{\"id\":\"3218\"},\"group\":null,\"hover_glyph\":null,\"muted_glyph\":{\"id\":\"3220\"},\"nonselection_glyph\":{\"id\":\"3219\"},\"selection_glyph\":{\"id\":\"3223\"},\"view\":{\"id\":\"3222\"}},\"id\":\"3221\",\"type\":\"GlyphRenderer\"},{\"attributes\":{\"axis_label\":\"Term\",\"coordinates\":null,\"formatter\":{\"id\":\"3225\"},\"group\":null,\"major_label_policy\":{\"id\":\"3226\"},\"ticker\":{\"id\":\"3196\"}},\"id\":\"3195\",\"type\":\"CategoricalAxis\"},{\"attributes\":{\"coordinates\":null,\"group\":null,\"text\":\"Average Principal Ouststanding by Term\",\"text_color\":\"black\",\"text_font_size\":\"12pt\"},\"id\":\"3187\",\"type\":\"Title\"},{\"attributes\":{\"axis\":{\"id\":\"3195\"},\"coordinates\":null,\"grid_line_color\":null,\"group\":null,\"ticker\":null},\"id\":\"3197\",\"type\":\"Grid\"},{\"attributes\":{},\"id\":\"3191\",\"type\":\"CategoricalScale\"},{\"attributes\":{},\"id\":\"3204\",\"type\":\"WheelZoomTool\"},{\"attributes\":{},\"id\":\"3193\",\"type\":\"LinearScale\"},{\"attributes\":{},\"id\":\"3199\",\"type\":\"BasicTicker\"},{\"attributes\":{},\"id\":\"3196\",\"type\":\"CategoricalTicker\"},{\"attributes\":{\"bottom_units\":\"screen\",\"coordinates\":null,\"fill_alpha\":0.5,\"fill_color\":\"lightgrey\",\"group\":null,\"left_units\":\"screen\",\"level\":\"overlay\",\"line_alpha\":1.0,\"line_color\":\"black\",\"line_dash\":[4,4],\"line_width\":2,\"right_units\":\"screen\",\"syncable\":false,\"top_units\":\"screen\"},\"id\":\"3207\",\"type\":\"BoxAnnotation\"},{\"attributes\":{\"axis_label\":\"\",\"coordinates\":null,\"formatter\":{\"id\":\"3228\"},\"group\":null,\"major_label_policy\":{\"id\":\"3229\"},\"ticker\":{\"id\":\"3199\"}},\"id\":\"3198\",\"type\":\"LinearAxis\"},{\"attributes\":{\"axis\":{\"id\":\"3198\"},\"coordinates\":null,\"dimension\":1,\"grid_line_color\":null,\"group\":null,\"ticker\":null},\"id\":\"3201\",\"type\":\"Grid\"},{\"attributes\":{},\"id\":\"3229\",\"type\":\"AllLabels\"},{\"attributes\":{\"tools\":[{\"id\":\"3185\"},{\"id\":\"3202\"},{\"id\":\"3203\"},{\"id\":\"3204\"},{\"id\":\"3205\"},{\"id\":\"3206\"}]},\"id\":\"3208\",\"type\":\"Toolbar\"},{\"attributes\":{\"end\":18608.152167498076,\"reset_end\":18608.152167498076,\"reset_start\":0.0,\"tags\":[[[\"Ending Principal Outstanding\",\"Ending Principal Outstanding\",null]]]},\"id\":\"3184\",\"type\":\"Range1d\"},{\"attributes\":{\"children\":[{\"id\":\"3182\"},{\"id\":\"3186\"},{\"id\":\"3250\"}],\"margin\":[0,0,0,0],\"name\":\"Row05983\",\"tags\":[\"embedded\"]},\"id\":\"3181\",\"type\":\"Row\"},{\"attributes\":{\"data\":{\"Ending_Principal_Outstanding\":{\"__ndarray__\":\"FufKKIZFwUDkRfsofmzCQOvEUDfcasdARHKAlhpO0UA=\",\"dtype\":\"float64\",\"order\":\"little\",\"shape\":[4]},\"Term\":[\"24\",\"36\",\"48\",\"60\"]},\"selected\":{\"id\":\"3216\"},\"selection_policy\":{\"id\":\"3237\"}},\"id\":\"3215\",\"type\":\"ColumnDataSource\"},{\"attributes\":{\"margin\":[5,5,5,5],\"name\":\"HSpacer05988\",\"sizing_mode\":\"stretch_width\"},\"id\":\"3250\",\"type\":\"Spacer\"},{\"attributes\":{},\"id\":\"3225\",\"type\":\"CategoricalTickFormatter\"},{\"attributes\":{\"below\":[{\"id\":\"3195\"}],\"center\":[{\"id\":\"3197\"},{\"id\":\"3201\"}],\"height\":300,\"left\":[{\"id\":\"3198\"}],\"margin\":[5,5,5,5],\"min_border_bottom\":10,\"min_border_left\":10,\"min_border_right\":10,\"min_border_top\":10,\"renderers\":[{\"id\":\"3221\"}],\"sizing_mode\":\"fixed\",\"title\":{\"id\":\"3187\"},\"toolbar\":{\"id\":\"3208\"},\"width\":700,\"x_range\":{\"id\":\"3183\"},\"x_scale\":{\"id\":\"3191\"},\"y_range\":{\"id\":\"3184\"},\"y_scale\":{\"id\":\"3193\"}},\"id\":\"3186\",\"subtype\":\"Figure\",\"type\":\"Plot\"},{\"attributes\":{\"factors\":[\"24\",\"36\",\"48\",\"60\"],\"tags\":[[[\"Term\",\"Term\",null]]]},\"id\":\"3183\",\"type\":\"FactorRange\"},{\"attributes\":{\"fill_alpha\":{\"value\":0.2},\"fill_color\":{\"value\":\"#30a2da\"},\"hatch_alpha\":{\"value\":0.2},\"hatch_color\":{\"value\":\"#30a2da\"},\"line_alpha\":{\"value\":0.2},\"top\":{\"field\":\"Ending_Principal_Outstanding\"},\"width\":{\"value\":0.8},\"x\":{\"field\":\"Term\"}},\"id\":\"3220\",\"type\":\"VBar\"},{\"attributes\":{\"margin\":[5,5,5,5],\"name\":\"HSpacer05987\",\"sizing_mode\":\"stretch_width\"},\"id\":\"3182\",\"type\":\"Spacer\"},{\"attributes\":{},\"id\":\"3226\",\"type\":\"AllLabels\"},{\"attributes\":{},\"id\":\"3228\",\"type\":\"BasicTickFormatter\"},{\"attributes\":{},\"id\":\"3237\",\"type\":\"UnionRenderers\"},{\"attributes\":{\"source\":{\"id\":\"3215\"}},\"id\":\"3222\",\"type\":\"CDSView\"},{\"attributes\":{\"fill_color\":{\"value\":\"#30a2da\"},\"hatch_color\":{\"value\":\"#30a2da\"},\"top\":{\"field\":\"Ending_Principal_Outstanding\"},\"width\":{\"value\":0.8},\"x\":{\"field\":\"Term\"}},\"id\":\"3218\",\"type\":\"VBar\"},{\"attributes\":{},\"id\":\"3202\",\"type\":\"SaveTool\"},{\"attributes\":{},\"id\":\"3203\",\"type\":\"PanTool\"},{\"attributes\":{},\"id\":\"3206\",\"type\":\"ResetTool\"},{\"attributes\":{},\"id\":\"3216\",\"type\":\"Selection\"},{\"attributes\":{\"fill_alpha\":{\"value\":0.1},\"fill_color\":{\"value\":\"#30a2da\"},\"hatch_alpha\":{\"value\":0.1},\"hatch_color\":{\"value\":\"#30a2da\"},\"line_alpha\":{\"value\":0.1},\"top\":{\"field\":\"Ending_Principal_Outstanding\"},\"width\":{\"value\":0.8},\"x\":{\"field\":\"Term\"}},\"id\":\"3219\",\"type\":\"VBar\"},{\"attributes\":{\"callback\":null,\"renderers\":[{\"id\":\"3221\"}],\"tags\":[\"hv_created\"],\"tooltips\":[[\"Term\",\"@{Term}\"],[\"Ending Principal Outstanding\",\"@{Ending_Principal_Outstanding}\"]]},\"id\":\"3185\",\"type\":\"HoverTool\"}],\"root_ids\":[\"3181\"]},\"title\":\"Bokeh Application\",\"version\":\"2.4.2\"}};\n",
       "    var render_items = [{\"docid\":\"25312d0b-2712-4d96-9a41-915c9189e826\",\"root_ids\":[\"3181\"],\"roots\":{\"3181\":\"2574abb6-8756-426e-840b-1944ba29d048\"}}];\n",
       "    root.Bokeh.embed.embed_items_notebook(docs_json, render_items);\n",
       "  }\n",
       "  if (root.Bokeh !== undefined && root.Bokeh.Panel !== undefined) {\n",
       "    embed_document(root);\n",
       "  } else {\n",
       "    var attempts = 0;\n",
       "    var timer = setInterval(function(root) {\n",
       "      if (root.Bokeh !== undefined && root.Bokeh.Panel !== undefined) {\n",
       "        clearInterval(timer);\n",
       "        embed_document(root);\n",
       "      } else if (document.readyState == \"complete\") {\n",
       "        attempts++;\n",
       "        if (attempts > 200) {\n",
       "          clearInterval(timer);\n",
       "          console.log(\"Bokeh: ERROR: Unable to run BokehJS code because BokehJS library is missing\");\n",
       "        }\n",
       "      }\n",
       "    }, 25, root)\n",
       "  }\n",
       "})(window);</script>"
      ],
      "text/plain": [
       ":Bars   [Term]   (Ending Principal Outstanding)"
      ]
     },
     "execution_count": 46,
     "metadata": {
      "application/vnd.holoviews_exec.v0+json": {
       "id": "3181"
      }
     },
     "output_type": "execute_result"
    }
   ],
   "source": [
    "loan_by_term.hvplot.bar( xlabel='Average Principal Ouststanding', ylabel='Term', color=\"blue\", rot=90)\n",
    "\n",
    "loan_by_term.hvplot.bar(title=\"Average Principal Ouststanding by Term\")"
   ]
  },
  {
   "cell_type": "code",
   "execution_count": 56,
   "id": "25c2db82-9029-4727-bb4c-e19ce457c75e",
   "metadata": {},
   "outputs": [
    {
     "data": {
      "text/plain": [
       "FICO_Range\n",
       "625-650    42.177732\n",
       "650-700    42.507042\n",
       "700-750    42.332326\n",
       "<625       41.775531\n",
       ">750       41.687500\n",
       "Name: Term, dtype: float64"
      ]
     },
     "execution_count": 56,
     "metadata": {},
     "output_type": "execute_result"
    }
   ],
   "source": [
    "# Create a numerical aggregation that groups the data by the year and then averages the results.\n",
    "FICO_by_term= loan_df.groupby('FICO_Range')['Term'].mean()\n",
    "\n",
    "# Review the DataFrame\n",
    "FICO_by_term"
   ]
  },
  {
   "cell_type": "code",
   "execution_count": null,
   "id": "bb673672-a639-4673-95f8-3af48c229d61",
   "metadata": {},
   "outputs": [],
   "source": []
  }
 ],
 "metadata": {
  "kernelspec": {
   "display_name": "Python 3 (ipykernel)",
   "language": "python",
   "name": "python3"
  },
  "language_info": {
   "codemirror_mode": {
    "name": "ipython",
    "version": 3
   },
   "file_extension": ".py",
   "mimetype": "text/x-python",
   "name": "python",
   "nbconvert_exporter": "python",
   "pygments_lexer": "ipython3",
   "version": "3.7.13"
  }
 },
 "nbformat": 4,
 "nbformat_minor": 5
}
