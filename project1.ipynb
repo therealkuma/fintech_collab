{
 "cells": [
  {
   "cell_type": "code",
   "execution_count": 32,
   "id": "cfa9a32f-ce7d-4603-954a-947d09c790d5",
   "metadata": {},
   "outputs": [
    {
     "name": "stdout",
     "output_type": "stream",
     "text": [
      "beginning balance is 47,927,569.16\n",
      "Ending balance is 57,185,195.94\n"
     ]
    }
   ],
   "source": [
    "import pandas as pd\n",
    "import numpy as np\n",
    "from datetime import datetime, timedelta\n",
    "from pathlib import Path\n",
    "\n",
    "\n",
    "loan_data = Path(\"../project_1/loan_data.xlsx\")\n",
    "\n",
    "loan_df = pd.read_excel(loan_data, header=0, index_col=\"Purchase Date\")\n",
    "\n",
    "#loan_df['Purchase_Date'] = (datetime.utcfromtimestamp(0) + timedelta(loan_df['Purchase Date']).strftime(\"%Y-%m-%d\"))\n",
    "\n",
    "loan_df.columns = loan_df.columns.str.strip()\n",
    "loan_df.columns\n",
    "\n",
    "#for i in loan_df.columns\n",
    "\n",
    "b = loan_df['Beginning Period Principal Outstanding'].sum()\n",
    "e = loan_df['Ending Principal Outstanding'].sum()\n",
    "print(f\"Beginning balance is {b:,}\")\n",
    "print(f\"Ending balance is {e:,}\")\n",
    "# loan_df.columns\n"
   ]
  },
  {
   "cell_type": "code",
   "execution_count": null,
   "id": "a81e83cf-7ddb-4cbc-b124-1612d36e8719",
   "metadata": {},
   "outputs": [],
   "source": []
  }
 ],
 "metadata": {
  "kernelspec": {
   "display_name": "Python 3 (ipykernel)",
   "language": "python",
   "name": "python3"
  },
  "language_info": {
   "codemirror_mode": {
    "name": "ipython",
    "version": 3
   },
   "file_extension": ".py",
   "mimetype": "text/x-python",
   "name": "python",
   "nbconvert_exporter": "python",
   "pygments_lexer": "ipython3",
   "version": "3.7.13"
  }
 },
 "nbformat": 4,
 "nbformat_minor": 5
}
